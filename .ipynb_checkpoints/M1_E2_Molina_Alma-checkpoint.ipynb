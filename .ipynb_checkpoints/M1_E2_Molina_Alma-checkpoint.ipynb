{
 "cells": [
  {
   "cell_type": "markdown",
   "id": "3dd5556a-a3d2-4b5b-b01f-d379dec77b17",
   "metadata": {},
   "source": [
    "# Clase 2. Recursividad: Serie Fibonacci."
   ]
  },
  {
   "cell_type": "markdown",
   "id": "e91f2ce1-3fb3-4ac2-8809-9cc05c59cd67",
   "metadata": {},
   "source": [
    "### 19 de febrero 2025"
   ]
  },
  {
   "cell_type": "code",
   "execution_count": 15,
   "id": "44177d52-53b5-47c5-b6c0-a7e26dd88194",
   "metadata": {},
   "outputs": [
    {
     "data": {
      "text/plain": [
       "233"
      ]
     },
     "execution_count": 15,
     "metadata": {},
     "output_type": "execute_result"
    }
   ],
   "source": [
    "#n es el valor de entrada. (Número natural)\n",
    "\n",
    "def fibonacci(n): #El valor de entrada.\n",
    "    #Inicia proceso de la función.\n",
    "    if (n == 0 or n == 1): #Es el valor base. (Una condición que compara a n)\n",
    "        return n  #Regresa el valor original de n si el valor es = 1 o 0.\n",
    "    else: #Si n≠1 y n≠0, continúa con el siguiente proceso.\n",
    "        return (fibonacci(n-1) + fibonacci(n-2)) #Paso recursivo. La función se llama a sí misma para obtener los dos valores previos en la suceción y poder sumarlos.\n",
    "        #Al concluir regresa el valor correspondiente a la posición 13 de la serie y termina el proceso.\n",
    "\n",
    "fibonacci(13) #Llama a la función fibonacci() con un parámetro de entrada fijo.\n"
   ]
  },
  {
   "cell_type": "markdown",
   "id": "b882c3c1-6867-4724-8a00-f553c4942727",
   "metadata": {},
   "source": [
    "Referencia\n",
    "\n",
    ">Bel, W. (2020). _Algoritmos y estructuras de datos en Python. Un enfoque ágil y estructurado._ Editorial Uader. https://editorial.uader.edu.ar/sites/default/files/imagenes-sitio/colecciones/amalgama/algoritmos-y-estructuras-de-datos-en-phyton/algoritmos-y-estructuras-de-datos-en-python-digital.pdf"
   ]
  },
  {
   "cell_type": "code",
   "execution_count": null,
   "id": "a4c02a63-7a84-4d4b-98c9-7e6d9fd34d7b",
   "metadata": {},
   "outputs": [],
   "source": []
  }
 ],
 "metadata": {
  "kernelspec": {
   "display_name": "Python 3 (ipykernel)",
   "language": "python",
   "name": "python3"
  },
  "language_info": {
   "codemirror_mode": {
    "name": "ipython",
    "version": 3
   },
   "file_extension": ".py",
   "mimetype": "text/x-python",
   "name": "python",
   "nbconvert_exporter": "python",
   "pygments_lexer": "ipython3",
   "version": "3.12.7"
  }
 },
 "nbformat": 4,
 "nbformat_minor": 5
}
