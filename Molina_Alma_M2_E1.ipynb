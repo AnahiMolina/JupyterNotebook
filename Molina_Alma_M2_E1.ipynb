{
 "cells": [
  {
   "cell_type": "markdown",
   "id": "440be3c1-c4ec-423e-b5e9-46165593d32f",
   "metadata": {},
   "source": [
    "# Ejercicio de Estructuras\n",
    "\n",
    "Molina Serrano Alma Anahí"
   ]
  },
  {
   "cell_type": "code",
   "execution_count": 3,
   "id": "35175b47-0181-4a10-8834-7c7d69e1d89b",
   "metadata": {},
   "outputs": [
    {
     "name": "stderr",
     "output_type": "stream",
     "text": [
      "Your code contains a unicode char which cannot be displayed in your\n",
      "current locale and R will silently convert it to an escaped form when the\n",
      "R kernel executes this code. This can lead to subtle errors if you use\n",
      "such chars to do comparisons. For more information, please see\n",
      "https://github.com/IRkernel/repr/wiki/Problems-with-unicode-on-windows"
     ]
    },
    {
     "data": {
      "text/html": [
       "<ol class=list-inline>\n",
       "\t<li>-1.28</li>\n",
       "\t<li>0.69</li>\n",
       "\t<li>0.15</li>\n",
       "\t<li>0.45</li>\n",
       "\t<li>1.2</li>\n",
       "\t<li>-0.54</li>\n",
       "\t<li>0.75</li>\n",
       "\t<li>1.33</li>\n",
       "\t<li>-1.54</li>\n",
       "\t<li>-0.97</li>\n",
       "\t<li>-1.76</li>\n",
       "\t<li>1.03</li>\n",
       "\t<li>-0.16</li>\n",
       "\t<li>1.29</li>\n",
       "\t<li>0.32</li>\n",
       "\t<li>-0.25</li>\n",
       "\t<li>0.65</li>\n",
       "\t<li>-0.94</li>\n",
       "\t<li>-0.51</li>\n",
       "\t<li>-0.53</li>\n",
       "</ol>\n"
      ],
      "text/latex": [
       "\\begin{enumerate*}\n",
       "\\item -1.28\n",
       "\\item 0.69\n",
       "\\item 0.15\n",
       "\\item 0.45\n",
       "\\item 1.2\n",
       "\\item -0.54\n",
       "\\item 0.75\n",
       "\\item 1.33\n",
       "\\item -1.54\n",
       "\\item -0.97\n",
       "\\item -1.76\n",
       "\\item 1.03\n",
       "\\item -0.16\n",
       "\\item 1.29\n",
       "\\item 0.32\n",
       "\\item -0.25\n",
       "\\item 0.65\n",
       "\\item -0.94\n",
       "\\item -0.51\n",
       "\\item -0.53\n",
       "\\end{enumerate*}\n"
      ],
      "text/markdown": [
       "1. -1.28\n",
       "2. 0.69\n",
       "3. 0.15\n",
       "4. 0.45\n",
       "5. 1.2\n",
       "6. -0.54\n",
       "7. 0.75\n",
       "8. 1.33\n",
       "9. -1.54\n",
       "10. -0.97\n",
       "11. -1.76\n",
       "12. 1.03\n",
       "13. -0.16\n",
       "14. 1.29\n",
       "15. 0.32\n",
       "16. -0.25\n",
       "17. 0.65\n",
       "18. -0.94\n",
       "19. -0.51\n",
       "20. -0.53\n",
       "\n",
       "\n"
      ],
      "text/plain": [
       " [1] -1.28  0.69  0.15  0.45  1.20 -0.54  0.75  1.33 -1.54 -0.97 -1.76  1.03\n",
       "[13] -0.16  1.29  0.32 -0.25  0.65 -0.94 -0.51 -0.53"
      ]
     },
     "metadata": {},
     "output_type": "display_data"
    }
   ],
   "source": [
    "# 1. Genere un vector llamado 𝒗𝟏 con 20 datos numéricos aleatorios con distribución normal estándar redondeados a dos cifras decimales.\n",
    "set.seed(1716)\n",
    "\n",
    "v1 <- round(rnorm(n=20),2)\n",
    "v1"
   ]
  },
  {
   "cell_type": "code",
   "execution_count": null,
   "id": "c457c820-e5f4-4e92-8fc4-75ef2dffed5b",
   "metadata": {},
   "outputs": [],
   "source": []
  }
 ],
 "metadata": {
  "kernelspec": {
   "display_name": "R",
   "language": "R",
   "name": "ir"
  },
  "language_info": {
   "codemirror_mode": "r",
   "file_extension": ".r",
   "mimetype": "text/x-r-source",
   "name": "R",
   "pygments_lexer": "r",
   "version": "3.6.1"
  }
 },
 "nbformat": 4,
 "nbformat_minor": 5
}
