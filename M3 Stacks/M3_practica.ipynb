{
 "cells": [
  {
   "cell_type": "markdown",
   "id": "c750f523-aac1-4ef3-be85-8cc11155ec40",
   "metadata": {},
   "source": [
    "# Pilas"
   ]
  },
  {
   "cell_type": "markdown",
   "id": "d5d8f89e-6a53-4ad6-997f-08d47813ef14",
   "metadata": {},
   "source": [
    "- Crear una clase para Pilas.\n",
    "- class Stack\n",
    "- Integrar métodos (Operaciones qu ese pueden aplicar a las pilas)"
   ]
  },
  {
   "cell_type": "code",
   "execution_count": 3,
   "id": "70fb6eef-62a3-4c76-9e16-646e4cf44f76",
   "metadata": {},
   "outputs": [],
   "source": [
    "#Clase Pilas (Stack)\n",
    "\n",
    "class Stack:\n",
    "    #Constructor\n",
    "    def __init__(self):\n",
    "        self.stack=[]\n",
    "    #Métodos\n",
    "    def push (self, data):\n",
    "        self.stack.append(data)\n",
    "        print(self.stack)\n",
    "    def pop (self):\n",
    "        self.stack.pop()\n",
    "        print(self.stack)\n",
    "    def empty (self):\n",
    "        if len(self.stack)==0: \n",
    "            print(\"Empty Stack\")\n",
    "        else: \n",
    "            print(\"No Empty Stack\")\n",
    "    def size (self):\n",
    "        return len(self.stack)\n",
    "    def top (self):\n",
    "        return(self.stack[-1])\n",
    "        \n",
    "    "
   ]
  },
  {
   "cell_type": "code",
   "execution_count": 4,
   "id": "6f58163f-3879-481e-9d87-34364a87539e",
   "metadata": {},
   "outputs": [
    {
     "data": {
      "text/plain": [
       "__main__.Stack"
      ]
     },
     "execution_count": 4,
     "metadata": {},
     "output_type": "execute_result"
    }
   ],
   "source": [
    "# Utilizar la clase para crear una pila\n",
    "# Crear una pila vacía \n",
    "st1 = Stack()\n",
    "type(st1)"
   ]
  },
  {
   "cell_type": "code",
   "execution_count": 5,
   "id": "0aca3868-7be2-46a9-ab46-697ac2080382",
   "metadata": {},
   "outputs": [
    {
     "name": "stdout",
     "output_type": "stream",
     "text": [
      "Empty Stack\n"
     ]
    }
   ],
   "source": [
    "st1.empty()"
   ]
  },
  {
   "cell_type": "code",
   "execution_count": 6,
   "id": "39e75a07-1716-40e8-866f-876b48fa4c9a",
   "metadata": {
    "collapsed": true,
    "jupyter": {
     "outputs_hidden": true
    },
    "scrolled": true
   },
   "outputs": [
    {
     "name": "stdout",
     "output_type": "stream",
     "text": [
      "[100]\n",
      "[100, 101]\n",
      "[100, 101, 102]\n",
      "[100, 101, 102, 103]\n",
      "[100, 101, 102, 103, 104]\n",
      "[100, 101, 102, 103, 104, 105]\n",
      "[100, 101, 102, 103, 104, 105, 106]\n",
      "[100, 101, 102, 103, 104, 105, 106, 107]\n",
      "[100, 101, 102, 103, 104, 105, 106, 107, 108]\n",
      "[100, 101, 102, 103, 104, 105, 106, 107, 108, 109]\n",
      "[100, 101, 102, 103, 104, 105, 106, 107, 108, 109, 110]\n",
      "[100, 101, 102, 103, 104, 105, 106, 107, 108, 109, 110, 111]\n",
      "[100, 101, 102, 103, 104, 105, 106, 107, 108, 109, 110, 111, 112]\n",
      "[100, 101, 102, 103, 104, 105, 106, 107, 108, 109, 110, 111, 112, 113]\n",
      "[100, 101, 102, 103, 104, 105, 106, 107, 108, 109, 110, 111, 112, 113, 114]\n",
      "[100, 101, 102, 103, 104, 105, 106, 107, 108, 109, 110, 111, 112, 113, 114, 115]\n",
      "[100, 101, 102, 103, 104, 105, 106, 107, 108, 109, 110, 111, 112, 113, 114, 115, 116]\n",
      "[100, 101, 102, 103, 104, 105, 106, 107, 108, 109, 110, 111, 112, 113, 114, 115, 116, 117]\n",
      "[100, 101, 102, 103, 104, 105, 106, 107, 108, 109, 110, 111, 112, 113, 114, 115, 116, 117, 118]\n",
      "[100, 101, 102, 103, 104, 105, 106, 107, 108, 109, 110, 111, 112, 113, 114, 115, 116, 117, 118, 119]\n",
      "[100, 101, 102, 103, 104, 105, 106, 107, 108, 109, 110, 111, 112, 113, 114, 115, 116, 117, 118, 119, 120]\n"
     ]
    }
   ],
   "source": [
    "#Crear una pila con los números consecutivos del 100 al 120\n",
    "for i in range(100,121):\n",
    "    st1.push(i)"
   ]
  },
  {
   "cell_type": "code",
   "execution_count": 7,
   "id": "12411c20-cefa-4491-b018-be65fe859597",
   "metadata": {},
   "outputs": [
    {
     "name": "stdout",
     "output_type": "stream",
     "text": [
      "[100, 101, 102, 103, 104, 105, 106, 107, 108, 109, 110, 111, 112, 113, 114, 115, 116, 117, 118, 119]\n",
      "[100, 101, 102, 103, 104, 105, 106, 107, 108, 109, 110, 111, 112, 113, 114, 115, 116, 117, 118]\n",
      "[100, 101, 102, 103, 104, 105, 106, 107, 108, 109, 110, 111, 112, 113, 114, 115, 116, 117]\n",
      "[100, 101, 102, 103, 104, 105, 106, 107, 108, 109, 110, 111, 112, 113, 114, 115, 116]\n",
      "[100, 101, 102, 103, 104, 105, 106, 107, 108, 109, 110, 111, 112, 113, 114, 115]\n",
      "[100, 101, 102, 103, 104, 105, 106, 107, 108, 109, 110, 111, 112, 113, 114]\n",
      "[100, 101, 102, 103, 104, 105, 106, 107, 108, 109, 110, 111, 112, 113]\n",
      "[100, 101, 102, 103, 104, 105, 106, 107, 108, 109, 110, 111, 112]\n",
      "[100, 101, 102, 103, 104, 105, 106, 107, 108, 109, 110, 111]\n"
     ]
    }
   ],
   "source": [
    "#Despilar los últimos 10 datos\n",
    "for i in range (9):\n",
    "    st1.pop()"
   ]
  },
  {
   "cell_type": "code",
   "execution_count": 8,
   "id": "f7c82d22-084c-4bde-a5ed-6a6d62c05908",
   "metadata": {},
   "outputs": [
    {
     "name": "stdout",
     "output_type": "stream",
     "text": [
      "No Empty Stack\n"
     ]
    }
   ],
   "source": [
    "st1.empty()"
   ]
  },
  {
   "cell_type": "code",
   "execution_count": 9,
   "id": "ef21147e-168c-4359-8ff8-6f4a3946be2c",
   "metadata": {},
   "outputs": [
    {
     "data": {
      "text/plain": [
       "12"
      ]
     },
     "execution_count": 9,
     "metadata": {},
     "output_type": "execute_result"
    }
   ],
   "source": [
    "st1.size()"
   ]
  },
  {
   "cell_type": "code",
   "execution_count": 10,
   "id": "1e8f7441-4a0b-4e55-b621-91b2e82575bf",
   "metadata": {},
   "outputs": [
    {
     "data": {
      "text/plain": [
       "111"
      ]
     },
     "execution_count": 10,
     "metadata": {},
     "output_type": "execute_result"
    }
   ],
   "source": [
    "st1.top()"
   ]
  },
  {
   "cell_type": "code",
   "execution_count": null,
   "id": "65cec9ea-2a23-4872-9224-fe4f90e819de",
   "metadata": {},
   "outputs": [],
   "source": []
  }
 ],
 "metadata": {
  "kernelspec": {
   "display_name": "Python 3 (ipykernel)",
   "language": "python",
   "name": "python3"
  },
  "language_info": {
   "codemirror_mode": {
    "name": "ipython",
    "version": 3
   },
   "file_extension": ".py",
   "mimetype": "text/x-python",
   "name": "python",
   "nbconvert_exporter": "python",
   "pygments_lexer": "ipython3",
   "version": "3.12.7"
  }
 },
 "nbformat": 4,
 "nbformat_minor": 5
}
