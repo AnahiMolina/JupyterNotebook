{
 "cells": [
  {
   "cell_type": "markdown",
   "id": "42ffaba4-b073-4bd7-b8e6-568d699f1ed0",
   "metadata": {},
   "source": [
    "# Ejercicio 2 Módulo 4"
   ]
  },
  {
   "cell_type": "markdown",
   "id": "dd61ac35-f892-49b9-9717-b3eaa70c4dae",
   "metadata": {},
   "source": [
    "### Ejercicio 1:"
   ]
  },
  {
   "cell_type": "code",
   "execution_count": 3,
   "id": "08a1205d-6086-4e0a-a640-13563ce1db4e",
   "metadata": {},
   "outputs": [],
   "source": [
    "import numpy as np\n",
    "from queue import Queue\n",
    "\n",
    "class MyQueue():\n",
    "    def __init__(self,n): # n es el número de elementos.\n",
    "        self.elements = Queue(maxsize=n) # elements se puede cambiar.\n",
    "\n",
    "    def enqueue(self, element): # Agregar elementos.\n",
    "        self.elements.put(element)\n",
    "\n",
    "    def dequeue(self): # Quitar elementos.\n",
    "        return self.elements.get()\n",
    "\n",
    "    def full(self): # \n",
    "        return self.elements.full()\n",
    "\n",
    "    def empty(self):\n",
    "        return self.elements.empty()\n",
    "        \n",
    "    def qsize(self):\n",
    "        return self.elements.qsize()"
   ]
  },
  {
   "cell_type": "code",
   "execution_count": 4,
   "id": "dd742935-6119-436b-b92f-4a985b87ed3d",
   "metadata": {},
   "outputs": [],
   "source": [
    "Q1 = MyQueue(30)"
   ]
  },
  {
   "cell_type": "code",
   "execution_count": 5,
   "id": "c5d968be-389d-41ea-8c8e-56accfd80e69",
   "metadata": {},
   "outputs": [],
   "source": [
    "# Añadir a Q1 (enqueue) los números aleatorios de una distribución normal (𝝁 = 𝟏𝟎,𝝈𝟐 = 𝟐𝟓) (usar una cifra decimal y semilla=1004).\n",
    "q1 = np.around(np.random.default_rng(1004).normal(10, 5, 30), 1)"
   ]
  },
  {
   "cell_type": "code",
   "execution_count": 6,
   "id": "ef2c2398-ac99-46f2-8ffd-1482626dde9e",
   "metadata": {},
   "outputs": [],
   "source": [
    "for i in range(30):\n",
    "    Q1.enqueue(q1[i])"
   ]
  },
  {
   "cell_type": "code",
   "execution_count": 7,
   "id": "63e4c352-8553-4fcb-87c1-ced1a81e2a1b",
   "metadata": {},
   "outputs": [
    {
     "data": {
      "text/plain": [
       "30"
      ]
     },
     "execution_count": 7,
     "metadata": {},
     "output_type": "execute_result"
    }
   ],
   "source": [
    "#  Verificar la longitud de la cola 𝑸𝟏. \n",
    "Q1.qsize()"
   ]
  },
  {
   "cell_type": "code",
   "execution_count": 8,
   "id": "58834005-6b01-4154-8353-3458fc55798a",
   "metadata": {},
   "outputs": [
    {
     "name": "stdout",
     "output_type": "stream",
     "text": [
      "10.1\n",
      "9.7\n",
      "11.2\n",
      "10.2\n",
      "15.9\n",
      "17.0\n",
      "10.0\n",
      "8.6\n",
      "12.3\n",
      "4.7\n"
     ]
    }
   ],
   "source": [
    "#  Eliminar (dequeue) 10 números de la cola 𝑸𝟏.\n",
    "for i in range(10):\n",
    "    print(Q1.dequeue())"
   ]
  },
  {
   "cell_type": "code",
   "execution_count": 9,
   "id": "45662999-6592-4162-9284-130a0c06d420",
   "metadata": {},
   "outputs": [
    {
     "data": {
      "text/plain": [
       "False"
      ]
     },
     "execution_count": 9,
     "metadata": {},
     "output_type": "execute_result"
    }
   ],
   "source": [
    "# Verificar si la cola 𝑸𝟏 está vacía (empty). \n",
    "Q1.empty()"
   ]
  },
  {
   "cell_type": "code",
   "execution_count": 10,
   "id": "27134208-60ef-44a4-aea7-f08b99de88d1",
   "metadata": {},
   "outputs": [
    {
     "data": {
      "text/plain": [
       "False"
      ]
     },
     "execution_count": 10,
     "metadata": {},
     "output_type": "execute_result"
    }
   ],
   "source": [
    "# Verificar si la cola 𝑸𝟏 está llena (full). \n",
    "Q1.full()"
   ]
  },
  {
   "cell_type": "code",
   "execution_count": 11,
   "id": "fda07a48-ab50-4b45-b837-ac1db7a46e25",
   "metadata": {},
   "outputs": [
    {
     "data": {
      "text/plain": [
       "20"
      ]
     },
     "execution_count": 11,
     "metadata": {},
     "output_type": "execute_result"
    }
   ],
   "source": [
    "# Devolver el número de elementos (qsize) en la cola 𝑸𝟏.\n",
    "Q1.qsize()"
   ]
  },
  {
   "cell_type": "code",
   "execution_count": 12,
   "id": "5a4fb0f5-5de8-4a54-8b4d-ea4f9ebfcec5",
   "metadata": {
    "scrolled": true
   },
   "outputs": [
    {
     "name": "stdout",
     "output_type": "stream",
     "text": [
      "11.4\n",
      "5.0\n",
      "12.5\n",
      "8.3\n",
      "12.5\n",
      "7.6\n",
      "9.6\n",
      "16.6\n",
      "11.7\n",
      "9.6\n",
      "9.8\n",
      "10.3\n",
      "-0.1\n",
      "12.0\n",
      "12.2\n",
      "14.9\n",
      "15.3\n",
      "0.7\n",
      "14.4\n",
      "11.6\n"
     ]
    }
   ],
   "source": [
    "# Eliminar los elementos restantes de la cola 𝑸𝟏 para dejarla vacía. \n",
    "for i in range(20):\n",
    "    print(Q1.dequeue())"
   ]
  },
  {
   "cell_type": "code",
   "execution_count": 13,
   "id": "791d5349-308a-400f-a967-42e97bc48a18",
   "metadata": {},
   "outputs": [
    {
     "data": {
      "text/plain": [
       "True"
      ]
     },
     "execution_count": 13,
     "metadata": {},
     "output_type": "execute_result"
    }
   ],
   "source": [
    "# Verificar que la cola 𝑸𝟏 está vacía.\n",
    "Q1.empty()"
   ]
  },
  {
   "cell_type": "markdown",
   "id": "ded58c52-7828-4ff0-91d6-85a956e52a49",
   "metadata": {},
   "source": [
    "### Ejercicio 2:"
   ]
  },
  {
   "cell_type": "code",
   "execution_count": 15,
   "id": "eb54894c-0696-4e4f-be03-76b204f659a0",
   "metadata": {},
   "outputs": [],
   "source": [
    "#  crear una cola Q2 de tamaño 50.  \n",
    "Q2 = MyQueue(50)"
   ]
  },
  {
   "cell_type": "code",
   "execution_count": 16,
   "id": "3f0120d7-6216-4365-a88d-20d28ab9e7d5",
   "metadata": {},
   "outputs": [],
   "source": [
    "#  Añadir a Q2 (enqueue) los datos [PASS, FAIL] hasta llenar Q2.\n",
    "q2 = [\"PASS\", \"FAIL\"]\n",
    "for i in range (50):\n",
    "    Q2.enqueue(q2[i % len(q2)])"
   ]
  },
  {
   "cell_type": "code",
   "execution_count": 17,
   "id": "487e8fed-9af5-43db-b9ea-f7427201c93f",
   "metadata": {},
   "outputs": [
    {
     "data": {
      "text/plain": [
       "50"
      ]
     },
     "execution_count": 17,
     "metadata": {},
     "output_type": "execute_result"
    }
   ],
   "source": [
    "#  Verificar la longitud de la cola 𝑸𝟐. \n",
    "Q2.qsize()"
   ]
  },
  {
   "cell_type": "code",
   "execution_count": 18,
   "id": "a8ddb994-a822-495e-81e7-4306c66319ac",
   "metadata": {
    "scrolled": true
   },
   "outputs": [
    {
     "name": "stdout",
     "output_type": "stream",
     "text": [
      "PASS\n",
      "FAIL\n",
      "PASS\n",
      "FAIL\n",
      "PASS\n",
      "FAIL\n",
      "PASS\n",
      "FAIL\n",
      "PASS\n",
      "FAIL\n",
      "PASS\n",
      "FAIL\n",
      "PASS\n",
      "FAIL\n",
      "PASS\n",
      "FAIL\n",
      "PASS\n",
      "FAIL\n",
      "PASS\n",
      "FAIL\n",
      "PASS\n",
      "FAIL\n",
      "PASS\n",
      "FAIL\n",
      "PASS\n"
     ]
    }
   ],
   "source": [
    "#  Eliminar (dequeue) 25 datos de la cola 𝑸𝟐. \n",
    "for i in range (25):\n",
    "    print(Q2.dequeue())"
   ]
  },
  {
   "cell_type": "code",
   "execution_count": 19,
   "id": "a9aba71b-a1ce-4e7f-adec-8d7fb9f43935",
   "metadata": {},
   "outputs": [
    {
     "data": {
      "text/plain": [
       "25"
      ]
     },
     "execution_count": 19,
     "metadata": {},
     "output_type": "execute_result"
    }
   ],
   "source": [
    "#  Devolver el número de elementos en la cola 𝑸𝟐.\n",
    "Q2.qsize()"
   ]
  },
  {
   "cell_type": "code",
   "execution_count": 20,
   "id": "923a3be9-b1d7-4bc2-a5fb-2cc010ae0179",
   "metadata": {
    "scrolled": true
   },
   "outputs": [
    {
     "name": "stdout",
     "output_type": "stream",
     "text": [
      "FAIL\n",
      "PASS\n",
      "FAIL\n",
      "PASS\n",
      "FAIL\n",
      "PASS\n",
      "FAIL\n",
      "PASS\n",
      "FAIL\n",
      "PASS\n",
      "FAIL\n",
      "PASS\n",
      "FAIL\n",
      "PASS\n",
      "FAIL\n",
      "PASS\n",
      "FAIL\n",
      "PASS\n",
      "FAIL\n",
      "PASS\n",
      "FAIL\n",
      "PASS\n",
      "FAIL\n",
      "PASS\n",
      "FAIL\n"
     ]
    }
   ],
   "source": [
    "# Eliminar los elementos restantes de la cola 𝑸𝟐 para dejarla vacía. \n",
    "for i in range (25):\n",
    "    print(Q2.dequeue())"
   ]
  },
  {
   "cell_type": "code",
   "execution_count": 21,
   "id": "ce63b49c-8697-466d-87ab-4ab1bad6c8ce",
   "metadata": {},
   "outputs": [
    {
     "data": {
      "text/plain": [
       "True"
      ]
     },
     "execution_count": 21,
     "metadata": {},
     "output_type": "execute_result"
    }
   ],
   "source": [
    "# 2.6. Verificar que la cola 𝑸𝟐 está vacía. \n",
    "Q2.empty()"
   ]
  },
  {
   "cell_type": "code",
   "execution_count": null,
   "id": "0c8fa4cf-7087-4414-b8f8-c5c355c9c293",
   "metadata": {},
   "outputs": [],
   "source": []
  }
 ],
 "metadata": {
  "kernelspec": {
   "display_name": "Python 3 (ipykernel)",
   "language": "python",
   "name": "python3"
  },
  "language_info": {
   "codemirror_mode": {
    "name": "ipython",
    "version": 3
   },
   "file_extension": ".py",
   "mimetype": "text/x-python",
   "name": "python",
   "nbconvert_exporter": "python",
   "pygments_lexer": "ipython3",
   "version": "3.12.7"
  }
 },
 "nbformat": 4,
 "nbformat_minor": 5
}
