{
 "cells": [
  {
   "cell_type": "markdown",
   "id": "9b394ac4-4023-4e11-81ef-27ee8fc92193",
   "metadata": {},
   "source": [
    "## Ejercicio 1 Módulo 4"
   ]
  },
  {
   "cell_type": "code",
   "execution_count": 2,
   "id": "aef65195-f089-469e-9663-56e086f17c31",
   "metadata": {},
   "outputs": [],
   "source": [
    "from queue import Queue\n",
    "\n",
    "class MyQueue():\n",
    "    def __init__(self,n): # n es el número de elementos.\n",
    "        self.elements = Queue(maxsize=n) # elements se puede cambiar.\n",
    "\n",
    "    def enqueue(self, element): # Agregar elementos.\n",
    "        self.elements.put(element)\n",
    "\n",
    "    def dequeue(self): # Quitar elementos.\n",
    "        return self.elements.get()\n",
    "\n",
    "    def full(self): # \n",
    "        return self.elements.full()\n",
    "\n",
    "    def empty(self):\n",
    "        return self.elements.empty()\n",
    "        \n",
    "    def qsize(self):\n",
    "        return self.elements.qsize()"
   ]
  },
  {
   "cell_type": "code",
   "execution_count": 3,
   "id": "6a5dfbc5-9394-4cc9-886e-68b97e60b281",
   "metadata": {},
   "outputs": [],
   "source": [
    "Q = MyQueue(21)"
   ]
  },
  {
   "cell_type": "code",
   "execution_count": 4,
   "id": "9aa6139f-d614-4e71-8d66-3dcc1a61fb93",
   "metadata": {},
   "outputs": [],
   "source": [
    "for i in range (-10,10) : \n",
    "    Q.enqueue(i)"
   ]
  },
  {
   "cell_type": "code",
   "execution_count": 5,
   "id": "cfb4b779-b476-4811-98e1-83ffa99ef712",
   "metadata": {},
   "outputs": [
    {
     "data": {
      "text/plain": [
       "20"
      ]
     },
     "execution_count": 5,
     "metadata": {},
     "output_type": "execute_result"
    }
   ],
   "source": [
    "Q.qsize()"
   ]
  },
  {
   "cell_type": "code",
   "execution_count": 6,
   "id": "fb690982-f230-4ed1-997e-8e17d362a470",
   "metadata": {},
   "outputs": [
    {
     "name": "stdout",
     "output_type": "stream",
     "text": [
      "-10\n",
      "-9\n",
      "-8\n",
      "-7\n",
      "-6\n",
      "-5\n"
     ]
    }
   ],
   "source": [
    "for i in range (1,7):\n",
    "    print(Q.dequeue())"
   ]
  },
  {
   "cell_type": "code",
   "execution_count": 7,
   "id": "9dbbf0ed-bad7-4374-86c2-451fcf2a21f4",
   "metadata": {},
   "outputs": [
    {
     "data": {
      "text/plain": [
       "False"
      ]
     },
     "execution_count": 7,
     "metadata": {},
     "output_type": "execute_result"
    }
   ],
   "source": [
    "Q.empty()"
   ]
  },
  {
   "cell_type": "code",
   "execution_count": 8,
   "id": "2362d468-c767-41d8-87ba-946556750f8a",
   "metadata": {},
   "outputs": [
    {
     "data": {
      "text/plain": [
       "False"
      ]
     },
     "execution_count": 8,
     "metadata": {},
     "output_type": "execute_result"
    }
   ],
   "source": [
    "Q.full()"
   ]
  },
  {
   "cell_type": "code",
   "execution_count": 9,
   "id": "bf196b48-0bc5-46b0-a8ce-2d286bb52d19",
   "metadata": {},
   "outputs": [
    {
     "data": {
      "text/plain": [
       "14"
      ]
     },
     "execution_count": 9,
     "metadata": {},
     "output_type": "execute_result"
    }
   ],
   "source": [
    "Q.qsize()"
   ]
  },
  {
   "cell_type": "code",
   "execution_count": 10,
   "id": "4fae59c5-3ece-46ab-8f60-f02a7b04a6bd",
   "metadata": {},
   "outputs": [
    {
     "name": "stdout",
     "output_type": "stream",
     "text": [
      "-4\n",
      "-3\n",
      "-2\n",
      "-1\n",
      "0\n",
      "1\n",
      "2\n",
      "3\n",
      "4\n",
      "5\n",
      "6\n",
      "7\n",
      "8\n",
      "9\n"
     ]
    }
   ],
   "source": [
    "for i in range (14):\n",
    "    print(Q.dequeue())"
   ]
  },
  {
   "cell_type": "code",
   "execution_count": 11,
   "id": "689cd2fa-db32-4647-b050-668487a1c410",
   "metadata": {},
   "outputs": [
    {
     "data": {
      "text/plain": [
       "True"
      ]
     },
     "execution_count": 11,
     "metadata": {},
     "output_type": "execute_result"
    }
   ],
   "source": [
    "Q.empty()"
   ]
  },
  {
   "cell_type": "code",
   "execution_count": null,
   "id": "673397f6-c3a3-43e4-8cb8-b556a70c028c",
   "metadata": {},
   "outputs": [],
   "source": []
  }
 ],
 "metadata": {
  "kernelspec": {
   "display_name": "Python 3 (ipykernel)",
   "language": "python",
   "name": "python3"
  },
  "language_info": {
   "codemirror_mode": {
    "name": "ipython",
    "version": 3
   },
   "file_extension": ".py",
   "mimetype": "text/x-python",
   "name": "python",
   "nbconvert_exporter": "python",
   "pygments_lexer": "ipython3",
   "version": "3.12.7"
  }
 },
 "nbformat": 4,
 "nbformat_minor": 5
}
