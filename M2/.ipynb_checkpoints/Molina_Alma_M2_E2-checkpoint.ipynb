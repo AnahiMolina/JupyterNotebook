{
 "cells": [
  {
   "cell_type": "markdown",
   "id": "1cc09c17-b88d-4120-8177-fd7c656d6237",
   "metadata": {},
   "source": [
    "# Módulo 2. Ejercicio 2\n",
    "13 de marzo 2025"
   ]
  },
  {
   "cell_type": "code",
   "execution_count": 2,
   "id": "ac1815cd-c420-4ada-85e9-b00064b45140",
   "metadata": {},
   "outputs": [
    {
     "data": {
      "text/plain": [
       "deque([2, 4, 6, 8, 10])"
      ]
     },
     "execution_count": 2,
     "metadata": {},
     "output_type": "execute_result"
    }
   ],
   "source": [
    "#1. Genere una lista enlazada L1 con los números [2,4,6,8,10]. \n",
    "from collections import deque\n",
    "L1 = deque([2,4,6,8,10])\n",
    "L1"
   ]
  },
  {
   "cell_type": "code",
   "execution_count": 3,
   "id": "25930194-b2ac-4cbe-b3d1-baeb1fb5b680",
   "metadata": {},
   "outputs": [
    {
     "data": {
      "text/plain": [
       "deque([-10, -8, -6, -4, -2, 2, 4, 6, 8, 10])"
      ]
     },
     "execution_count": 3,
     "metadata": {},
     "output_type": "execute_result"
    }
   ],
   "source": [
    "#2. Agregar a la izquierda de L1 los números [-10,-8,-6,-4,-2]\n",
    "L1.appendleft(-2)\n",
    "L1.appendleft(-4)\n",
    "L1.appendleft(-6)\n",
    "L1.appendleft(-8)\n",
    "L1.appendleft(-10)\n",
    "\n",
    "L1"
   ]
  },
  {
   "cell_type": "code",
   "execution_count": 6,
   "id": "0082138a-681c-4862-b7b6-6ab6bb8c4d4e",
   "metadata": {},
   "outputs": [
    {
     "data": {
      "text/plain": [
       "deque([-10, -8, -6, -4, -2, 2, 4, 6, 8, 10, 20, 30, 40, 50])"
      ]
     },
     "execution_count": 6,
     "metadata": {},
     "output_type": "execute_result"
    }
   ],
   "source": [
    "#3. Agregar a la derecha de L1 los números [20,30,40,50] \n",
    "L1.append(20)\n",
    "L1.append(30)\n",
    "L1.append(40)\n",
    "L1.append(50)\n",
    "L1"
   ]
  },
  {
   "cell_type": "code",
   "execution_count": 8,
   "id": "a4ecead5-9433-4e46-8cae-880af8b3c9be",
   "metadata": {},
   "outputs": [
    {
     "data": {
      "text/plain": [
       "deque([-8, -6, -4, -2, 2, 4, 6, 8, 10, 20, 30, 40, 50])"
      ]
     },
     "execution_count": 8,
     "metadata": {},
     "output_type": "execute_result"
    }
   ],
   "source": [
    "#4. Regresa y elimina el último elemento de la izquierda de L1. \n",
    "L1.popleft()\n",
    "L1"
   ]
  },
  {
   "cell_type": "code",
   "execution_count": 10,
   "id": "a17d433e-5d54-459c-a10e-0b84bbdc779f",
   "metadata": {},
   "outputs": [
    {
     "data": {
      "text/plain": [
       "deque([-8, -6, -4, -2, 2, 4, 6, 8, 10, 20, 30, 40])"
      ]
     },
     "execution_count": 10,
     "metadata": {},
     "output_type": "execute_result"
    }
   ],
   "source": [
    "#5. Regresa y elimina el último elemento de la derecha de L1. \n",
    "L1.pop()\n",
    "L1"
   ]
  },
  {
   "cell_type": "code",
   "execution_count": 12,
   "id": "b9950712-7808-4c53-981c-82048dc62031",
   "metadata": {},
   "outputs": [
    {
     "data": {
      "text/plain": [
       "deque([-8, -6, -4, -2, 2, 4, 6, 8, 10, 30, 40])"
      ]
     },
     "execution_count": 12,
     "metadata": {},
     "output_type": "execute_result"
    }
   ],
   "source": [
    "#6. Elimina el valor [20] de L1. \n",
    "L1.remove(20)\n",
    "L1"
   ]
  },
  {
   "cell_type": "code",
   "execution_count": 14,
   "id": "6fe0406a-358b-4069-8b4c-212e23d029f7",
   "metadata": {},
   "outputs": [
    {
     "data": {
      "text/plain": [
       "40"
      ]
     },
     "execution_count": 14,
     "metadata": {},
     "output_type": "execute_result"
    }
   ],
   "source": [
    "#7. Accede (muestra) al último elemento de la derecha de L1. \n",
    "L1[-1]"
   ]
  },
  {
   "cell_type": "code",
   "execution_count": 16,
   "id": "17d110f3-2981-4bc3-803d-d32f08b3c1a9",
   "metadata": {},
   "outputs": [
    {
     "data": {
      "text/plain": [
       "-8"
      ]
     },
     "execution_count": 16,
     "metadata": {},
     "output_type": "execute_result"
    }
   ],
   "source": [
    "#8. Accede (muestra) al elemento de la izquierda de L1. \n",
    "L1[0]"
   ]
  },
  {
   "cell_type": "code",
   "execution_count": 18,
   "id": "6d8ebd09-ab4b-42fc-9359-99fb15ea411d",
   "metadata": {},
   "outputs": [
    {
     "data": {
      "text/plain": [
       "4"
      ]
     },
     "execution_count": 18,
     "metadata": {},
     "output_type": "execute_result"
    }
   ],
   "source": [
    "#9. Accede (muestra) al elemento ubicado al centro(mediana) de L1. \n",
    "import statistics\n",
    "L1 = sorted(L1)\n",
    "mediana = statistics.median(L1)\n",
    "mediana"
   ]
  },
  {
   "cell_type": "code",
   "execution_count": 20,
   "id": "9e01ca15-a648-4b33-805d-4e791c977e6a",
   "metadata": {},
   "outputs": [
    {
     "data": {
      "text/plain": [
       "[40, 30, 10, 8, 6, 4, 2, -2, -4, -6, -8]"
      ]
     },
     "execution_count": 20,
     "metadata": {},
     "output_type": "execute_result"
    }
   ],
   "source": [
    "#10. Enumerar el contenido de L1 en sentido inverso (mayor a menor). \n",
    "L1.reverse()\n",
    "L1"
   ]
  },
  {
   "cell_type": "code",
   "execution_count": 22,
   "id": "423f71f7-ac19-43fd-8feb-045f4a35c45c",
   "metadata": {},
   "outputs": [
    {
     "data": {
      "text/plain": [
       "[-8, -6, -4, -2, 2, 4, 6, 8, 10, 30, 40]"
      ]
     },
     "execution_count": 22,
     "metadata": {},
     "output_type": "execute_result"
    }
   ],
   "source": [
    "#11. Rotar L1 para regresar al orden natural (menor a mayor). \n",
    "L1 = sorted(L1)\n",
    "L1"
   ]
  },
  {
   "cell_type": "code",
   "execution_count": 24,
   "id": "7afd867e-9524-4fb7-999c-0743a23eb891",
   "metadata": {},
   "outputs": [
    {
     "data": {
      "text/plain": [
       "[0, -8, -6, -4, -2, 2, 4, 6, 8, 10, 30, 40]"
      ]
     },
     "execution_count": 24,
     "metadata": {},
     "output_type": "execute_result"
    }
   ],
   "source": [
    "#12.  Insertar el valor cero [0] en la posición adecuada de L1 para completar la lista de números ordenados de menor a mayor.\n",
    "L1.insert(0,0)\n",
    "L1"
   ]
  },
  {
   "cell_type": "code",
   "execution_count": 26,
   "id": "93496b13-1d24-4ee5-81eb-a1bac2a4a364",
   "metadata": {},
   "outputs": [
    {
     "data": {
      "text/plain": [
       "deque([-50, -40, -30, -20])"
      ]
     },
     "execution_count": 26,
     "metadata": {},
     "output_type": "execute_result"
    }
   ],
   "source": [
    "#13. Genera una lista enlazada L2 con los números [-50,-40,-30,-20]. \n",
    "L2 = deque([-50,-40,-30,-20])\n",
    "L2"
   ]
  },
  {
   "cell_type": "code",
   "execution_count": 28,
   "id": "f223c494-7585-4939-b580-f5220bd42326",
   "metadata": {},
   "outputs": [
    {
     "data": {
      "text/plain": [
       "deque([])"
      ]
     },
     "execution_count": 28,
     "metadata": {},
     "output_type": "execute_result"
    }
   ],
   "source": [
    "#14.  Limpiar L2.\n",
    "L2.clear()\n",
    "L2"
   ]
  },
  {
   "cell_type": "code",
   "execution_count": null,
   "id": "144fa74b-a5ec-49a8-87c3-05ebb74861b6",
   "metadata": {},
   "outputs": [],
   "source": []
  },
  {
   "cell_type": "code",
   "execution_count": null,
   "id": "50baab81-2174-42d2-8e5d-0634c003aa9f",
   "metadata": {},
   "outputs": [],
   "source": []
  }
 ],
 "metadata": {
  "kernelspec": {
   "display_name": "Python 3 (ipykernel)",
   "language": "python",
   "name": "python3"
  },
  "language_info": {
   "codemirror_mode": {
    "name": "ipython",
    "version": 3
   },
   "file_extension": ".py",
   "mimetype": "text/x-python",
   "name": "python",
   "nbconvert_exporter": "python",
   "pygments_lexer": "ipython3",
   "version": "3.12.7"
  }
 },
 "nbformat": 4,
 "nbformat_minor": 5
}
