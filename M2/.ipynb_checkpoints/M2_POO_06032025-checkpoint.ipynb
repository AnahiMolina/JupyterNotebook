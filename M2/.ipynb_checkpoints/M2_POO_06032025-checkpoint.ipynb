{
 "cells": [
  {
   "cell_type": "markdown",
   "id": "0288890c",
   "metadata": {},
   "source": [
    "# *Programación Orientada a Objetos*"
   ]
  },
  {
   "cell_type": "markdown",
   "id": "2e1f52bc",
   "metadata": {},
   "source": [
    "Los objetos suelen representar conceptos del dominio del programa, como un estudiante, un coche, un teléfono, etc. Los datos que describen las características del objeto se llaman atributos y son la parte estática del objeto, mientras que las operaciones que puede realizar el objeto se llaman métodos y son la parte dinámica del objeto.\n",
    "\n",
    "Para acceder a los atributos y métodos de un objeto se pone el nombre del objeto seguido del operador punto y el nombre del atributo o el método.\n",
    "\n",
    "objeto.atributo: Accede al atributo atributo del objeto objeto.\n",
    "objeto.método(parámetros): Ejecuta el método método del objeto objeto con los parámetros que se le pasen.\n"
   ]
  },
  {
   "cell_type": "markdown",
   "id": "ba884627",
   "metadata": {},
   "source": [
    "Ejemplo. Las listas tienen un método append que convierte añade un elemento al final de la lista. Para aplicar este método a la lista l se utiliza la instrucción \n",
    "\n",
    "l.append(<elemento>)."
   ]
  },
  {
   "cell_type": "code",
   "execution_count": null,
   "id": "64655e76",
   "metadata": {},
   "outputs": [],
   "source": [
    ">>> l =  [1, 2, 3]     \n",
    ">>> l.append(4)         # Llamada al método append del objeto l (lista)\n",
    ">>> print(l)\n"
   ]
  },
  {
   "cell_type": "markdown",
   "id": "33e6aef2",
   "metadata": {},
   "source": [
    "\n",
    "## Clases (class)\n",
    "\n",
    "Los objetos con los mismos atributos y métodos se agrupan clases. Las clases definen los atributos y los métodos, y por tanto, la semántica o comportamiento que tienen los objetos que pertenecen a esa clase. Se puede pensar en una clase como en un molde a partir del cuál se pueden crear objetos.\n",
    "\n",
    "Para declarar una clase se utiliza la palabra clave class seguida del nombre de la clase y dos puntos.\n",
    "\n",
    "Los atributos se definen igual que las variables mientras que los métodos se definen igual que las funciones. Tanto unos como otros tienen que estar indentados por 4 espacios en el cuerpo de la clase."
   ]
  },
  {
   "cell_type": "markdown",
   "id": "c200034a",
   "metadata": {},
   "source": [
    "## Instanciación de clases\n",
    "\n",
    "Para crear un objeto de una determinada clase se utiliza el nombre de la clase seguida de los parámetros necesarios para crear el objeto entre paréntesis.\n",
    "\n",
    "clase(parámetros): Crea un objeto de la clase clase inicializado con los parámetros dados.\n",
    "\n",
    "## Definición de métodos\n",
    "\n",
    "\n",
    "Los métodos de una clase son las funciones que definen el comportamiento de los objetos de esa clase.\n",
    "\n",
    "Se definen como las funciones con la palabra reservada *def*. \n",
    "La única diferencia es que su primer parámetro es especial y se denomina *self*. \n",
    "Este parámetro hace siempre referencia al objeto desde donde se llama el método, de manera que para acceder a los atributos o métodos de una clase en su propia definición se puede utilizar la sintaxis *self.atributo* o *self.método*.\n",
    "\n",
    "\n",
    "## El método __init__\n",
    "\n",
    "En la definición de una clase suele haber un método llamado __init__ que se conoce como inicializador. Este método es un método especial que se llama cada vez que se instancia una clase y sirve para inicializar el objeto que se crea."
   ]
  },
  {
   "cell_type": "code",
   "execution_count": null,
   "id": "075039d5",
   "metadata": {},
   "outputs": [],
   "source": []
  },
  {
   "cell_type": "markdown",
   "id": "8a7ae1c7",
   "metadata": {},
   "source": [
    "# Definir un nodo en Python:"
   ]
  },
  {
   "cell_type": "code",
   "execution_count": 2,
   "id": "d36dd513",
   "metadata": {},
   "outputs": [],
   "source": [
    "class Node:\n",
    "    def __init__(self, data): # Inicializador # Definición de un método \n",
    "        self.data = data  # Creación del atributo data  # Al atributo \"datos\" del nodo se le asigna un valor \n",
    "        self.next = None  # El atributo \"siguiente\" representa la dirección del siguiente nodo"
   ]
  },
  {
   "cell_type": "markdown",
   "id": "34a2bd51",
   "metadata": {},
   "source": [
    "# Crear una clase de lista enlazada"
   ]
  },
  {
   "cell_type": "code",
   "execution_count": 4,
   "id": "0f6af76b",
   "metadata": {},
   "outputs": [],
   "source": [
    "class LinkedList:\n",
    "    def __init__(self):\n",
    "        self.head = None  # La lista enlazada está inicialmente vacía y no hay nodos.\n",
    "        \n",
    "## Insertar un nuevo nodo al principio de una lista enlazada\n",
    "## Dentro de la clase LinkedList, añadir un método para crear un nuevo nodo \n",
    "## y colocarlo al principio de la lista:\n",
    "\n",
    "    def insertAtBeginning(self, new_data):\n",
    "        new_node = Node(new_data)  # Crea un nuevo nodo\n",
    "        new_node.next = self.head  # El puntero siguiente del nuevo nodo se establece en la cabeza de la lista\n",
    "        self.head = new_node  # El nodo recién creado se convierte en cabeza de la lista.\n",
    "\n",
    "## Crear un método diseñado para recorrer e imprimir el contenido de la lista:\n",
    "\n",
    "    def printList(self):\n",
    "        temp = self.head # Empezar desde el principio de la lista\n",
    "        while temp:\n",
    "            print(temp.data,end=' ') # Imprimir los datos en el nodo actual\n",
    "            temp = temp.next # Moverse al siguiente nodo\n",
    "        print()  # Asegura que la salida sea seguida por una nueva línea\n",
    "        \n",
    "        "
   ]
  },
  {
   "cell_type": "markdown",
   "id": "406c5cc5",
   "metadata": {},
   "source": [
    "## Utilizar los métodos definidos para poblar la lista:"
   ]
  },
  {
   "cell_type": "markdown",
   "id": "9a00c2f7",
   "metadata": {},
   "source": [
    "La expresión if __name__ == \"__main__\" de Python se utiliza cuando el código debe ejecutarse solo cuando un archivo se ejecuta como un script en lugar de importarse como un módulo."
   ]
  },
  {
   "cell_type": "code",
   "execution_count": 6,
   "id": "baa81a6c",
   "metadata": {},
   "outputs": [
    {
     "name": "stdout",
     "output_type": "stream",
     "text": [
      "A B C D \n"
     ]
    }
   ],
   "source": [
    "if __name__ == '__main__':\n",
    "    # Crear una nueva instancia de LinkedList\n",
    "    llist = LinkedList()\n",
    "\n",
    "    # Inserta cada letra al principio usando el método creado con anterioridad\n",
    "    llist.insertAtBeginning('D') \n",
    "    llist.insertAtBeginning('C') \n",
    "    llist.insertAtBeginning('B')  \n",
    "    llist.insertAtBeginning('A')  \n",
    "\n",
    "\n",
    "\n",
    "# Print the list\n",
    "    llist.printList()"
   ]
  },
  {
   "cell_type": "code",
   "execution_count": 8,
   "id": "84727945-cd83-4afb-8387-af61b38f25b0",
   "metadata": {},
   "outputs": [],
   "source": [
    "llist.insertAtBeginning('E')  "
   ]
  },
  {
   "cell_type": "code",
   "execution_count": 10,
   "id": "bf0eb6f4-1509-4d8e-b257-1ab6735fbd2e",
   "metadata": {},
   "outputs": [
    {
     "name": "stdout",
     "output_type": "stream",
     "text": [
      "E A B C D \n"
     ]
    }
   ],
   "source": [
    "llist.printList()"
   ]
  },
  {
   "cell_type": "markdown",
   "id": "8b842695",
   "metadata": {},
   "source": [
    "##  Insertar un nuevo nodo al final de una lista enlazada"
   ]
  },
  {
   "cell_type": "code",
   "execution_count": 12,
   "id": "b969b608",
   "metadata": {},
   "outputs": [],
   "source": [
    "class LinkedList:\n",
    "    def __init__(self):\n",
    "        self.head = None  # La lista enlazada está inicialmente vacía y no hay nodos.\n",
    "        \n",
    "## Insertar un nuevo nodo al principio de una lista enlazada\n",
    "## Dentro de la clase LinkedList, añadir un método para crear un nuevo nodo \n",
    "## y colocarlo al principio de la lista:\n",
    "\n",
    "    def insertAtBeginning(self, new_data):\n",
    "        new_node = Node(new_data)  # Crea un nuevo nodo\n",
    "        new_node.next = self.head  # El puntero siguiente del nuevo nodo se establece en la cabeza de la lista\n",
    "        self.head = new_node  # El nodo recién creado se convierte en cabeza de la lista.\n",
    "\n",
    "## Crear un método diseñado para recorrer e imprimir el contenido de la lista:\n",
    "\n",
    "    def printList(self):\n",
    "        temp = self.head # Empezar desde el principio de la lista\n",
    "        while temp:\n",
    "            print(temp.data,end=' ') # Imprimir los datos en el nodo actual\n",
    "            temp = temp.next # Moverse al siguiente nodo\n",
    "        print()  # Asegura que la salida sea seguida por una nueva línea\n",
    "\n",
    "\n",
    "## Insertar un nuevo nodo al final de una lista enlazada\n",
    "\n",
    "    def insertAtEnd(self, new_data):\n",
    "        new_node = Node(new_data)  # Crear un nuevo nodo\n",
    "        if self.head is None:\n",
    "            self.head = new_node  # Si la lista está vacía, el nuevo nodo se asigna como cabeza\n",
    "            return\n",
    "        last = self.head \n",
    "        while last.next:  # De lo contrario, recorra la lista para encontrar el último nodo.\n",
    "            last = last.next\n",
    "        last.next = new_node  # Hacer que el nuevo nodo sea el siguiente nodo del último nodo"
   ]
  },
  {
   "cell_type": "code",
   "execution_count": 14,
   "id": "fdf1a669",
   "metadata": {},
   "outputs": [
    {
     "name": "stdout",
     "output_type": "stream",
     "text": [
      "A B C D E \n"
     ]
    }
   ],
   "source": [
    "if __name__ == '__main__':\n",
    "    # Crear una nueva instancia de LinkedList\n",
    "    llist = LinkedList()\n",
    "\n",
    "    # Inserta cada letra al principio usando el método creado con anterioridad\n",
    "    llist.insertAtBeginning('D') \n",
    "    llist.insertAtBeginning('C') \n",
    "    llist.insertAtBeginning('B')  \n",
    "    llist.insertAtBeginning('A')  \n",
    "    \n",
    "    # Insert a word at the end\n",
    "    llist.insertAtEnd('E')\n",
    "\n",
    "\n",
    "# Print the list\n",
    "    llist.printList()"
   ]
  },
  {
   "cell_type": "code",
   "execution_count": 16,
   "id": "9ec823e9",
   "metadata": {},
   "outputs": [
    {
     "name": "stdout",
     "output_type": "stream",
     "text": [
      "A B C D E F G H I \n"
     ]
    }
   ],
   "source": [
    "# Insertar F, G, H, I al final de la lista llist\n",
    "# Objeto-lista.llamar_método_agregar_al_final\n",
    "llist.insertAtEnd('F')\n",
    "llist.insertAtEnd('G')\n",
    "llist.insertAtEnd('H')\n",
    "llist.insertAtEnd('I')\n",
    "\n",
    "llist.printList()"
   ]
  },
  {
   "cell_type": "markdown",
   "id": "ed156c6d-0eb0-42ac-90a0-1d3bd6aadb28",
   "metadata": {},
   "source": [
    "# _Ejercicio 1_"
   ]
  },
  {
   "cell_type": "markdown",
   "id": "019909b5-f5bd-427b-84c4-1cf63e7ffa5e",
   "metadata": {},
   "source": [
    "> #### Tomando las clases creadas anteriormente:\n",
    ">\n",
    "> - Crear una lista con los siguientes elementos:\n",
    ">   - L1 = [ 100,200,300, A, B, C, TRUE, FALSE ]\n",
    "> - Tomando L1:\n",
    ">   - Agregar al principio de la lista [ \"Python\" ]\n",
    ">   - Agregar al final de la lista [ \"Práctica\" ]\n",
    ">     \n",
    "> - **Imprimir** las listas resultantes."
   ]
  },
  {
   "cell_type": "code",
   "execution_count": 26,
   "id": "0fdbe235-4b81-40fa-b488-6af5eaee7607",
   "metadata": {},
   "outputs": [
    {
     "name": "stdout",
     "output_type": "stream",
     "text": [
      "100 200 300 A B C True False \n"
     ]
    }
   ],
   "source": [
    "if __name__ == '__main__':\n",
    "    \n",
    "    L1 = LinkedList()\n",
    "    L1.insertAtBeginning(False) \n",
    "    L1.insertAtBeginning(True)\n",
    "    L1.insertAtBeginning(\"C\")\n",
    "    L1.insertAtBeginning(\"B\")\n",
    "    L1.insertAtBeginning(\"A\")\n",
    "    L1.insertAtBeginning(300)\n",
    "    L1.insertAtBeginning(200)\n",
    "    L1.insertAtBeginning(100)\n",
    "    \n",
    "    L1.printList()\n",
    "    "
   ]
  },
  {
   "cell_type": "code",
   "execution_count": 28,
   "id": "87969c0e-c9ec-4550-8fd4-77198f40d13a",
   "metadata": {},
   "outputs": [
    {
     "name": "stdout",
     "output_type": "stream",
     "text": [
      "Python 100 200 300 A B C True False Práctica \n"
     ]
    }
   ],
   "source": [
    "L1.insertAtBeginning(\"Python\")\n",
    "L1.insertAtEnd('Práctica')\n",
    "\n",
    "L1.printList()"
   ]
  },
  {
   "cell_type": "markdown",
   "id": "14a84eec-2a7e-403c-8a93-632b527b1b9d",
   "metadata": {},
   "source": []
  },
  {
   "cell_type": "code",
   "execution_count": null,
   "id": "14b32e36-de61-4af0-83ae-5cf042622c26",
   "metadata": {},
   "outputs": [],
   "source": []
  }
 ],
 "metadata": {
  "kernelspec": {
   "display_name": "Python 3 (ipykernel)",
   "language": "python",
   "name": "python3"
  },
  "language_info": {
   "codemirror_mode": {
    "name": "ipython",
    "version": 3
   },
   "file_extension": ".py",
   "mimetype": "text/x-python",
   "name": "python",
   "nbconvert_exporter": "python",
   "pygments_lexer": "ipython3",
   "version": "3.12.7"
  }
 },
 "nbformat": 4,
 "nbformat_minor": 5
}
