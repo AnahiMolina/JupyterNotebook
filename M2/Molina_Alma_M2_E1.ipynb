{
 "cells": [
  {
   "cell_type": "markdown",
   "id": "440be3c1-c4ec-423e-b5e9-46165593d32f",
   "metadata": {},
   "source": []
  },
  {
   "cell_type": "code",
   "execution_count": 2,
   "id": "35175b47-0181-4a10-8834-7c7d69e1d89b",
   "metadata": {
    "scrolled": true
   },
   "outputs": [
    {
     "name": "stderr",
     "output_type": "stream",
     "text": [
      "Your code contains a unicode char which cannot be displayed in your\n",
      "current locale and R will silently convert it to an escaped form when the\n",
      "R kernel executes this code. This can lead to subtle errors if you use\n",
      "such chars to do comparisons. For more information, please see\n",
      "https://github.com/IRkernel/repr/wiki/Problems-with-unicode-on-windows"
     ]
    }
   ],
   "source": [
    "# 1. Genere un vector llamado 𝒗𝟏 con 20 datos numéricos aleatorios con distribución normal estándar redondeados a dos cifras decimales.\n",
    "set.seed(1716) #semilla\n",
    "v1 <- round(rnorm(n=20),2)"
   ]
  },
  {
   "cell_type": "code",
   "execution_count": 4,
   "id": "c457c820-e5f4-4e92-8fc4-75ef2dffed5b",
   "metadata": {},
   "outputs": [
    {
     "name": "stderr",
     "output_type": "stream",
     "text": [
      "Your code contains a unicode char which cannot be displayed in your\n",
      "current locale and R will silently convert it to an escaped form when the\n",
      "R kernel executes this code. This can lead to subtle errors if you use\n",
      "such chars to do comparisons. For more information, please see\n",
      "https://github.com/IRkernel/repr/wiki/Problems-with-unicode-on-windows"
     ]
    },
    {
     "ename": "ERROR",
     "evalue": "Error in parse(text = x, srcfile = src): <text>:3:0: unexpected end of input\n1: # 2. Genere un vector llamado <U+0001D497><U+0001D7D0> con 20 datos de tipo caracter.\n2: v2 <- \n  ^\n",
     "output_type": "error",
     "traceback": [
      "Error in parse(text = x, srcfile = src): <text>:3:0: unexpected end of input\n1: # 2. Genere un vector llamado <U+0001D497><U+0001D7D0> con 20 datos de tipo caracter.\n2: v2 <- \n  ^\nTraceback:\n"
     ]
    }
   ],
   "source": [
    "# 2. Genere un vector llamado 𝒗𝟐 con 20 datos de tipo caracter.\n",
    "v2 <- "
   ]
  },
  {
   "cell_type": "code",
   "execution_count": null,
   "id": "f6ee6af7-9d86-4bdc-b6aa-4225ae26718b",
   "metadata": {},
   "outputs": [],
   "source": [
    "# 3. Genere un vector llamado 𝒗𝟑 con 20 datos de tipo lógico.  "
   ]
  }
 ],
 "metadata": {
  "kernelspec": {
   "display_name": "R",
   "language": "R",
   "name": "ir"
  },
  "language_info": {
   "codemirror_mode": "r",
   "file_extension": ".r",
   "mimetype": "text/x-r-source",
   "name": "R",
   "pygments_lexer": "r",
   "version": "3.6.1"
  }
 },
 "nbformat": 4,
 "nbformat_minor": 5
}
