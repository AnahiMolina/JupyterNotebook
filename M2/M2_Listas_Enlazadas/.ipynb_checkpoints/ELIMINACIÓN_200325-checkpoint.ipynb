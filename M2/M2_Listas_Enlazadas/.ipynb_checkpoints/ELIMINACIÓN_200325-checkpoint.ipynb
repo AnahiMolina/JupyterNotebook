{
 "cells": [
  {
   "cell_type": "code",
   "execution_count": 2,
   "id": "02492b3c-3769-4bd8-ae03-27c3fbd403a6",
   "metadata": {},
   "outputs": [],
   "source": [
    "#Crea nodo vacío.\n",
    "class Node:\n",
    "    def __init__(self, new_data):\n",
    "        self.data = new_data\n",
    "        self.next = None"
   ]
  },
  {
   "cell_type": "code",
   "execution_count": 4,
   "id": "87e6ee1c-2245-4d0d-b119-00bf609c0bbc",
   "metadata": {},
   "outputs": [],
   "source": [
    "# Operaciones para eliminar elementos\n",
    "class LinkedList2:\n",
    "    def __init__(self):\n",
    "        self.head = None\n",
    "\n",
    "    def insert_at_front(self, new_data):\n",
    "        new_node = Node(new_data)\n",
    "        new_node.next = self.head\n",
    "        self.head = new_node\n",
    "\n",
    "    def print_list(self):\n",
    "        curr = self.head\n",
    "        while curr is not None:\n",
    "            print(f\" {curr.data}\", end=\"\")\n",
    "            curr = curr.next\n",
    "        print()\n",
    "        \n",
    "# Deletion at beginning (Removal of first node) in a Linked List. Delete the head node and return the new head\n",
    "    def popleft(self):\n",
    "        if self.head is None:\n",
    "            return None\n",
    "        temp = self.head\n",
    "        self.head = self.head.next\n",
    "        del temp\n",
    "        return self.head\n",
    "\n",
    "# Python program to delete the last node of linked list. Function to remove the last node of the linked list\n",
    "    def pop(self):\n",
    "        if not self.head:\n",
    "            return None\n",
    "        if not self.head.next:\n",
    "            return None\n",
    "        second_last = self.head\n",
    "        while second_last.next.next:\n",
    "            second_last = second_last.next\n",
    "        second_last.next = None\n",
    "        return self.head"
   ]
  },
  {
   "cell_type": "code",
   "execution_count": 6,
   "id": "09b578d3-52b9-4b8c-84fc-903c3a3a7818",
   "metadata": {},
   "outputs": [
    {
     "name": "stdout",
     "output_type": "stream",
     "text": [
      " 3 12 15 18\n"
     ]
    }
   ],
   "source": [
    "my_list2 = LinkedList2()\n",
    "  \n",
    "#Llenar lista\n",
    "my_list2.insert_at_front(18) \n",
    "my_list2.insert_at_front(15) \n",
    "my_list2.insert_at_front(12)  \n",
    "my_list2.insert_at_front(3)  \n",
    "\n",
    "my_list2.print_list()"
   ]
  },
  {
   "cell_type": "code",
   "execution_count": 8,
   "id": "ce8c93c0-3495-4a18-a6e6-7ab7c6e6ed9a",
   "metadata": {},
   "outputs": [
    {
     "name": "stdout",
     "output_type": "stream",
     "text": [
      " 12 15 18\n"
     ]
    }
   ],
   "source": [
    "#Eliminar el primer elemento de la lista my_list2 (3)\n",
    "my_list2.popleft()\n",
    "my_list2.print_list()"
   ]
  },
  {
   "cell_type": "code",
   "execution_count": null,
   "id": "4444d4c4-352a-42f8-b659-ca9f9fe2d03c",
   "metadata": {},
   "outputs": [],
   "source": []
  }
 ],
 "metadata": {
  "kernelspec": {
   "display_name": "Python 3 (ipykernel)",
   "language": "python",
   "name": "python3"
  },
  "language_info": {
   "codemirror_mode": {
    "name": "ipython",
    "version": 3
   },
   "file_extension": ".py",
   "mimetype": "text/x-python",
   "name": "python",
   "nbconvert_exporter": "python",
   "pygments_lexer": "ipython3",
   "version": "3.12.7"
  }
 },
 "nbformat": 4,
 "nbformat_minor": 5
}
