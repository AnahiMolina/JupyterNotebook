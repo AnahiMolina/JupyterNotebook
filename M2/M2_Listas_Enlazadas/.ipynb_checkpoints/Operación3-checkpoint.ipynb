{
 "cells": [
  {
   "cell_type": "markdown",
   "id": "444bf444-091c-432d-be05-5fb0499e4453",
   "metadata": {},
   "source": [
    "# Función de Listas Enlazadas\n",
    "20 de marzo 2025"
   ]
  },
  {
   "cell_type": "code",
   "execution_count": 2,
   "id": "46e2eaae-8ae8-43f5-b3c0-da5fb087310d",
   "metadata": {},
   "outputs": [],
   "source": [
    "#Crea nodo vacío.\n",
    "class Node:\n",
    "    def __init__(self, new_data):\n",
    "        self.data = new_data\n",
    "        self.next = None"
   ]
  },
  {
   "cell_type": "code",
   "execution_count": 24,
   "id": "707cefab-b8ef-437c-9530-bf472362a09a",
   "metadata": {},
   "outputs": [],
   "source": [
    "# Operaciones para insertar elementos (al principio, final o en una posición específica)\n",
    "class LinkedList:\n",
    "    def __init__(self):\n",
    "        self.head = None\n",
    "\n",
    "    def insert_at_front(self, new_data):\n",
    "        new_node = Node(new_data)\n",
    "        new_node.next = self.head\n",
    "        self.head = new_node\n",
    "\n",
    "    def print_list(self):\n",
    "        curr = self.head\n",
    "        while curr is not None:\n",
    "            print(f\" {curr.data}\", end=\"\")\n",
    "            curr = curr.next\n",
    "        print()\n",
    "\n",
    "#Insert Node at the End of a Linked List\n",
    "    def append(self, new_data):\n",
    "        new_node = Node(new_data)\n",
    "        if self.head is None:\n",
    "            return new_node\n",
    "        last = self.head\n",
    "        while last.next:\n",
    "            last = last.next\n",
    "        last.next = new_node\n",
    "        return self.head\n",
    "    \n",
    "#Insert a Node At a Specific Position in Linked List\n",
    "    def insert_pos(self, pos, data):\n",
    "        if pos < 1:\n",
    "            print(\"Fuera de rango\")\n",
    "            return self\n",
    "        if pos == 1:\n",
    "            new_node = Node(data)\n",
    "            new_node.next = self.head\n",
    "            size += 1\n",
    "            return new_node\n",
    "        curr = self.head\n",
    "        for _ in range(1, pos - 1):\n",
    "            if curr == None:\n",
    "                break\n",
    "            curr = curr.next\n",
    "        if curr is None:\n",
    "            return self.head\n",
    "        new_node = Node(data)\n",
    "        new_node.next = curr.next\n",
    "        curr.next = new_node\n",
    "        return self.head"
   ]
  },
  {
   "cell_type": "code",
   "execution_count": 6,
   "id": "a40e89cb-af63-4ce8-a61e-a4dd1df00348",
   "metadata": {},
   "outputs": [],
   "source": [
    "my_list1 = LinkedList()\n",
    "  \n",
    "# Llenar lista\n",
    "my_list1.insert_at_front(\"a\") \n",
    "my_list1.insert_at_front(\"b\") \n",
    "my_list1.insert_at_front(\"c\")  "
   ]
  },
  {
   "cell_type": "code",
   "execution_count": 8,
   "id": "e635e54d-ec12-439d-b400-95c0f27c85f5",
   "metadata": {},
   "outputs": [
    {
     "name": "stdout",
     "output_type": "stream",
     "text": [
      " c b a\n"
     ]
    }
   ],
   "source": [
    "my_list1.print_list()"
   ]
  },
  {
   "cell_type": "code",
   "execution_count": 10,
   "id": "596f9c4a-ad22-4dbf-8d53-252c7e055169",
   "metadata": {},
   "outputs": [
    {
     "data": {
      "text/plain": [
       "<__main__.Node at 0x215b7233b00>"
      ]
     },
     "execution_count": 10,
     "metadata": {},
     "output_type": "execute_result"
    }
   ],
   "source": [
    "#Agregar al final de la lista\n",
    "my_list1.append(2025)"
   ]
  },
  {
   "cell_type": "code",
   "execution_count": 12,
   "id": "6cc82d21-7dab-482b-a341-8af39b22201e",
   "metadata": {},
   "outputs": [
    {
     "name": "stdout",
     "output_type": "stream",
     "text": [
      " c b a 2025\n"
     ]
    }
   ],
   "source": [
    "my_list1.print_list()"
   ]
  },
  {
   "cell_type": "code",
   "execution_count": 26,
   "id": "2f686684-faa0-4f01-9aa9-e423353dd4e2",
   "metadata": {},
   "outputs": [
    {
     "name": "stdout",
     "output_type": "stream",
     "text": [
      " c b a NO 2025\n"
     ]
    }
   ],
   "source": [
    "#Agregar en la posición 0 \"NO\"\n",
    "my_list1.insert_pos(pos=0, data=\"NO\")\n",
    "my_list1.print_list()"
   ]
  },
  {
   "cell_type": "code",
   "execution_count": 28,
   "id": "7d0a0ca4-f322-43a0-9876-705f03ca4328",
   "metadata": {},
   "outputs": [
    {
     "name": "stdout",
     "output_type": "stream",
     "text": [
      " c b a NO 2025\n"
     ]
    }
   ],
   "source": [
    "#Agregar en la posición 15 \"NO\"\n",
    "my_list1.insert_pos(pos=15, data=\"NO\")\n",
    "my_list1.print_list()"
   ]
  },
  {
   "cell_type": "code",
   "execution_count": 22,
   "id": "621e0ca7-5bc5-47ac-a654-dc5736fd0671",
   "metadata": {},
   "outputs": [
    {
     "name": "stdout",
     "output_type": "stream",
     "text": [
      " c b a NO 2025\n"
     ]
    }
   ],
   "source": [
    "#Agregar en la posición 4 \"NO\"\n",
    "my_list1.insert_pos(pos=4, data=\"NO\")\n",
    "my_list1.print_list()"
   ]
  },
  {
   "cell_type": "code",
   "execution_count": 30,
   "id": "f1be3130-e656-4ad4-8f70-652d8b4b1137",
   "metadata": {},
   "outputs": [
    {
     "name": "stdout",
     "output_type": "stream",
     "text": [
      " c SI b a NO 2025\n"
     ]
    }
   ],
   "source": [
    "#Agregar en la posición 2 \"SI\"\n",
    "my_list1.insert_pos(pos=2, data=\"SI\")\n",
    "my_list1.print_list()"
   ]
  },
  {
   "cell_type": "code",
   "execution_count": null,
   "id": "95783910-e8ca-476d-b4ba-e6b0b1a80ffc",
   "metadata": {},
   "outputs": [],
   "source": []
  }
 ],
 "metadata": {
  "kernelspec": {
   "display_name": "Python 3 (ipykernel)",
   "language": "python",
   "name": "python3"
  },
  "language_info": {
   "codemirror_mode": {
    "name": "ipython",
    "version": 3
   },
   "file_extension": ".py",
   "mimetype": "text/x-python",
   "name": "python",
   "nbconvert_exporter": "python",
   "pygments_lexer": "ipython3",
   "version": "3.12.7"
  }
 },
 "nbformat": 4,
 "nbformat_minor": 5
}
