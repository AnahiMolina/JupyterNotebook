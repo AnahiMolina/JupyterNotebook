{
 "cells": [
  {
   "cell_type": "markdown",
   "id": "6dff8f8b-f3e3-419a-b6ec-ffad4a8659bb",
   "metadata": {},
   "source": [
    "# Estructuras de datos en Python: Vectores con números aleatorios"
   ]
  },
  {
   "cell_type": "markdown",
   "id": "2951aaa3-8ccd-460c-9d47-7388a8335fb2",
   "metadata": {},
   "source": [
    "### Creación de vectores"
   ]
  },
  {
   "cell_type": "code",
   "execution_count": 3,
   "id": "dfe0bd1d-0316-4949-a66d-b29ad8087b1c",
   "metadata": {},
   "outputs": [],
   "source": [
    "# Importar Numpy\n",
    "import numpy as np"
   ]
  },
  {
   "cell_type": "markdown",
   "id": "645afb28-b2aa-437d-9dd3-463ac41b2f4a",
   "metadata": {},
   "source": [
    "### Random Generator\n",
    "https://numpy.org/doc/stable/reference/random/generator.html#random-generator"
   ]
  },
  {
   "cell_type": "code",
   "execution_count": 5,
   "id": "1dd0dbf8-8450-4370-a31c-0ebc7ab1c6a7",
   "metadata": {},
   "outputs": [
    {
     "name": "stdout",
     "output_type": "stream",
     "text": [
      "Generator(PCG64)\n"
     ]
    }
   ],
   "source": [
    "# Números aleatorios\n",
    "# Caso general\n",
    "\n",
    "rng= np.random.default_rng(12345)\n",
    "print(rng)"
   ]
  },
  {
   "cell_type": "code",
   "execution_count": 6,
   "id": "365a01cc-246d-43a3-b1bb-681016cd1803",
   "metadata": {},
   "outputs": [
    {
     "name": "stdout",
     "output_type": "stream",
     "text": [
      "[0.22733602 0.31675834 0.79736546 0.67625467 0.39110955]\n"
     ]
    }
   ],
   "source": [
    "v1=rng.random(5)\n",
    "print(v1)"
   ]
  },
  {
   "cell_type": "markdown",
   "id": "7e3385ec-6fe7-4187-9382-4676529aa7f3",
   "metadata": {},
   "source": [
    "## 1) Vector con números aleatorios con distribución uniforme"
   ]
  },
  {
   "cell_type": "code",
   "execution_count": 8,
   "id": "c8315fe4-ea36-4b48-b2ca-f893e0ca8bf6",
   "metadata": {},
   "outputs": [
    {
     "name": "stdout",
     "output_type": "stream",
     "text": [
      "[ 7.82351863  1.53821019  3.20359873  2.84371811  2.75905901  9.12094507\n",
      " 10.23344998  3.76574398  9.19754562  9.89892693  6.12970455  3.44964601\n",
      "  9.24241596  3.13762963  8.41467052]\n"
     ]
    }
   ],
   "source": [
    "# Generar vector de datos aleatorios uniformes entre 1 y 10. \n",
    "# Tamaño n=15\n",
    "\n",
    "# random.Generator.uniform(low=0.0, high=1.0, size=None)\n",
    "# Samples are uniformly distributed over the half-open interval \n",
    "# [low, high) (includes low, but excludes high).\n",
    "\n",
    "v2 = np.random.default_rng(123).uniform(1,11,15)\n",
    "print(v2)"
   ]
  },
  {
   "cell_type": "markdown",
   "id": "42e92034-0e07-44d6-9724-9b7d1fb6c462",
   "metadata": {},
   "source": [
    "Para redondear: \n",
    "> numpy.around\n",
    "\n",
    "### Sintaxis\n",
    "\n",
    "numpy.around(a, decimals=0, out=None)[source]\n",
    "\n",
    "Parameters: aarray_like Input data.\n",
    "\n",
    "decimalsint, optional Number of decimal places to round to (default: 0)"
   ]
  },
  {
   "cell_type": "code",
   "execution_count": 10,
   "id": "26137bbd-b28b-4013-a415-1546d3088395",
   "metadata": {},
   "outputs": [
    {
     "name": "stdout",
     "output_type": "stream",
     "text": [
      "[ 8.  2.  3.  3.  3.  9. 10.  4.  9. 10.  6.  3.  9.  3.  8.]\n"
     ]
    }
   ],
   "source": [
    "# Sin decimales\n",
    "v3=np.around(v2)\n",
    "print(v3)"
   ]
  },
  {
   "cell_type": "code",
   "execution_count": 11,
   "id": "0d34b3c0-7b21-4bba-ac00-5c37e9b9ee97",
   "metadata": {},
   "outputs": [
    {
     "name": "stdout",
     "output_type": "stream",
     "text": [
      "[ 7.82  1.54  3.2   2.84  2.76  9.12 10.23  3.77  9.2   9.9   6.13  3.45\n",
      "  9.24  3.14  8.41]\n"
     ]
    }
   ],
   "source": [
    "# A partir de v8 generar v10 con 2 decimales\n",
    "v4=np.around(v2,2)\n",
    "print(v4)"
   ]
  },
  {
   "cell_type": "code",
   "execution_count": 12,
   "id": "df43b281-2d0f-4a4d-8168-ebd1e948ca3b",
   "metadata": {},
   "outputs": [
    {
     "data": {
      "text/plain": [
       "array([109., 122., 164., 117., 100., 162., 108., 145., 178., 108., 160.,\n",
       "       179., 175., 165., 144., 186., 150., 153., 187., 166., 120., 129.,\n",
       "       159., 143., 147., 190., 185., 140., 164., 177., 123., 160., 154.,\n",
       "       106., 132., 115., 199., 195., 104., 115., 151., 177., 189., 156.,\n",
       "       124., 138., 145., 197., 164., 187.])"
      ]
     },
     "execution_count": 12,
     "metadata": {},
     "output_type": "execute_result"
    }
   ],
   "source": [
    "# Crear un vector con 50 números aleatorios uniformemente distribuidos [LI = 100, LS = 200], sin decimales\n",
    "np.around(np.random.default_rng(789).uniform(100,201,50))"
   ]
  },
  {
   "cell_type": "markdown",
   "id": "17761145-353b-4d18-b1a6-ba98dfe84b33",
   "metadata": {},
   "source": [
    "## 2) Vector con números aleatorios de una Normal Estándar\n",
    "https://numpy.org/doc/stable/reference/random/generated/numpy.random.Generator.standard_normal.html#numpy.random.Generator.standard_normal\n",
    "\n",
    "N(0,1) implica media 0 y var=sd=1\n",
    "\n",
    "random.Generator.standard_normal(size=None, dtype=np.float64, out=None)"
   ]
  },
  {
   "cell_type": "code",
   "execution_count": 14,
   "id": "3b8959cf-2624-4ff0-8b8a-f9c5cde34b65",
   "metadata": {},
   "outputs": [
    {
     "name": "stdout",
     "output_type": "stream",
     "text": [
      "[-0.98912135 -0.36778665  1.28792526  0.19397442  0.9202309   0.57710379\n",
      " -0.63646365  0.54195222 -0.31659545 -0.32238912  0.09716732 -1.52593041\n",
      "  1.1921661  -0.67108968  1.00026942  0.13632112  1.53203308 -0.65996941\n",
      " -0.31179486  0.33776913 -2.2074711   0.82792144  1.54163039  1.12680679\n",
      "  0.75476964 -0.14597789  1.28190223  1.07403062  0.39262084  0.00511431]\n"
     ]
    }
   ],
   "source": [
    "# Generar vector de datos aleatorios normal estándar \n",
    "# Tamaño n=30\n",
    "\n",
    "v5=np.random.default_rng(123).standard_normal(30)\n",
    "print(v5)"
   ]
  },
  {
   "cell_type": "code",
   "execution_count": 15,
   "id": "2943e636-e6d3-4a44-bc97-fd74ccc2cc98",
   "metadata": {},
   "outputs": [
    {
     "data": {
      "text/plain": [
       "0.22223731618949352"
      ]
     },
     "execution_count": 15,
     "metadata": {},
     "output_type": "execute_result"
    }
   ],
   "source": [
    "#calcular media y varianza o sd de v11\n",
    "np.mean(v5)"
   ]
  },
  {
   "cell_type": "code",
   "execution_count": 16,
   "id": "de5a5063-d7fe-440d-b122-85cde74f1f2b",
   "metadata": {},
   "outputs": [
    {
     "data": {
      "text/plain": [
       "0.812682651049925"
      ]
     },
     "execution_count": 16,
     "metadata": {},
     "output_type": "execute_result"
    }
   ],
   "source": [
    "np.var(v5)"
   ]
  },
  {
   "cell_type": "code",
   "execution_count": 17,
   "id": "47bbeb55-41fb-4157-a2e9-91ea51dbd058",
   "metadata": {},
   "outputs": [
    {
     "data": {
      "text/plain": [
       "0.9014891297458473"
      ]
     },
     "execution_count": 17,
     "metadata": {},
     "output_type": "execute_result"
    }
   ],
   "source": [
    "np.std(v5)"
   ]
  },
  {
   "cell_type": "markdown",
   "id": "cd55d187-ccc8-4249-b6f5-df6d8aa91b3f",
   "metadata": {},
   "source": [
    "## 3) Vector con números aleatorios de una Normal"
   ]
  },
  {
   "cell_type": "code",
   "execution_count": 19,
   "id": "fc3e4479-3dca-40b4-ab0d-80b2662bb633",
   "metadata": {},
   "outputs": [
    {
     "name": "stdout",
     "output_type": "stream",
     "text": [
      "[-1.  3. 13.  6. 11.  8.  1.  8.  3.  3.  6. -4. 12.  1. 11.  6. 14.  1.\n",
      "  3.  7. -8. 10. 14. 12. 10.  4. 13. 11.  7.  5.  3. -2. 12. -8.  3.  6.\n",
      " 10. 16. 11.  3.  9. -3. 14.  4.  1.  1.  5.  3. 19.  1.  5.  5.  5.  5.\n",
      "  2.  1. -0. -4.  6. 11.  2.  2.  3.  2. -4. 13.  8.  1.  7.  2.  4.  7.\n",
      " 11. 14. 15.  4.  2.  6.  6.  1.  1. 10. 15.  4.  1.  3. -1.  3.  8.  5.\n",
      " 12.  6.  8.  4. 13. -2.  3. -2. 10. 10.]\n"
     ]
    }
   ],
   "source": [
    "# Generar un vector con 100 números aleatorios con distribución normales \n",
    "# con media 5 y varianza 36, sin decimales.\n",
    "\n",
    "#mu, sigma = 5, 6 # mean and standard deviation\n",
    "v6 = np.around(np.random.default_rng(123).normal(5, 6, 100)) #Media = 5, DES.Vest = 6, NumData= 100\n",
    "print(v6)"
   ]
  },
  {
   "cell_type": "code",
   "execution_count": 20,
   "id": "abee3c0b-c40e-4101-9d91-b1151e997c72",
   "metadata": {},
   "outputs": [
    {
     "data": {
      "text/plain": [
       "5.51"
      ]
     },
     "execution_count": 20,
     "metadata": {},
     "output_type": "execute_result"
    }
   ],
   "source": [
    "np.mean(v6)"
   ]
  },
  {
   "cell_type": "code",
   "execution_count": 21,
   "id": "71434ba6-799c-4129-ae3e-3086477577ba",
   "metadata": {},
   "outputs": [
    {
     "data": {
      "text/plain": [
       "28.909900000000004"
      ]
     },
     "execution_count": 21,
     "metadata": {},
     "output_type": "execute_result"
    }
   ],
   "source": [
    "np.var(v6)"
   ]
  },
  {
   "cell_type": "code",
   "execution_count": 22,
   "id": "089cfa87-8dbb-4c22-93fd-0dd1bc91d4b1",
   "metadata": {},
   "outputs": [
    {
     "data": {
      "text/plain": [
       "5.3767927242920575"
      ]
     },
     "execution_count": 22,
     "metadata": {},
     "output_type": "execute_result"
    }
   ],
   "source": [
    "np.std(v6)"
   ]
  }
 ],
 "metadata": {
  "kernelspec": {
   "display_name": "Python 3 (ipykernel)",
   "language": "python",
   "name": "python3"
  },
  "language_info": {
   "codemirror_mode": {
    "name": "ipython",
    "version": 3
   },
   "file_extension": ".py",
   "mimetype": "text/x-python",
   "name": "python",
   "nbconvert_exporter": "python",
   "pygments_lexer": "ipython3",
   "version": "3.12.7"
  }
 },
 "nbformat": 4,
 "nbformat_minor": 5
}
