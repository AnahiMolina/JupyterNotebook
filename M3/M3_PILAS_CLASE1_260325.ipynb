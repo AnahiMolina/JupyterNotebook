{
 "cells": [
  {
   "cell_type": "markdown",
   "id": "8362b0a1-7fb0-4178-a589-b85e7c17e055",
   "metadata": {},
   "source": [
    "# Módulo 3. Clase 1: Pilas en Python\n",
    "26 de Marzo 2025\n",
    "### Tres formas de generar pilas:\n",
    "- Función list ( )\n",
    "- collections . deque\n",
    "- LifoQueue . queue"
   ]
  },
  {
   "cell_type": "code",
   "execution_count": 2,
   "id": "05d3f1e2-f7a1-4854-bd90-be14706f84e0",
   "metadata": {},
   "outputs": [
    {
     "data": {
      "text/plain": [
       "list"
      ]
     },
     "execution_count": 2,
     "metadata": {},
     "output_type": "execute_result"
    }
   ],
   "source": [
    "#Caso 1: Usando función list()\n",
    "#Crear una lista vacía\n",
    "\n",
    "stack1 = []\n",
    "type(stack1)"
   ]
  },
  {
   "cell_type": "code",
   "execution_count": 3,
   "id": "cbd3a97d-5471-4e72-b194-8c2ae898d03a",
   "metadata": {},
   "outputs": [
    {
     "name": "stdout",
     "output_type": "stream",
     "text": [
      "[1, 2, 3, 4]\n"
     ]
    }
   ],
   "source": [
    "#Agregar elementos a la pila (lista) mediante append\n",
    "stack1.append(1)\n",
    "stack1.append(2)\n",
    "stack1.append(3)\n",
    "stack1.append(4)\n",
    "\n",
    "print(stack1)"
   ]
  },
  {
   "cell_type": "code",
   "execution_count": 4,
   "id": "c70b8470-6705-4f71-b91f-2ec14e314b94",
   "metadata": {},
   "outputs": [
    {
     "name": "stdout",
     "output_type": "stream",
     "text": [
      "[1, 2]\n"
     ]
    }
   ],
   "source": [
    "#Eliminar elementos de la pila mediante pop()\n",
    "stack1.pop()\n",
    "stack1.pop()\n",
    "print(stack1)"
   ]
  },
  {
   "cell_type": "code",
   "execution_count": 5,
   "id": "6b117f7b-c23c-44e4-8189-bbf25096d595",
   "metadata": {},
   "outputs": [
    {
     "data": {
      "text/plain": [
       "collections.deque"
      ]
     },
     "execution_count": 5,
     "metadata": {},
     "output_type": "execute_result"
    }
   ],
   "source": [
    "#Caso 2: Usando collections.deque\n",
    "from collections import deque\n",
    "\n",
    "stack2 = deque()\n",
    "type(stack2)"
   ]
  },
  {
   "cell_type": "code",
   "execution_count": 6,
   "id": "5db4fa61-ee33-4125-9eb4-56f76ee4e8c5",
   "metadata": {
    "scrolled": true
   },
   "outputs": [
    {
     "name": "stdout",
     "output_type": "stream",
     "text": [
      "Help on class list in module builtins:\n",
      "\n",
      "class list(object)\n",
      " |  list(iterable=(), /)\n",
      " |\n",
      " |  Built-in mutable sequence.\n",
      " |\n",
      " |  If no argument is given, the constructor creates a new empty list.\n",
      " |  The argument must be an iterable if specified.\n",
      " |\n",
      " |  Methods defined here:\n",
      " |\n",
      " |  __add__(self, value, /)\n",
      " |      Return self+value.\n",
      " |\n",
      " |  __contains__(self, key, /)\n",
      " |      Return bool(key in self).\n",
      " |\n",
      " |  __delitem__(self, key, /)\n",
      " |      Delete self[key].\n",
      " |\n",
      " |  __eq__(self, value, /)\n",
      " |      Return self==value.\n",
      " |\n",
      " |  __ge__(self, value, /)\n",
      " |      Return self>=value.\n",
      " |\n",
      " |  __getattribute__(self, name, /)\n",
      " |      Return getattr(self, name).\n",
      " |\n",
      " |  __getitem__(self, index, /)\n",
      " |      Return self[index].\n",
      " |\n",
      " |  __gt__(self, value, /)\n",
      " |      Return self>value.\n",
      " |\n",
      " |  __iadd__(self, value, /)\n",
      " |      Implement self+=value.\n",
      " |\n",
      " |  __imul__(self, value, /)\n",
      " |      Implement self*=value.\n",
      " |\n",
      " |  __init__(self, /, *args, **kwargs)\n",
      " |      Initialize self.  See help(type(self)) for accurate signature.\n",
      " |\n",
      " |  __iter__(self, /)\n",
      " |      Implement iter(self).\n",
      " |\n",
      " |  __le__(self, value, /)\n",
      " |      Return self<=value.\n",
      " |\n",
      " |  __len__(self, /)\n",
      " |      Return len(self).\n",
      " |\n",
      " |  __lt__(self, value, /)\n",
      " |      Return self<value.\n",
      " |\n",
      " |  __mul__(self, value, /)\n",
      " |      Return self*value.\n",
      " |\n",
      " |  __ne__(self, value, /)\n",
      " |      Return self!=value.\n",
      " |\n",
      " |  __repr__(self, /)\n",
      " |      Return repr(self).\n",
      " |\n",
      " |  __reversed__(self, /)\n",
      " |      Return a reverse iterator over the list.\n",
      " |\n",
      " |  __rmul__(self, value, /)\n",
      " |      Return value*self.\n",
      " |\n",
      " |  __setitem__(self, key, value, /)\n",
      " |      Set self[key] to value.\n",
      " |\n",
      " |  __sizeof__(self, /)\n",
      " |      Return the size of the list in memory, in bytes.\n",
      " |\n",
      " |  append(self, object, /)\n",
      " |      Append object to the end of the list.\n",
      " |\n",
      " |  clear(self, /)\n",
      " |      Remove all items from list.\n",
      " |\n",
      " |  copy(self, /)\n",
      " |      Return a shallow copy of the list.\n",
      " |\n",
      " |  count(self, value, /)\n",
      " |      Return number of occurrences of value.\n",
      " |\n",
      " |  extend(self, iterable, /)\n",
      " |      Extend list by appending elements from the iterable.\n",
      " |\n",
      " |  index(self, value, start=0, stop=9223372036854775807, /)\n",
      " |      Return first index of value.\n",
      " |\n",
      " |      Raises ValueError if the value is not present.\n",
      " |\n",
      " |  insert(self, index, object, /)\n",
      " |      Insert object before index.\n",
      " |\n",
      " |  pop(self, index=-1, /)\n",
      " |      Remove and return item at index (default last).\n",
      " |\n",
      " |      Raises IndexError if list is empty or index is out of range.\n",
      " |\n",
      " |  remove(self, value, /)\n",
      " |      Remove first occurrence of value.\n",
      " |\n",
      " |      Raises ValueError if the value is not present.\n",
      " |\n",
      " |  reverse(self, /)\n",
      " |      Reverse *IN PLACE*.\n",
      " |\n",
      " |  sort(self, /, *, key=None, reverse=False)\n",
      " |      Sort the list in ascending order and return None.\n",
      " |\n",
      " |      The sort is in-place (i.e. the list itself is modified) and stable (i.e. the\n",
      " |      order of two equal elements is maintained).\n",
      " |\n",
      " |      If a key function is given, apply it once to each list item and sort them,\n",
      " |      ascending or descending, according to their function values.\n",
      " |\n",
      " |      The reverse flag can be set to sort in descending order.\n",
      " |\n",
      " |  ----------------------------------------------------------------------\n",
      " |  Class methods defined here:\n",
      " |\n",
      " |  __class_getitem__(...)\n",
      " |      See PEP 585\n",
      " |\n",
      " |  ----------------------------------------------------------------------\n",
      " |  Static methods defined here:\n",
      " |\n",
      " |  __new__(*args, **kwargs)\n",
      " |      Create and return a new object.  See help(type) for accurate signature.\n",
      " |\n",
      " |  ----------------------------------------------------------------------\n",
      " |  Data and other attributes defined here:\n",
      " |\n",
      " |  __hash__ = None\n",
      "\n"
     ]
    }
   ],
   "source": [
    "help(list)"
   ]
  },
  {
   "cell_type": "code",
   "execution_count": 7,
   "id": "21e427cf-06db-4f1a-879c-cd79b6df6850",
   "metadata": {},
   "outputs": [
    {
     "name": "stdout",
     "output_type": "stream",
     "text": [
      "deque([1, 2, 3, 4, 5])\n"
     ]
    }
   ],
   "source": [
    "#Agregar elementos a la lista\n",
    "stack2.append(1)\n",
    "stack2.append(2)\n",
    "stack2.append(3)\n",
    "stack2.append(4)\n",
    "stack2.append(5)\n",
    "\n",
    "print(stack2)"
   ]
  },
  {
   "cell_type": "code",
   "execution_count": 8,
   "id": "0757684f-46cf-455b-a014-0560a4cd42f6",
   "metadata": {},
   "outputs": [
    {
     "name": "stdout",
     "output_type": "stream",
     "text": [
      "deque([1])\n"
     ]
    }
   ],
   "source": [
    "#Eliminar elementos con pop()\n",
    "stack2.pop()\n",
    "stack2.pop()\n",
    "stack2.pop()\n",
    "stack2.pop()\n",
    "\n",
    "print(stack2)"
   ]
  },
  {
   "cell_type": "code",
   "execution_count": 9,
   "id": "d6fa38b5-aeb0-4ffa-8058-2986f584eed4",
   "metadata": {},
   "outputs": [
    {
     "data": {
      "text/plain": [
       "queue.LifoQueue"
      ]
     },
     "execution_count": 9,
     "metadata": {},
     "output_type": "execute_result"
    }
   ],
   "source": [
    "#Caso 3: Usando Queue\n",
    "from queue import LifoQueue\n",
    "\n",
    "#Pila vacía\n",
    "stack3 = LifoQueue(maxsize = 5)\n",
    "type(stack3)"
   ]
  },
  {
   "cell_type": "code",
   "execution_count": 10,
   "id": "b957d90a-79dd-4ed4-ac77-e2ca30ecdbd3",
   "metadata": {},
   "outputs": [],
   "source": [
    "#Agregar elementos a la Pila con la función put()\n",
    "stack3.put(1)\n",
    "stack3.put(2)\n",
    "stack3.put(3)\n",
    "stack3.put(4)\n",
    "stack3.put(5)"
   ]
  },
  {
   "cell_type": "code",
   "execution_count": 11,
   "id": "acaacb40-37f7-450f-895e-68415250ec3a",
   "metadata": {},
   "outputs": [
    {
     "name": "stdout",
     "output_type": "stream",
     "text": [
      "5\n"
     ]
    }
   ],
   "source": [
    "#Tamaño de la pila\n",
    "print(stack3.qsize())"
   ]
  },
  {
   "cell_type": "code",
   "execution_count": 12,
   "id": "a0a481e4-bc90-4a97-943b-4ba1a67e2e82",
   "metadata": {},
   "outputs": [
    {
     "name": "stdout",
     "output_type": "stream",
     "text": [
      "True\n"
     ]
    }
   ],
   "source": [
    "#Verifica si la pila está vacía.\n",
    "print(stack3.full())"
   ]
  },
  {
   "cell_type": "markdown",
   "id": "e2427995-79db-401a-9e7b-8a2f602d7e32",
   "metadata": {},
   "source": [
    "# Práctica\n",
    "Crear las siguientes Pilas utilizando los tres métodos revisados:\n",
    "1. Días de la semana (empezar en lunes).\n",
    "2. Meses de año. \n",
    "3. Pila de números mostrados en la figura inferior"
   ]
  },
  {
   "cell_type": "code",
   "execution_count": 14,
   "id": "59e0154c-210e-4de4-b33d-b8f0784c128b",
   "metadata": {},
   "outputs": [
    {
     "name": "stdout",
     "output_type": "stream",
     "text": [
      "['Lunes', 'Martes', 'Miércoles', 'Jueves', 'Viernes', 'Sábado', 'Domingo']\n"
     ]
    }
   ],
   "source": [
    "#list()\n",
    "semana1 = []\n",
    "semana1.append(\"Lunes\")\n",
    "semana1.append(\"Martes\")\n",
    "semana1.append(\"Miércoles\")\n",
    "semana1.append(\"Jueves\")\n",
    "semana1.append(\"Viernes\")\n",
    "semana1.append(\"Sábado\")\n",
    "semana1.append(\"Domingo\")\n",
    "print(semana1)"
   ]
  },
  {
   "cell_type": "code",
   "execution_count": 15,
   "id": "acf23044-9d87-4f10-9059-0817e31643fd",
   "metadata": {},
   "outputs": [
    {
     "name": "stdout",
     "output_type": "stream",
     "text": [
      "['Enero', 'Febrero', 'Marzo', 'Abril', 'Mayo', 'Junio', 'Julio', 'Agosto', 'Septiembre', 'Octubre', 'Noviembre', 'Diciembre']\n"
     ]
    }
   ],
   "source": [
    "año1 = []\n",
    "año1.append(\"Enero\")\n",
    "año1.append(\"Febrero\")\n",
    "año1.append(\"Marzo\")\n",
    "año1.append(\"Abril\")\n",
    "año1.append(\"Mayo\")\n",
    "año1.append(\"Junio\")\n",
    "año1.append(\"Julio\")\n",
    "año1.append(\"Agosto\")\n",
    "año1.append(\"Septiembre\")\n",
    "año1.append(\"Octubre\")\n",
    "año1.append(\"Noviembre\")\n",
    "año1.append(\"Diciembre\")\n",
    "print(año1)"
   ]
  },
  {
   "cell_type": "code",
   "execution_count": 16,
   "id": "dd4fed3e-06b0-4847-a6a9-41fd1d9d9169",
   "metadata": {},
   "outputs": [
    {
     "name": "stdout",
     "output_type": "stream",
     "text": [
      "[40, 30, 20, 10]\n"
     ]
    }
   ],
   "source": [
    "pila1 = []\n",
    "pila1.append(40)\n",
    "pila1.append(30)\n",
    "pila1.append(20)\n",
    "pila1.append(10)\n",
    "print(pila1)"
   ]
  },
  {
   "cell_type": "code",
   "execution_count": 17,
   "id": "b4ababd9-1fa0-4f18-b5cc-839bec4d9fba",
   "metadata": {},
   "outputs": [
    {
     "name": "stdout",
     "output_type": "stream",
     "text": [
      "deque(['Lunes', 'Martes', 'Miércoles', 'Jueves', 'Viernes', 'Sábado', 'Domingo'])\n"
     ]
    }
   ],
   "source": [
    "#deque\n",
    "semana2 = deque()\n",
    "semana2.append(\"Lunes\")\n",
    "semana2.append(\"Martes\")\n",
    "semana2.append(\"Miércoles\")\n",
    "semana2.append(\"Jueves\")\n",
    "semana2.append(\"Viernes\")\n",
    "semana2.append(\"Sábado\")\n",
    "semana2.append(\"Domingo\")\n",
    "print(semana2)"
   ]
  },
  {
   "cell_type": "code",
   "execution_count": 34,
   "id": "5a6a971c-f43b-4f81-887d-b6fd0e0c8057",
   "metadata": {},
   "outputs": [
    {
     "name": "stdout",
     "output_type": "stream",
     "text": [
      "deque(['Enero', 'Febrero', 'Marzo', 'Abril', 'Mayo', 'Junio', 'Julio', 'Agosto', 'Septiembre', 'Octubre', 'Noviembre', 'Diciembre'])\n"
     ]
    }
   ],
   "source": [
    "año2 = deque()\n",
    "año2.append(\"Enero\")\n",
    "año2.append(\"Febrero\")\n",
    "año2.append(\"Marzo\")\n",
    "año2.append(\"Abril\")\n",
    "año2.append(\"Mayo\")\n",
    "año2.append(\"Junio\")\n",
    "año2.append(\"Julio\")\n",
    "año2.append(\"Agosto\")\n",
    "año2.append(\"Septiembre\")\n",
    "año2.append(\"Octubre\")\n",
    "año2.append(\"Noviembre\")\n",
    "año2.append(\"Diciembre\")\n",
    "print(año2)"
   ]
  },
  {
   "cell_type": "code",
   "execution_count": 36,
   "id": "180375c3-8883-47b1-9824-acdd8dfa984f",
   "metadata": {},
   "outputs": [
    {
     "name": "stdout",
     "output_type": "stream",
     "text": [
      "deque([40, 30, 20, 10])\n"
     ]
    }
   ],
   "source": [
    "pila2 = deque()\n",
    "pila2.append(40)\n",
    "pila2.append(30)\n",
    "pila2.append(20)\n",
    "pila2.append(10)\n",
    "print(pila2)"
   ]
  },
  {
   "cell_type": "code",
   "execution_count": null,
   "id": "2d83f976-bb0f-476b-838a-7262a3e56743",
   "metadata": {},
   "outputs": [],
   "source": [
    "semana3 = LifoQueue(maxsize = 7)\n",
    "semana3.append(\"Lunes\")\n",
    "semana3.append(\"Martes\")\n",
    "semana3.append(\"Miércoles\")\n",
    "semana3.append(\"Jueves\")\n",
    "semana3.append(\"Viernes\")\n",
    "semana3.append(\"Sábado\")\n",
    "semana3.append(\"Domingo\")\n",
    "print(semana3)"
   ]
  }
 ],
 "metadata": {
  "kernelspec": {
   "display_name": "Python 3 (ipykernel)",
   "language": "python",
   "name": "python3"
  },
  "language_info": {
   "codemirror_mode": {
    "name": "ipython",
    "version": 3
   },
   "file_extension": ".py",
   "mimetype": "text/x-python",
   "name": "python",
   "nbconvert_exporter": "python",
   "pygments_lexer": "ipython3",
   "version": "3.12.7"
  }
 },
 "nbformat": 4,
 "nbformat_minor": 5
}
