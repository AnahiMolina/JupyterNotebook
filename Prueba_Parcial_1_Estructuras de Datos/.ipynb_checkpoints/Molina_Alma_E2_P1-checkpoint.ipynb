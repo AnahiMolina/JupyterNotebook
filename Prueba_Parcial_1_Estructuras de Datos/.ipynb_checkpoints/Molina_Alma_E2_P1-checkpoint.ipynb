{
 "cells": [
  {
   "cell_type": "markdown",
   "id": "40e90e6d-e0ac-483f-b5c3-5d9ea6717681",
   "metadata": {},
   "source": [
    "# Ejercicio 2"
   ]
  },
  {
   "cell_type": "code",
   "execution_count": 3,
   "id": "eb41fb2b-1039-448a-bfeb-98c50045732d",
   "metadata": {},
   "outputs": [],
   "source": [
    "import numpy as np\n",
    "from queue import Queue\n",
    "\n",
    "class MyQueue():\n",
    "    def __init__(self,n): # n es el número de elementos.\n",
    "        self.elements = Queue(maxsize=n) # elements se puede cambiar.\n",
    "\n",
    "    def enqueue(self, element): # Agregar elementos.\n",
    "        self.elements.put(element)\n",
    "\n",
    "    def dequeue(self): # Quitar elementos.\n",
    "        return self.elements.get()\n",
    "\n",
    "    def full(self): # \n",
    "        return self.elements.full()\n",
    "\n",
    "    def empty(self):\n",
    "        return self.elements.empty()\n",
    "        \n",
    "    def qsize(self):\n",
    "        return self.elements.qsize()"
   ]
  },
  {
   "cell_type": "code",
   "execution_count": 5,
   "id": "9a235ea5-3ccb-4bf8-909f-ca3aff12f3d1",
   "metadata": {},
   "outputs": [],
   "source": [
    "# A partir de MyQueue crear una cola Q1 de tamaño 30 \n",
    "Q1 = MyQueue(30)"
   ]
  },
  {
   "cell_type": "code",
   "execution_count": 7,
   "id": "e1f6f0a6-a80a-4493-8a3d-a59f6eb1ab56",
   "metadata": {},
   "outputs": [],
   "source": [
    "# añadiendo (enqueue) los números aleatorios de una distribución normal (𝝁 = 𝟑,𝝈𝟐 = 𝟖𝟏); usar una cifra decimal y semilla=2104.\n",
    "q1 = np.around(np.random.default_rng(2104).normal(3, 9, 30))"
   ]
  },
  {
   "cell_type": "code",
   "execution_count": 9,
   "id": "6f8dcf1e-5cfb-4df3-9fb8-93ac09a5bd8d",
   "metadata": {},
   "outputs": [],
   "source": [
    "for i in range(30):\n",
    "    Q1.enqueue(q1[i])"
   ]
  },
  {
   "cell_type": "code",
   "execution_count": 11,
   "id": "fce744dd-c347-4875-91ae-a683fb21e6f4",
   "metadata": {},
   "outputs": [
    {
     "data": {
      "text/plain": [
       "30"
      ]
     },
     "execution_count": 11,
     "metadata": {},
     "output_type": "execute_result"
    }
   ],
   "source": [
    "# Verificar si la cola 𝑸𝟏 está llena (full). \n",
    "Q1.qsize()"
   ]
  },
  {
   "cell_type": "code",
   "execution_count": 13,
   "id": "b0e70e9f-8642-4707-af26-8352f745737f",
   "metadata": {},
   "outputs": [
    {
     "name": "stdout",
     "output_type": "stream",
     "text": [
      "9.0\n",
      "-6.0\n",
      "11.0\n",
      "-15.0\n",
      "-7.0\n",
      "9.0\n",
      "7.0\n",
      "-1.0\n",
      "6.0\n",
      "-1.0\n",
      "15.0\n",
      "1.0\n",
      "3.0\n",
      "-3.0\n",
      "14.0\n"
     ]
    }
   ],
   "source": [
    "# Eliminar (dequeue) 15 números de la cola 𝑸𝟏. \n",
    "for i in range(15):\n",
    "    print(Q1.dequeue())"
   ]
  },
  {
   "cell_type": "code",
   "execution_count": 15,
   "id": "b00031e1-cd13-41f7-b26f-f60506325f80",
   "metadata": {},
   "outputs": [
    {
     "data": {
      "text/plain": [
       "False"
      ]
     },
     "execution_count": 15,
     "metadata": {},
     "output_type": "execute_result"
    }
   ],
   "source": [
    "# Verificar si la cola 𝑸𝟏 está llena (full). \n",
    "Q1.full()"
   ]
  },
  {
   "cell_type": "code",
   "execution_count": 17,
   "id": "896ca774-fab4-468d-8664-61ab84580118",
   "metadata": {},
   "outputs": [
    {
     "data": {
      "text/plain": [
       "15"
      ]
     },
     "execution_count": 17,
     "metadata": {},
     "output_type": "execute_result"
    }
   ],
   "source": [
    "# Devolver el número de elementos (qsize) en la cola 𝑸𝟏. \n",
    "Q1.qsize()"
   ]
  },
  {
   "cell_type": "code",
   "execution_count": 19,
   "id": "a6a22695-bd7d-4f39-8ef0-7d4625418114",
   "metadata": {},
   "outputs": [
    {
     "name": "stdout",
     "output_type": "stream",
     "text": [
      "1.0\n",
      "9.0\n",
      "10.0\n",
      "-13.0\n",
      "9.0\n",
      "21.0\n",
      "13.0\n",
      "-19.0\n",
      "4.0\n",
      "23.0\n",
      "9.0\n",
      "-10.0\n",
      "-10.0\n",
      "19.0\n",
      "9.0\n"
     ]
    }
   ],
   "source": [
    "# Eliminar los elementos restantes de la cola 𝑸𝟏 para dejarla vacía. \n",
    "for i in range(15):\n",
    "    print(Q1.dequeue())"
   ]
  },
  {
   "cell_type": "code",
   "execution_count": 21,
   "id": "87c13147-1cd9-4d9a-9610-725f8e76249f",
   "metadata": {},
   "outputs": [
    {
     "data": {
      "text/plain": [
       "True"
      ]
     },
     "execution_count": 21,
     "metadata": {},
     "output_type": "execute_result"
    }
   ],
   "source": [
    "# Verificar que la cola 𝑸𝟏 está vacía.\n",
    "Q1.empty()"
   ]
  },
  {
   "cell_type": "code",
   "execution_count": null,
   "id": "18eae652-397e-4b55-a19c-ca86172ee96c",
   "metadata": {},
   "outputs": [],
   "source": []
  }
 ],
 "metadata": {
  "kernelspec": {
   "display_name": "Python 3 (ipykernel)",
   "language": "python",
   "name": "python3"
  },
  "language_info": {
   "codemirror_mode": {
    "name": "ipython",
    "version": 3
   },
   "file_extension": ".py",
   "mimetype": "text/x-python",
   "name": "python",
   "nbconvert_exporter": "python",
   "pygments_lexer": "ipython3",
   "version": "3.12.7"
  }
 },
 "nbformat": 4,
 "nbformat_minor": 5
}
