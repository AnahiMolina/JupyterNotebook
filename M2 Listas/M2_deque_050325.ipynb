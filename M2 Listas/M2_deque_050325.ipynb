{
 "cells": [
  {
   "cell_type": "markdown",
   "id": "b5df8887-96b9-4335-98ab-2913a5855ebf",
   "metadata": {},
   "source": [
    "# Módulo 2: Listas enlazadas"
   ]
  },
  {
   "cell_type": "code",
   "execution_count": 2,
   "id": "019efb77-fbdd-47fa-838b-6f0db4b6480a",
   "metadata": {},
   "outputs": [],
   "source": [
    "from collections import deque"
   ]
  },
  {
   "cell_type": "code",
   "execution_count": 3,
   "id": "b639788a-403f-4cc0-ac37-efff89cd65cd",
   "metadata": {
    "scrolled": true
   },
   "outputs": [
    {
     "data": {
      "text/plain": [
       "deque(['a',\n",
       "       'b',\n",
       "       'c',\n",
       "       'd',\n",
       "       'e',\n",
       "       'f',\n",
       "       'g',\n",
       "       'h',\n",
       "       'i',\n",
       "       'j',\n",
       "       'k',\n",
       "       'l',\n",
       "       'm',\n",
       "       'n',\n",
       "       'ñ',\n",
       "       'o',\n",
       "       'p',\n",
       "       'q',\n",
       "       'r',\n",
       "       's',\n",
       "       't',\n",
       "       'u',\n",
       "       'v',\n",
       "       'w',\n",
       "       'x',\n",
       "       'y',\n",
       "       'z'])"
      ]
     },
     "execution_count": 3,
     "metadata": {},
     "output_type": "execute_result"
    }
   ],
   "source": [
    "#Opción 1 para crear una lista simplememte enlazada\n",
    "d = deque('abcdefghijklmnñopqrstuvwxyz')\n",
    "d"
   ]
  },
  {
   "cell_type": "code",
   "execution_count": 4,
   "id": "6b29476a-74fa-47dd-ae8a-c5c9af8f0335",
   "metadata": {},
   "outputs": [
    {
     "data": {
      "text/plain": [
       "collections.deque"
      ]
     },
     "execution_count": 4,
     "metadata": {},
     "output_type": "execute_result"
    }
   ],
   "source": [
    "type(d) "
   ]
  },
  {
   "cell_type": "code",
   "execution_count": 5,
   "id": "eba784a9-6e82-4c97-8b59-3679fb03f938",
   "metadata": {},
   "outputs": [
    {
     "data": {
      "text/plain": [
       "deque([2025])"
      ]
     },
     "execution_count": 5,
     "metadata": {},
     "output_type": "execute_result"
    }
   ],
   "source": [
    "v1 = deque([2025]) #Para que sea iterable, se agregan los corchetes\n",
    "v1"
   ]
  },
  {
   "cell_type": "code",
   "execution_count": 6,
   "id": "66d91b2c-ebc1-4344-aa54-f1f48c542ab4",
   "metadata": {},
   "outputs": [
    {
     "data": {
      "text/plain": [
       "deque([5, 'marzo', 2025, True])"
      ]
     },
     "execution_count": 6,
     "metadata": {},
     "output_type": "execute_result"
    }
   ],
   "source": [
    "v2 = deque([5, \"marzo\", 2025, True])\n",
    "v2"
   ]
  },
  {
   "cell_type": "markdown",
   "id": "14a533e5-d621-4547-b826-bba3054285a4",
   "metadata": {},
   "source": [
    "## Operaciones con la lista"
   ]
  },
  {
   "cell_type": "code",
   "execution_count": 8,
   "id": "b5fbe56b-bd65-495c-9310-91e33acfce36",
   "metadata": {},
   "outputs": [
    {
     "data": {
      "text/plain": [
       "deque([1, 2, 3, 4, 5, 6, 7, 8, 9, 10])"
      ]
     },
     "execution_count": 8,
     "metadata": {},
     "output_type": "execute_result"
    }
   ],
   "source": [
    "#Crear una lista con los números del 1 al 10\n",
    "n = deque([1,2,3,4,5,6,7,8,9,10])\n",
    "n"
   ]
  },
  {
   "cell_type": "markdown",
   "id": "8b7b62dd-853c-446e-9359-58b035a44bf0",
   "metadata": {},
   "source": [
    "### append()"
   ]
  },
  {
   "cell_type": "code",
   "execution_count": 10,
   "id": "7e65bdd6-3710-4bc7-b761-27426293dd55",
   "metadata": {},
   "outputs": [
    {
     "data": {
      "text/plain": [
       "deque([1, 2, 3, 4, 5, 6, 7, 8, 9, 10, 100])"
      ]
     },
     "execution_count": 10,
     "metadata": {},
     "output_type": "execute_result"
    }
   ],
   "source": [
    "#append(x): Add x to the right side of the deque.\n",
    "\n",
    "#lista n agregar el 100\n",
    "#Sintaxis: objeto.función(elemento)\n",
    "\n",
    "n.append(100)\n",
    "n"
   ]
  },
  {
   "cell_type": "markdown",
   "id": "93c13c9b-7e2e-47b7-9e5a-9eda6e19b0ce",
   "metadata": {},
   "source": [
    "### appendleft()"
   ]
  },
  {
   "cell_type": "code",
   "execution_count": 12,
   "id": "7d17e64b-5346-49b1-a9d7-db843c995166",
   "metadata": {},
   "outputs": [
    {
     "data": {
      "text/plain": [
       "deque([-3, -1, 1, 2, 3, 4, 5, 6, 7, 8, 9, 10, 100])"
      ]
     },
     "execution_count": 12,
     "metadata": {},
     "output_type": "execute_result"
    }
   ],
   "source": [
    "#appendleft(x)\n",
    "#Add x to the left side of the deque.\n",
    "#En n agregar -1 y -3 a la izquierda de la lista\n",
    "n.appendleft(-1)  \n",
    "n.appendleft(-3)\n",
    "n"
   ]
  },
  {
   "cell_type": "markdown",
   "id": "08bdbc21-3660-4d1f-9e03-91d44a155355",
   "metadata": {},
   "source": [
    "### count()"
   ]
  },
  {
   "cell_type": "code",
   "execution_count": 14,
   "id": "0e56ad57-a9da-45f7-8a33-66cf19fc9ff9",
   "metadata": {},
   "outputs": [
    {
     "data": {
      "text/plain": [
       "13"
      ]
     },
     "execution_count": 14,
     "metadata": {},
     "output_type": "execute_result"
    }
   ],
   "source": [
    "#Count(x)\n",
    "len(n)"
   ]
  },
  {
   "cell_type": "code",
   "execution_count": 15,
   "id": "90bd062a-6295-41ba-ac8d-9f7abd33b05e",
   "metadata": {},
   "outputs": [
    {
     "data": {
      "text/plain": [
       "1"
      ]
     },
     "execution_count": 15,
     "metadata": {},
     "output_type": "execute_result"
    }
   ],
   "source": [
    "n.count(100)"
   ]
  },
  {
   "cell_type": "code",
   "execution_count": 16,
   "id": "7328b377-a093-4fee-a7f6-6411a73f7f35",
   "metadata": {},
   "outputs": [
    {
     "data": {
      "text/plain": [
       "1"
      ]
     },
     "execution_count": 16,
     "metadata": {},
     "output_type": "execute_result"
    }
   ],
   "source": [
    "n.count(-1)"
   ]
  },
  {
   "cell_type": "code",
   "execution_count": 17,
   "id": "5ae367e0-d7c7-45d1-b893-f5d20e97d218",
   "metadata": {},
   "outputs": [
    {
     "data": {
      "text/plain": [
       "deque([-3, -1, 0, 1, 2, 3, 4, 5, 6, 7, 8, 9, 10, 100])"
      ]
     },
     "execution_count": 17,
     "metadata": {},
     "output_type": "execute_result"
    }
   ],
   "source": [
    "#En la lista n insertar 0 en el lugar adecuado\n",
    "\n",
    "#insert(i,x)\n",
    "#insert(posición, elemento)\n",
    "#Insert x into the deque at position i.\n",
    "\n",
    "#n=deque([-3,-1,1,2,3,4,5,6,7,8,9,10,100,100])\n",
    "#Recordar que el índice en Python comienza en 0\n",
    "\n",
    "n.insert(2,0)\n",
    "n"
   ]
  },
  {
   "cell_type": "code",
   "execution_count": 18,
   "id": "41007609-50f3-499c-bda2-39a01cb9ac24",
   "metadata": {},
   "outputs": [
    {
     "data": {
      "text/plain": [
       "-3"
      ]
     },
     "execution_count": 18,
     "metadata": {},
     "output_type": "execute_result"
    }
   ],
   "source": [
    "#Acceder al primer elemento de n\n",
    "n[0]"
   ]
  },
  {
   "cell_type": "code",
   "execution_count": 19,
   "id": "60639d3c-4f16-449c-8063-1831818bc24c",
   "metadata": {},
   "outputs": [
    {
     "data": {
      "text/plain": [
       "deque([-3, -1, -2, 0, 1, 2, 3, 4, 5, 6, 7, 8, 9, 10, 100])"
      ]
     },
     "execution_count": 19,
     "metadata": {},
     "output_type": "execute_result"
    }
   ],
   "source": [
    "# En la lista n insertar -2 en el lugar adecuado\n",
    "# n = deque([-3,-1,...])\n",
    "# insert(i,x)\n",
    "n.insert(2,-2)\n",
    "n"
   ]
  },
  {
   "cell_type": "code",
   "execution_count": 20,
   "id": "797786be-c251-4a91-9e0a-92fce9151a50",
   "metadata": {},
   "outputs": [
    {
     "data": {
      "text/plain": [
       "100"
      ]
     },
     "execution_count": 20,
     "metadata": {},
     "output_type": "execute_result"
    }
   ],
   "source": [
    "#En la lista n eliminar el último 100\n",
    "#pop()\n",
    "#Remove and return an element from the left side of the deque.\n",
    "n.pop()"
   ]
  },
  {
   "cell_type": "code",
   "execution_count": 21,
   "id": "c00191da-2b11-4618-823b-8d8035646866",
   "metadata": {},
   "outputs": [
    {
     "data": {
      "text/plain": [
       "deque([-3, -1, -2, 0, 1, 2, 3, 4, 5, 6, 7, 8, 9, 10])"
      ]
     },
     "execution_count": 21,
     "metadata": {},
     "output_type": "execute_result"
    }
   ],
   "source": [
    "n"
   ]
  },
  {
   "cell_type": "code",
   "execution_count": 22,
   "id": "d9f04dcc-5f9a-4ef4-b710-d6128d39a6e0",
   "metadata": {},
   "outputs": [
    {
     "data": {
      "text/plain": [
       "-3"
      ]
     },
     "execution_count": 22,
     "metadata": {},
     "output_type": "execute_result"
    }
   ],
   "source": [
    "#En la lista n eliminar el primer elemento de la lista (-3)\n",
    "#popleft()\n",
    "#Remove and return an element from the left side of the deque.\n",
    "n.popleft()"
   ]
  },
  {
   "cell_type": "code",
   "execution_count": 23,
   "id": "457c77ea-4c51-417c-ac35-b0a2fb97b430",
   "metadata": {},
   "outputs": [
    {
     "data": {
      "text/plain": [
       "deque([-1, -2, 0, 1, 2, 3, 4, 5, 6, 7, 8, 9, 10])"
      ]
     },
     "execution_count": 23,
     "metadata": {},
     "output_type": "execute_result"
    }
   ],
   "source": [
    "n"
   ]
  },
  {
   "cell_type": "code",
   "execution_count": 43,
   "id": "8ade1e6e-6327-4aa5-b2e8-c0bf8658897a",
   "metadata": {},
   "outputs": [
    {
     "data": {
      "text/plain": [
       "deque([])"
      ]
     },
     "execution_count": 43,
     "metadata": {},
     "output_type": "execute_result"
    }
   ],
   "source": [
    "# clear\n",
    "# Remove all elements from deque leaving it with length 0.\n",
    "n.clear()\n",
    "n"
   ]
  },
  {
   "cell_type": "code",
   "execution_count": null,
   "id": "07d96d20-6dff-4c7e-aa61-3f8763934ef5",
   "metadata": {},
   "outputs": [],
   "source": []
  }
 ],
 "metadata": {
  "kernelspec": {
   "display_name": "Python 3 (ipykernel)",
   "language": "python",
   "name": "python3"
  },
  "language_info": {
   "codemirror_mode": {
    "name": "ipython",
    "version": 3
   },
   "file_extension": ".py",
   "mimetype": "text/x-python",
   "name": "python",
   "nbconvert_exporter": "python",
   "pygments_lexer": "ipython3",
   "version": "3.12.7"
  }
 },
 "nbformat": 4,
 "nbformat_minor": 5
}
