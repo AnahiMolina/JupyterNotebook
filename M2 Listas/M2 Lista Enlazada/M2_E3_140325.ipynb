{
 "cells": [
  {
   "cell_type": "markdown",
   "id": "3dd0f5ae-3628-41bb-823b-437799c0add9",
   "metadata": {},
   "source": [
    "# Práctica individual"
   ]
  },
  {
   "cell_type": "code",
   "execution_count": 2,
   "id": "b7740c41-43bd-4f98-817f-070b2112e6cc",
   "metadata": {},
   "outputs": [],
   "source": [
    "class Node:\n",
    "    def __init__(self, new_data):\n",
    "        self.data = new_data\n",
    "        self.next = None"
   ]
  },
  {
   "cell_type": "code",
   "execution_count": 3,
   "id": "ff54b1c6-9b5a-4173-ab0c-ce447cf1fd7c",
   "metadata": {},
   "outputs": [],
   "source": [
    "class LinkedList:\n",
    "    def __init__(self):\n",
    "        self.head = None\n",
    "\n",
    "    def insert_at_front(self, new_data):\n",
    "        new_node = Node(new_data)\n",
    "        new_node.next = self.head\n",
    "        self.head = new_node\n",
    "\n",
    "    def print_list(self):\n",
    "        curr = self.head\n",
    "        while curr is not None:\n",
    "            print(f\" {curr.data}\", end=\"\")\n",
    "            curr = curr.next\n",
    "        print()\n",
    "\n",
    "    def append(self, new_data):\n",
    "        new_node = Node(new_data)\n",
    "        if self.head is None:\n",
    "            return new_node\n",
    "        last = self.head\n",
    "        while last.next:\n",
    "            last = last.next\n",
    "        last.next = new_node\n",
    "        return self.head\n",
    "    \n",
    "    def insert_pos(self, pos, data):\n",
    "        if pos < 1:\n",
    "            return self\n",
    "        if pos == 1:\n",
    "            new_node = Node(data)\n",
    "            new_node.next = self.head\n",
    "            size += 1\n",
    "            return new_node\n",
    "        curr = self.head\n",
    "        for _ in range(1, pos - 1):\n",
    "            if curr == None:\n",
    "                break\n",
    "            curr = curr.next\n",
    "        if curr is None:\n",
    "            return self.head\n",
    "        new_node = Node(data)\n",
    "\n",
    "        new_node.next = curr.next\n",
    "        curr.next = new_node\n",
    "        return self.head\n",
    "\n",
    "    def popleft(self):\n",
    "        if self.head is None:\n",
    "            return None\n",
    "        temp = self.head\n",
    "        self.head = self.head.next\n",
    "        del temp\n",
    "        return self.head\n",
    "\n",
    "    def pop(self):\n",
    "        if not self.head:\n",
    "            return None\n",
    "        if not self.head.next:\n",
    "            return None\n",
    "        second_last = self.head\n",
    "        while second_last.next.next:\n",
    "            second_last = second_last.next\n",
    "        second_last.next = None\n",
    "        return self.head\n",
    "\n",
    "    def deleteNode(self, position):\n",
    "        temp = self.head\n",
    "        prev = None\n",
    "        if temp is None:\n",
    "            return self.head\n",
    "        if position == 1:\n",
    "            head = temp.next\n",
    "            return self.head\n",
    "        for i in range(1, position):\n",
    "            prev = temp\n",
    "            temp = temp.next\n",
    "            if temp is None:\n",
    "                print(\"Data not present\")\n",
    "                return self.head\n",
    "        if temp is not None:\n",
    "            prev.next = temp.next\n",
    "        return self.head"
   ]
  },
  {
   "cell_type": "code",
   "execution_count": 4,
   "id": "39de3156-55f3-4c2a-a7be-5e28edf78f83",
   "metadata": {},
   "outputs": [],
   "source": [
    "def search_key(self, key):\n",
    "    curr = self.head\n",
    "    while curr is not None:\n",
    "        if curr.data == key:\n",
    "            return True\n",
    "        curr = curr.next\n",
    "    return False"
   ]
  },
  {
   "cell_type": "code",
   "execution_count": 5,
   "id": "9d35110f-adc2-4454-b6ce-224180b267b1",
   "metadata": {},
   "outputs": [
    {
     "name": "stdout",
     "output_type": "stream",
     "text": [
      " Enero Febrero Marzo Abril Mayo Junio Julio Agosto Septiembre Octubre Noviembre Diciembre\n"
     ]
    }
   ],
   "source": [
    "#1. Genere una lista enlazada L1 con los nombres de los meses del año [enero, febrero,…,diciembre]. \n",
    "L1 = LinkedList()\n",
    "L1.insert_at_front(\"Diciembre\")\n",
    "L1.insert_at_front(\"Noviembre\")\n",
    "L1.insert_at_front(\"Octubre\")\n",
    "L1.insert_at_front(\"Septiembre\")\n",
    "L1.insert_at_front(\"Agosto\")\n",
    "L1.insert_at_front(\"Julio\")\n",
    "L1.insert_at_front(\"Junio\")\n",
    "L1.insert_at_front(\"Mayo\")\n",
    "L1.insert_at_front(\"Abril\")\n",
    "L1.insert_at_front(\"Marzo\")\n",
    "L1.insert_at_front(\"Febrero\")\n",
    "L1.insert_at_front(\"Enero\")\n",
    "\n",
    "L1.print_list()"
   ]
  },
  {
   "cell_type": "code",
   "execution_count": 6,
   "id": "c254be0c-6aea-49bd-908a-71e847b8295d",
   "metadata": {},
   "outputs": [
    {
     "name": "stdout",
     "output_type": "stream",
     "text": [
      " lunes martes Enero Febrero Marzo Abril Mayo Junio Julio Agosto Septiembre Octubre Noviembre Diciembre\n"
     ]
    }
   ],
   "source": [
    "#2. Agregar al principio de L1 los datos [lunes, martes]. \n",
    "L1.insert_at_front(\"martes\")\n",
    "L1.insert_at_front(\"lunes\")\n",
    "L1.print_list()\n"
   ]
  },
  {
   "cell_type": "code",
   "execution_count": 7,
   "id": "2cdd1f2c-6bb8-4731-9952-656439bfad81",
   "metadata": {},
   "outputs": [
    {
     "name": "stdout",
     "output_type": "stream",
     "text": [
      " lunes martes Enero Febrero Marzo Abril Mayo Junio Julio Agosto Septiembre Octubre Noviembre Diciembre Jueves Viernes\n"
     ]
    }
   ],
   "source": [
    "#3. Agregar al final de L1 los datos [jueves, viernes]. \n",
    "L1.append(\"Jueves\")\n",
    "L1.append(\"Viernes\")\n",
    "L1.print_list()\n"
   ]
  },
  {
   "cell_type": "code",
   "execution_count": 8,
   "id": "1976a294-db7a-4392-a306-52bdc0573b31",
   "metadata": {},
   "outputs": [
    {
     "name": "stdout",
     "output_type": "stream",
     "text": [
      " lunes martes Enero Febrero Marzo Abril Mayo Junio miércoles Julio Agosto Septiembre Octubre Noviembre Diciembre Jueves Viernes\n"
     ]
    }
   ],
   "source": [
    "#4. Agregar a la mitad de la lista L1 el dato [miércoles]. 9\n",
    "L1.insert_pos(pos=9,data=\"miércoles\")\n",
    "L1.print_list()\n"
   ]
  },
  {
   "cell_type": "code",
   "execution_count": 9,
   "id": "633be762-c40a-4f2a-aa83-89561c48a06e",
   "metadata": {},
   "outputs": [
    {
     "name": "stdout",
     "output_type": "stream",
     "text": [
      " martes Enero Febrero Marzo Abril Mayo Junio miércoles Julio Agosto Septiembre Octubre Noviembre Diciembre Jueves Viernes\n"
     ]
    }
   ],
   "source": [
    "#5. Eliminar el primer elemento de la izquierda de L1. \n",
    "L1.popleft()\n",
    "L1.print_list()"
   ]
  },
  {
   "cell_type": "code",
   "execution_count": 10,
   "id": "8e3c3001-9a00-425a-affb-8771bafd102e",
   "metadata": {},
   "outputs": [
    {
     "name": "stdout",
     "output_type": "stream",
     "text": [
      " martes Enero Febrero Marzo Abril Mayo Junio miércoles Julio Agosto Septiembre Octubre Noviembre Diciembre Jueves\n"
     ]
    }
   ],
   "source": [
    "#6. Eliminar el último elemento de la derecha de L1. \n",
    "L1.pop()\n",
    "L1.print_list()\n"
   ]
  },
  {
   "cell_type": "code",
   "execution_count": 11,
   "id": "002aa940-2d3e-4c78-b6fc-755f212646df",
   "metadata": {},
   "outputs": [
    {
     "name": "stdout",
     "output_type": "stream",
     "text": [
      " martes Enero Febrero Marzo Abril Mayo Junio Julio Agosto Septiembre Octubre Noviembre Diciembre Jueves\n"
     ]
    }
   ],
   "source": [
    "#7. Eliminar el dato [miércoles] de L1. \n",
    "L1.deleteNode(8)\n",
    "L1.print_list()\n"
   ]
  },
  {
   "cell_type": "code",
   "execution_count": 12,
   "id": "a0301d5c-20bc-464d-9394-793ef3d4dfbe",
   "metadata": {},
   "outputs": [
    {
     "name": "stdout",
     "output_type": "stream",
     "text": [
      " martes Enero Febrero Marzo Abril Mayo Junio Agosto Septiembre Octubre Noviembre Diciembre Jueves\n"
     ]
    }
   ],
   "source": [
    "#8. Eliminar el dato [julio] de L1.\n",
    "L1.deleteNode(8)\n",
    "L1.print_list()\n"
   ]
  },
  {
   "cell_type": "code",
   "execution_count": 13,
   "id": "2b24388a-330d-48d7-9e40-141dc7de8b81",
   "metadata": {},
   "outputs": [
    {
     "data": {
      "text/plain": [
       "False"
      ]
     },
     "execution_count": 13,
     "metadata": {},
     "output_type": "execute_result"
    }
   ],
   "source": [
    "#9. Determinar si está presente el dato [domingo] en la lista enlazada L1. \n",
    "search_key(L1, key=\"domingo\")"
   ]
  },
  {
   "cell_type": "code",
   "execution_count": 14,
   "id": "64a62e38-32da-4518-9b55-7dfd4f29ebb9",
   "metadata": {},
   "outputs": [
    {
     "data": {
      "text/plain": [
       "True"
      ]
     },
     "execution_count": 14,
     "metadata": {},
     "output_type": "execute_result"
    }
   ],
   "source": [
    "#10. Determinar si está presente el dato [Marzo] en la lista enlazada L1. \n",
    "search_key(L1, key=\"Marzo\")"
   ]
  }
 ],
 "metadata": {
  "kernelspec": {
   "display_name": "Python 3 (ipykernel)",
   "language": "python",
   "name": "python3"
  },
  "language_info": {
   "codemirror_mode": {
    "name": "ipython",
    "version": 3
   },
   "file_extension": ".py",
   "mimetype": "text/x-python",
   "name": "python",
   "nbconvert_exporter": "python",
   "pygments_lexer": "ipython3",
   "version": "3.12.7"
  }
 },
 "nbformat": 4,
 "nbformat_minor": 5
}
