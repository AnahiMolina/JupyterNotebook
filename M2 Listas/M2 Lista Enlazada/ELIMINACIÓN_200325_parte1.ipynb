{
 "cells": [
  {
   "cell_type": "markdown",
   "id": "54892674-6787-4f3c-b49c-0c79d9656068",
   "metadata": {},
   "source": [
    "# Operaciones de eliminación"
   ]
  },
  {
   "cell_type": "code",
   "execution_count": 9,
   "id": "02492b3c-3769-4bd8-ae03-27c3fbd403a6",
   "metadata": {},
   "outputs": [],
   "source": [
    "#Crea nodo vacío.\n",
    "class Node:\n",
    "    def __init__(self, new_data):\n",
    "        self.data = new_data\n",
    "        self.next = None"
   ]
  },
  {
   "cell_type": "code",
   "execution_count": 11,
   "id": "87e6ee1c-2245-4d0d-b119-00bf609c0bbc",
   "metadata": {},
   "outputs": [],
   "source": [
    "# Operaciones para eliminar elementos\n",
    "class LinkedList2:\n",
    "    def __init__(self):\n",
    "        self.head = None\n",
    "\n",
    "    def insert_at_front(self, new_data):\n",
    "        new_node = Node(new_data)\n",
    "        new_node.next = self.head\n",
    "        self.head = new_node\n",
    "\n",
    "    def print_list(self):\n",
    "        curr = self.head\n",
    "        while curr is not None:\n",
    "            print(f\" {curr.data}\", end=\"\")\n",
    "            curr = curr.next\n",
    "        print()\n",
    "        \n",
    "# Deletion at beginning (Removal of first node) in a Linked List. Delete the head node and return the new head\n",
    "    def popleft(self):\n",
    "        if self.head is None:\n",
    "            return None\n",
    "        temp = self.head\n",
    "        self.head = self.head.next\n",
    "        del temp\n",
    "        return self.head\n",
    "\n",
    "# Python program to delete the last node of linked list. Function to remove the last node of the linked list\n",
    "    def pop(self):\n",
    "        if not self.head:\n",
    "            return None\n",
    "        if not self.head.next:\n",
    "            return None\n",
    "        second_last = self.head\n",
    "        while second_last.next.next:\n",
    "            second_last = second_last.next\n",
    "        second_last.next = None\n",
    "        return self.head\n",
    "\n",
    "    def deleteNode(self, position):\n",
    "        temp = self.head\n",
    "        prev = None\n",
    "        \n",
    "        if temp is None:\n",
    "            return self.head\n",
    "\n",
    "        if position == 1:\n",
    "            head = temp.next\n",
    "            return self.head\n",
    "\n",
    "        for i in range(1, position):\n",
    "            prev = temp\n",
    "            temp = temp.next\n",
    "            if temp is None:\n",
    "                print(\"Data not present\")\n",
    "                return self.head\n",
    "\n",
    "        if temp is not None:\n",
    "            prev.next = temp.next\n",
    "        return self.head"
   ]
  },
  {
   "cell_type": "code",
   "execution_count": 13,
   "id": "53527541-9a66-4ea7-ae15-fbea5453deec",
   "metadata": {},
   "outputs": [
    {
     "name": "stdout",
     "output_type": "stream",
     "text": [
      " Lunes Martes Miércoles Jueves Viernes Sábado Domingo\n"
     ]
    }
   ],
   "source": [
    "# Crear una lista con los días de la semana\n",
    "semana = LinkedList2()\n",
    "semana.insert_at_front(\"Domingo\")\n",
    "semana.insert_at_front(\"Sábado\")\n",
    "semana.insert_at_front(\"Viernes\")\n",
    "semana.insert_at_front(\"Jueves\")\n",
    "semana.insert_at_front(\"Miércoles\")\n",
    "semana.insert_at_front(\"Martes\")\n",
    "semana.insert_at_front(\"Lunes\")\n",
    "\n",
    "semana.print_list()\n"
   ]
  },
  {
   "cell_type": "code",
   "execution_count": 15,
   "id": "b3aad603-858c-443f-aa76-8858b9822c60",
   "metadata": {},
   "outputs": [
    {
     "name": "stdout",
     "output_type": "stream",
     "text": [
      " Martes Miércoles Jueves Viernes Sábado Domingo\n"
     ]
    }
   ],
   "source": [
    "# eliminar el primer elemento de la lista (izquierda)\n",
    "semana.popleft()\n",
    "semana.print_list()"
   ]
  },
  {
   "cell_type": "code",
   "execution_count": 17,
   "id": "e3017d35-1f9f-4815-b0a7-3f3d9776801f",
   "metadata": {},
   "outputs": [
    {
     "name": "stdout",
     "output_type": "stream",
     "text": [
      " Martes Miércoles Jueves Viernes Sábado\n"
     ]
    }
   ],
   "source": [
    "# eliminar el último elemento de la lista (derecha)\n",
    "semana.pop()\n",
    "semana.print_list()"
   ]
  },
  {
   "cell_type": "code",
   "execution_count": 19,
   "id": "ec812501-e1d4-45aa-9df4-f781192b3f9d",
   "metadata": {},
   "outputs": [
    {
     "name": "stdout",
     "output_type": "stream",
     "text": [
      " Martes Miércoles Jueves Sábado\n"
     ]
    }
   ],
   "source": [
    "# eliminar el viernes de la lista\n",
    "semana.deleteNode(4)\n",
    "semana.print_list()"
   ]
  },
  {
   "cell_type": "code",
   "execution_count": 3,
   "id": "09b578d3-52b9-4b8c-84fc-903c3a3a7818",
   "metadata": {},
   "outputs": [
    {
     "name": "stdout",
     "output_type": "stream",
     "text": [
      " 3 12 15 18\n"
     ]
    }
   ],
   "source": [
    "my_list2 = LinkedList2()\n",
    "  \n",
    "#Llenar lista\n",
    "my_list2.insert_at_front(18) \n",
    "my_list2.insert_at_front(15) \n",
    "my_list2.insert_at_front(12)  \n",
    "my_list2.insert_at_front(3)  \n",
    "\n",
    "my_list2.print_list()"
   ]
  },
  {
   "cell_type": "code",
   "execution_count": 4,
   "id": "ce8c93c0-3495-4a18-a6e6-7ab7c6e6ed9a",
   "metadata": {},
   "outputs": [
    {
     "name": "stdout",
     "output_type": "stream",
     "text": [
      " 12 15 18\n"
     ]
    }
   ],
   "source": [
    "#Eliminar el primer elemento de la lista my_list2 (3)\n",
    "my_list2.popleft()\n",
    "my_list2.print_list()"
   ]
  },
  {
   "cell_type": "code",
   "execution_count": 5,
   "id": "4444d4c4-352a-42f8-b659-ca9f9fe2d03c",
   "metadata": {},
   "outputs": [
    {
     "name": "stdout",
     "output_type": "stream",
     "text": [
      " 12 15\n"
     ]
    }
   ],
   "source": [
    "#Eliminar el último elemento de my_list2 (3)\n",
    "my_list2.pop()\n",
    "my_list2.print_list()"
   ]
  },
  {
   "cell_type": "code",
   "execution_count": 11,
   "id": "d92eb945-2e5d-426b-b089-f7dfa0005073",
   "metadata": {},
   "outputs": [
    {
     "name": "stdout",
     "output_type": "stream",
     "text": [
      " 12\n"
     ]
    }
   ],
   "source": [
    "#Eliminar el último elemento de my_list2 (3)\n",
    "my_list2.pop()\n",
    "my_list2.print_list()"
   ]
  },
  {
   "cell_type": "code",
   "execution_count": 13,
   "id": "8d562a35-257f-4029-9555-188f6b512193",
   "metadata": {},
   "outputs": [
    {
     "name": "stdout",
     "output_type": "stream",
     "text": [
      " 12\n"
     ]
    }
   ],
   "source": [
    "#Eliminar el último elemento de my_list2.\n",
    "my_list2.pop()\n",
    "my_list2.print_list()"
   ]
  },
  {
   "cell_type": "code",
   "execution_count": null,
   "id": "6f243ea0-27b2-41b8-af00-0d3acc26dcf8",
   "metadata": {},
   "outputs": [],
   "source": []
  }
 ],
 "metadata": {
  "kernelspec": {
   "display_name": "Python 3 (ipykernel)",
   "language": "python",
   "name": "python3"
  },
  "language_info": {
   "codemirror_mode": {
    "name": "ipython",
    "version": 3
   },
   "file_extension": ".py",
   "mimetype": "text/x-python",
   "name": "python",
   "nbconvert_exporter": "python",
   "pygments_lexer": "ipython3",
   "version": "3.12.7"
  }
 },
 "nbformat": 4,
 "nbformat_minor": 5
}
