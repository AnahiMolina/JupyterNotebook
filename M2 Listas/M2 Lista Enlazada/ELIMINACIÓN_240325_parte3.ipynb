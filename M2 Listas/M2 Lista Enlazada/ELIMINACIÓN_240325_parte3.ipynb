{
 "cells": [
  {
   "cell_type": "markdown",
   "id": "d24ce54e-3ce5-4016-bb42-3ca8c35b4a12",
   "metadata": {},
   "source": [
    "# Eliminación por posiciones\n"
   ]
  },
  {
   "cell_type": "code",
   "execution_count": 2,
   "id": "966f3806-66e4-4bf3-8316-56070baccc2d",
   "metadata": {},
   "outputs": [],
   "source": [
    "class Node:\n",
    "    def __init__(self, new_data):\n",
    "        self.data = new_data\n",
    "        self.next = None"
   ]
  },
  {
   "cell_type": "code",
   "execution_count": 3,
   "id": "178f8762-6d2d-4ebe-a09a-72a8be4f572a",
   "metadata": {},
   "outputs": [],
   "source": [
    "class LinkedList3:\n",
    "    def __init__(self):\n",
    "        self.head = None\n",
    "\n",
    "    def insert_at_front(self, new_data):\n",
    "        new_node = Node(new_data)\n",
    "        new_node.next = self.head\n",
    "        self.head = new_node\n",
    "\n",
    "    def print_list(self):\n",
    "        curr = self.head\n",
    "        while curr is not None:\n",
    "            print(f\" {curr.data}\", end=\"\")\n",
    "            curr = curr.next\n",
    "        print()\n",
    "\n",
    "    def deleteNode(self, position):\n",
    "        temp = self.head\n",
    "        prev = None\n",
    "        \n",
    "        if temp is None:\n",
    "            return self.head\n",
    "\n",
    "        if position == 1:\n",
    "            head = temp.next\n",
    "            return self.head\n",
    "\n",
    "        for i in range(1, position):\n",
    "            prev = temp\n",
    "            temp = temp.next\n",
    "            if temp is None:\n",
    "                print(\"Data not present\")\n",
    "                return self.head\n",
    "\n",
    "        if temp is not None:\n",
    "            prev.next = temp.next\n",
    "        return self.head"
   ]
  },
  {
   "cell_type": "code",
   "execution_count": 4,
   "id": "df91d580-48f0-4a9e-bc9f-3339303bce83",
   "metadata": {},
   "outputs": [
    {
     "name": "stdout",
     "output_type": "stream",
     "text": [
      " 3 6 12 15\n"
     ]
    }
   ],
   "source": [
    "# Create the linked list \n",
    "my_list3 = LinkedList3() \n",
    "\n",
    "#llenar\n",
    "my_list3.insert_at_front(15) \n",
    "my_list3.insert_at_front(12) \n",
    "my_list3.insert_at_front(6)  \n",
    "my_list3.insert_at_front(3) \n",
    "\n",
    "my_list3.print_list()"
   ]
  },
  {
   "cell_type": "code",
   "execution_count": 5,
   "id": "fd44ba55-cf17-46b7-ac7f-63685cfd8f77",
   "metadata": {},
   "outputs": [
    {
     "name": "stdout",
     "output_type": "stream",
     "text": [
      "Data not present\n",
      " 3 6 12 15\n"
     ]
    }
   ],
   "source": [
    "#Verificar qué pasa si solicita eliminarel primer nodo o un nodo fuera de rango\n",
    "\n",
    "my_list3.deleteNode(position=10)\n",
    "my_list3.print_list()"
   ]
  },
  {
   "cell_type": "code",
   "execution_count": 6,
   "id": "87839833-223f-4283-b13a-ef78d617414a",
   "metadata": {},
   "outputs": [
    {
     "name": "stdout",
     "output_type": "stream",
     "text": [
      " 3 12 15\n"
     ]
    }
   ],
   "source": [
    "#Eliminar el nodo de la posición 2 [6]\n",
    "my_list3.deleteNode(position=2)\n",
    "my_list3.print_list()"
   ]
  },
  {
   "cell_type": "code",
   "execution_count": 13,
   "id": "57b4046d-f6e8-40cf-827e-c89191a2e7b8",
   "metadata": {},
   "outputs": [
    {
     "name": "stdout",
     "output_type": "stream",
     "text": [
      " 3 12\n"
     ]
    }
   ],
   "source": [
    "#Eliminar el nodo de la posición 3\n",
    "my_list3.deleteNode(position=3)\n",
    "my_list3.print_list()"
   ]
  },
  {
   "cell_type": "code",
   "execution_count": null,
   "id": "da3c0a6f-3a9a-4f9f-ae9c-8df18defe207",
   "metadata": {},
   "outputs": [],
   "source": []
  }
 ],
 "metadata": {
  "kernelspec": {
   "display_name": "Python 3 (ipykernel)",
   "language": "python",
   "name": "python3"
  },
  "language_info": {
   "codemirror_mode": {
    "name": "ipython",
    "version": 3
   },
   "file_extension": ".py",
   "mimetype": "text/x-python",
   "name": "python",
   "nbconvert_exporter": "python",
   "pygments_lexer": "ipython3",
   "version": "3.12.7"
  }
 },
 "nbformat": 4,
 "nbformat_minor": 5
}
