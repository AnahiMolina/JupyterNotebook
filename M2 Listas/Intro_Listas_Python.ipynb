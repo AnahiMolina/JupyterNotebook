{
 "cells": [
  {
   "cell_type": "markdown",
   "id": "82524b24",
   "metadata": {},
   "source": [
    "# Estructuras de datos en Python_Intro Listas"
   ]
  },
  {
   "cell_type": "markdown",
   "id": "62f61bf2",
   "metadata": {},
   "source": [
    "### Material electrónico de consulta\n",
    "\n",
    "\n",
    "\n",
    "https://docs.python.org/es/3/tutorial/index.html\n",
    "\n",
    "https://www.programaenpython.com/fundamentos/listas-en-python/\n",
    "\n",
    "https://www.programarya.com/Cursos/Python/estructuras-de-datos\n",
    "\n"
   ]
  },
  {
   "cell_type": "markdown",
   "id": "95fefb96",
   "metadata": {},
   "source": [
    "### Listas"
   ]
  },
  {
   "cell_type": "markdown",
   "id": "a91ab94e-1098-463c-a5d2-32ac5781324b",
   "metadata": {},
   "source": [
    "Para crear una lista en python podemos utilizar dos formas:\n",
    "- [] Por default encerrar en corchetes los datos que se agregan a la lista.\n",
    "- list( ) Utilizar la función list."
   ]
  },
  {
   "cell_type": "code",
   "execution_count": 36,
   "id": "ca2d8b54",
   "metadata": {},
   "outputs": [],
   "source": [
    "#Crear una lista con corchetes [ ]\n",
    "lista_con_elementos = [1, 2, True, 'Hola', 5.8]"
   ]
  },
  {
   "cell_type": "code",
   "execution_count": 38,
   "id": "32ad0a8f",
   "metadata": {},
   "outputs": [
    {
     "data": {
      "text/plain": [
       "list"
      ]
     },
     "execution_count": 38,
     "metadata": {},
     "output_type": "execute_result"
    }
   ],
   "source": [
    "type(lista_con_elementos)"
   ]
  },
  {
   "cell_type": "code",
   "execution_count": 12,
   "id": "7d655bbd",
   "metadata": {},
   "outputs": [],
   "source": [
    "#otra forma de crear listas con list()\n",
    "otra_lista_con_elementos = list([4, 9, False, 'texto'])"
   ]
  },
  {
   "cell_type": "code",
   "execution_count": 14,
   "id": "0da48a1b",
   "metadata": {},
   "outputs": [
    {
     "data": {
      "text/plain": [
       "list"
      ]
     },
     "execution_count": 14,
     "metadata": {},
     "output_type": "execute_result"
    }
   ],
   "source": [
    "type(otra_lista_con_elementos)"
   ]
  },
  {
   "cell_type": "code",
   "execution_count": 18,
   "id": "6ca549b1-df84-4f6b-a886-b3a282a79515",
   "metadata": {},
   "outputs": [
    {
     "name": "stdout",
     "output_type": "stream",
     "text": [
      "['Lunes', 'Martes', 'Miércoles', 'Jueves', 'Viernes', 'Sábado', 'Domingo']\n"
     ]
    },
    {
     "data": {
      "text/plain": [
       "list"
      ]
     },
     "execution_count": 18,
     "metadata": {},
     "output_type": "execute_result"
    }
   ],
   "source": [
    "#crear una lista con los nombres de los días de la semana\n",
    "L1 = [\"Lunes\",\"Martes\",\"Miércoles\",\"Jueves\",\"Viernes\",\"Sábado\",\"Domingo\"]\n",
    "print(L1)\n",
    "type(L1)"
   ]
  },
  {
   "cell_type": "code",
   "execution_count": 20,
   "id": "35922d6b-4d72-4d72-b85d-15958db0fe94",
   "metadata": {},
   "outputs": [
    {
     "data": {
      "text/plain": [
       "7"
      ]
     },
     "execution_count": 20,
     "metadata": {},
     "output_type": "execute_result"
    }
   ],
   "source": [
    "#identificar número de elementos en mi lista\n",
    "len(L1)"
   ]
  },
  {
   "cell_type": "code",
   "execution_count": 24,
   "id": "7c0e779c-6f6a-4b66-a9a8-48d92cc7b349",
   "metadata": {},
   "outputs": [
    {
     "data": {
      "text/plain": [
       "'Lunes'"
      ]
     },
     "execution_count": 24,
     "metadata": {},
     "output_type": "execute_result"
    }
   ],
   "source": [
    "#acceder al primer elemento de la lista L1\n",
    "#nombre_objeto[índice]\n",
    "L1[0]"
   ]
  },
  {
   "cell_type": "code",
   "execution_count": 34,
   "id": "74428dc5-3ec9-480a-89c2-f9c87f3a87e4",
   "metadata": {},
   "outputs": [
    {
     "data": {
      "text/plain": [
       "'Lunes'"
      ]
     },
     "execution_count": 34,
     "metadata": {},
     "output_type": "execute_result"
    }
   ],
   "source": [
    "#acceder al primer elemento de la lista L1 de forma inversa (de derecha a izquierda)\n",
    "#nombre_objeto[índice]\n",
    "L1[-7]"
   ]
  },
  {
   "cell_type": "code",
   "execution_count": 40,
   "id": "1ca3333c",
   "metadata": {},
   "outputs": [],
   "source": [
    "mi_lista = ['Juan', 'Pedro', 'Laura', 'Carmen', 'Susana']"
   ]
  },
  {
   "cell_type": "code",
   "execution_count": 42,
   "id": "b965043e",
   "metadata": {},
   "outputs": [
    {
     "data": {
      "text/plain": [
       "'Juan'"
      ]
     },
     "execution_count": 42,
     "metadata": {},
     "output_type": "execute_result"
    }
   ],
   "source": [
    "mi_lista[0]"
   ]
  },
  {
   "cell_type": "code",
   "execution_count": 44,
   "id": "d697b910",
   "metadata": {},
   "outputs": [
    {
     "data": {
      "text/plain": [
       "'Pedro'"
      ]
     },
     "execution_count": 44,
     "metadata": {},
     "output_type": "execute_result"
    }
   ],
   "source": [
    "mi_lista[1]"
   ]
  },
  {
   "cell_type": "code",
   "execution_count": 46,
   "id": "ee826cc9",
   "metadata": {},
   "outputs": [
    {
     "data": {
      "text/plain": [
       "'Susana'"
      ]
     },
     "execution_count": 46,
     "metadata": {},
     "output_type": "execute_result"
    }
   ],
   "source": [
    "mi_lista[4]"
   ]
  },
  {
   "cell_type": "code",
   "execution_count": 48,
   "id": "a7aa4a85",
   "metadata": {},
   "outputs": [
    {
     "data": {
      "text/plain": [
       "'Susana'"
      ]
     },
     "execution_count": 48,
     "metadata": {},
     "output_type": "execute_result"
    }
   ],
   "source": [
    "mi_lista[-1]"
   ]
  },
  {
   "cell_type": "code",
   "execution_count": 50,
   "id": "f4d55d84",
   "metadata": {},
   "outputs": [],
   "source": [
    "edades = [20, 41, 6, 18, 23]"
   ]
  },
  {
   "cell_type": "code",
   "execution_count": 52,
   "id": "66a9da44",
   "metadata": {},
   "outputs": [
    {
     "data": {
      "text/plain": [
       "list"
      ]
     },
     "execution_count": 52,
     "metadata": {},
     "output_type": "execute_result"
    }
   ],
   "source": [
    "type(edades)"
   ]
  },
  {
   "cell_type": "markdown",
   "id": "a94758f1-8838-480d-921e-aa8efa5ccd9e",
   "metadata": {},
   "source": [
    "### Otra forma de crear listas a partir de una celda vacía."
   ]
  },
  {
   "cell_type": "code",
   "execution_count": 86,
   "id": "5b9bd43b",
   "metadata": {},
   "outputs": [
    {
     "name": "stdout",
     "output_type": "stream",
     "text": [
      "[]\n"
     ]
    },
    {
     "data": {
      "text/plain": [
       "list"
      ]
     },
     "execution_count": 86,
     "metadata": {},
     "output_type": "execute_result"
    }
   ],
   "source": [
    "números = [] #lista vacía\n",
    "print(números)\n",
    "type(números)"
   ]
  },
  {
   "cell_type": "code",
   "execution_count": 88,
   "id": "57991982",
   "metadata": {},
   "outputs": [],
   "source": [
    "#lista.append(x): añade un elemento x al final de la lista\n",
    "números.append(10)"
   ]
  },
  {
   "cell_type": "code",
   "execution_count": 90,
   "id": "e35781b7",
   "metadata": {},
   "outputs": [
    {
     "data": {
      "text/plain": [
       "[10]"
      ]
     },
     "execution_count": 90,
     "metadata": {},
     "output_type": "execute_result"
    }
   ],
   "source": [
    "números"
   ]
  },
  {
   "cell_type": "code",
   "execution_count": 92,
   "id": "07eb5141-8d26-4300-8a06-84e74a147e12",
   "metadata": {},
   "outputs": [
    {
     "data": {
      "text/plain": [
       "[10, 'Python']"
      ]
     },
     "execution_count": 92,
     "metadata": {},
     "output_type": "execute_result"
    }
   ],
   "source": [
    "números.append(\"Python\")\n",
    "números"
   ]
  },
  {
   "cell_type": "code",
   "execution_count": 94,
   "id": "68c47079-b909-4592-a309-a8980018abde",
   "metadata": {},
   "outputs": [
    {
     "data": {
      "text/plain": [
       "[10, 'Python', True]"
      ]
     },
     "execution_count": 94,
     "metadata": {},
     "output_type": "execute_result"
    }
   ],
   "source": [
    "números.append(True)\n",
    "números"
   ]
  },
  {
   "cell_type": "code",
   "execution_count": 96,
   "id": "1d4b1edb-da20-49c7-9ad4-b09bf9ae3319",
   "metadata": {},
   "outputs": [
    {
     "data": {
      "text/plain": [
       "3"
      ]
     },
     "execution_count": 96,
     "metadata": {},
     "output_type": "execute_result"
    }
   ],
   "source": [
    "len(números)"
   ]
  },
  {
   "cell_type": "markdown",
   "id": "145694f7-8769-44f4-ba2f-41decde57965",
   "metadata": {},
   "source": [
    "### Otra forma de agregar es con el operador +"
   ]
  },
  {
   "cell_type": "code",
   "execution_count": 102,
   "id": "cbb69a07",
   "metadata": {},
   "outputs": [],
   "source": [
    "números = números + [10, 5, 3]"
   ]
  },
  {
   "cell_type": "code",
   "execution_count": 104,
   "id": "d2dcfb8e",
   "metadata": {},
   "outputs": [
    {
     "data": {
      "text/plain": [
       "[10, 'Python', True, 10, 5, 3]"
      ]
     },
     "execution_count": 104,
     "metadata": {},
     "output_type": "execute_result"
    }
   ],
   "source": [
    "números"
   ]
  },
  {
   "cell_type": "markdown",
   "id": "3c092b65-b9d4-4a30-9993-d83e2d9e6fe1",
   "metadata": {},
   "source": [
    "### lista.pop(index=-1): \n",
    "elimina y devuelve el elemento cuya posición corresponde al índice especificado. Por defecto elimina el último elemento."
   ]
  },
  {
   "cell_type": "code",
   "execution_count": 116,
   "id": "6fbcecee",
   "metadata": {},
   "outputs": [],
   "source": [
    "palabras = ['hola', 'hello', 'ola']"
   ]
  },
  {
   "cell_type": "code",
   "execution_count": 118,
   "id": "b6093063",
   "metadata": {},
   "outputs": [
    {
     "data": {
      "text/plain": [
       "'ola'"
      ]
     },
     "execution_count": 118,
     "metadata": {},
     "output_type": "execute_result"
    }
   ],
   "source": [
    "palabras.pop()"
   ]
  },
  {
   "cell_type": "code",
   "execution_count": 120,
   "id": "8399cf6d",
   "metadata": {},
   "outputs": [
    {
     "name": "stdout",
     "output_type": "stream",
     "text": [
      "['hola', 'hello']\n"
     ]
    }
   ],
   "source": [
    "print(palabras)"
   ]
  },
  {
   "cell_type": "code",
   "execution_count": 134,
   "id": "3d3b7313-1f6f-4d6d-aa55-d27184b24e25",
   "metadata": {},
   "outputs": [
    {
     "name": "stdout",
     "output_type": "stream",
     "text": [
      "['hola', 'hello', 10, 'Python', True, 10, 5, 3]\n"
     ]
    }
   ],
   "source": [
    "#unir en L2 las listas \"palabras\" y \"números\"\n",
    "L2 = palabras + números\n",
    "print(L2)"
   ]
  },
  {
   "cell_type": "code",
   "execution_count": 136,
   "id": "0390af80-4daf-4c23-a80c-e3e063bb7e2d",
   "metadata": {},
   "outputs": [
    {
     "name": "stdout",
     "output_type": "stream",
     "text": [
      "['hola', 'hello', 10, True, 10, 5, 3]\n"
     ]
    }
   ],
   "source": [
    "#de L2 eliminar \"Python\"\n",
    "L2.pop(3) # normal (3) , inverso (-5)\n",
    "print(L2)"
   ]
  },
  {
   "cell_type": "markdown",
   "id": "bd7f0362-c07f-4850-9903-4bb241c84357",
   "metadata": {},
   "source": [
    "### remove()\n",
    "llama al objeto por su nombre"
   ]
  },
  {
   "cell_type": "code",
   "execution_count": 140,
   "id": "47465bed-b69d-45dc-b401-51084b7ed4d6",
   "metadata": {},
   "outputs": [
    {
     "name": "stdout",
     "output_type": "stream",
     "text": [
      "['hola', 'hello', 10, 10, 5, 3]\n"
     ]
    }
   ],
   "source": [
    "#Quitar de L2 el dato True\n",
    "L2.remove(True)\n",
    "print(L2)"
   ]
  },
  {
   "cell_type": "markdown",
   "id": "d7e1eef9-10e0-447f-a43a-42d194e38777",
   "metadata": {},
   "source": [
    "### lista.sort(): \n",
    "ordena los elementos de la lista."
   ]
  },
  {
   "cell_type": "code",
   "execution_count": 153,
   "id": "761541d8-bcc9-43a7-a5df-93dde9f730a3",
   "metadata": {},
   "outputs": [
    {
     "data": {
      "text/plain": [
       "10"
      ]
     },
     "execution_count": 153,
     "metadata": {},
     "output_type": "execute_result"
    }
   ],
   "source": [
    "#crea una lista con los datos numéricos\n",
    "L3 = list([11,33,16,1,17,8,10,22,55,44])\n",
    "len(L3)"
   ]
  },
  {
   "cell_type": "code",
   "execution_count": 155,
   "id": "a4af5d7d-c2c5-419f-a119-fd789b445ccd",
   "metadata": {},
   "outputs": [
    {
     "data": {
      "text/plain": [
       "[1, 8, 10, 11, 16, 17, 22, 33, 44, 55]"
      ]
     },
     "execution_count": 155,
     "metadata": {},
     "output_type": "execute_result"
    }
   ],
   "source": [
    "L3.sort()\n",
    "L3"
   ]
  },
  {
   "cell_type": "markdown",
   "id": "deaadf88-4120-426c-a997-71ca67e2ac60",
   "metadata": {},
   "source": [
    "### lista.reverse(): \n",
    "invierte el orden de los elementos de una lista. Este método es equivalente a aplicar lista[::-1]."
   ]
  },
  {
   "cell_type": "code",
   "execution_count": 159,
   "id": "74457e32-98c3-401e-8092-fccdd0f4918a",
   "metadata": {},
   "outputs": [
    {
     "data": {
      "text/plain": [
       "[55, 44, 33, 22, 17, 16, 11, 10, 8, 1]"
      ]
     },
     "execution_count": 159,
     "metadata": {},
     "output_type": "execute_result"
    }
   ],
   "source": [
    "L3.reverse()\n",
    "L3"
   ]
  },
  {
   "cell_type": "code",
   "execution_count": null,
   "id": "f7490c86-c3e8-43af-8c7a-c49d82930073",
   "metadata": {},
   "outputs": [],
   "source": [
    "L3"
   ]
  },
  {
   "cell_type": "markdown",
   "id": "e9054a02-c682-446e-9138-1de13058f62f",
   "metadata": {},
   "source": [
    "# Ejercicio de Repaso"
   ]
  },
  {
   "cell_type": "raw",
   "id": "03300a41-1113-4f20-bbef-037006f0c852",
   "metadata": {},
   "source": [
    "1. Crear las listas:\n",
    "- A1 de longitud 20 con datos \"string\".\n",
    "- A2 de longitud 15 con datos \"numéricos\".\n",
    "- A3 de longitud 20 con datos \"Booleanos\".\n",
    "\n",
    "2. Verificar la longitud o tamaño de las listas.\n",
    "3. De A1 eliminar el primer elemento de la lista.\n",
    "4. De A2 eliminar el último elemento de la lista.\n",
    "5. Unir A1 y A2 en A4."
   ]
  },
  {
   "cell_type": "code",
   "execution_count": 246,
   "id": "12d28ce7-2c67-4470-aa39-9af52c51088a",
   "metadata": {},
   "outputs": [
    {
     "name": "stdout",
     "output_type": "stream",
     "text": [
      "['a', 'b', 'c', 'f', 'g', 'h', 'i', 'j', 'k', 'l', 'm', 'n', 'ñ', 'o', 'p', 'q', 'r', 's', 't', 'u']\n",
      "[3, 1, 2, 3, 4, 5, 6, 7, 8, 9, 10, 11, 12, 13, 44, 15, 16, 17, 33, 22]\n",
      "[True, False, True, False, True, False, True, False, True, False, True, False, True, False, True, False, True, False, True, False]\n"
     ]
    }
   ],
   "source": [
    "A1 = [\"a\",\"b\",\"c\",\"f\",\"g\",\"h\",\"i\",\"j\",\"k\",\"l\",\"m\",\"n\",\"ñ\",\"o\",\"p\",\"q\",\"r\",\"s\",\"t\",\"u\"]\n",
    "A2 = [3,1,2,3,4,5,6,7,8,9,10,11,12,13,44,15,16,17,33,22]\n",
    "A3 = [True,False,True,False,True,False,True,False,True,False,True,False,True,False,True,False,True,False,True,False,]\n",
    "\n",
    "print(A1)\n",
    "print(A2)\n",
    "print(A3)"
   ]
  },
  {
   "cell_type": "code",
   "execution_count": 248,
   "id": "7e4d3042-5004-44f0-90fc-7aa0b233e582",
   "metadata": {},
   "outputs": [
    {
     "data": {
      "text/plain": [
       "20"
      ]
     },
     "execution_count": 248,
     "metadata": {},
     "output_type": "execute_result"
    }
   ],
   "source": [
    "len(A1)"
   ]
  },
  {
   "cell_type": "code",
   "execution_count": 250,
   "id": "835dcecd-a88a-4621-b9e7-4a8e8ea0f551",
   "metadata": {},
   "outputs": [
    {
     "data": {
      "text/plain": [
       "20"
      ]
     },
     "execution_count": 250,
     "metadata": {},
     "output_type": "execute_result"
    }
   ],
   "source": [
    "len(A2)"
   ]
  },
  {
   "cell_type": "code",
   "execution_count": 252,
   "id": "c402d44b-29fa-45b5-aefc-0d665fcc8136",
   "metadata": {},
   "outputs": [
    {
     "data": {
      "text/plain": [
       "20"
      ]
     },
     "execution_count": 252,
     "metadata": {},
     "output_type": "execute_result"
    }
   ],
   "source": [
    "len(A3)"
   ]
  },
  {
   "cell_type": "code",
   "execution_count": 254,
   "id": "ca128cc3-9d63-4d4a-b673-5e2294da2b56",
   "metadata": {
    "scrolled": true
   },
   "outputs": [
    {
     "data": {
      "text/plain": [
       "['b',\n",
       " 'c',\n",
       " 'f',\n",
       " 'g',\n",
       " 'h',\n",
       " 'i',\n",
       " 'j',\n",
       " 'k',\n",
       " 'l',\n",
       " 'm',\n",
       " 'n',\n",
       " 'ñ',\n",
       " 'o',\n",
       " 'p',\n",
       " 'q',\n",
       " 'r',\n",
       " 's',\n",
       " 't',\n",
       " 'u']"
      ]
     },
     "execution_count": 254,
     "metadata": {},
     "output_type": "execute_result"
    }
   ],
   "source": [
    "A1.pop(0)\n",
    "A1"
   ]
  },
  {
   "cell_type": "code",
   "execution_count": 256,
   "id": "6dfcf6d7-9fb6-4137-96aa-385ea1487590",
   "metadata": {},
   "outputs": [
    {
     "data": {
      "text/plain": [
       "[3, 1, 2, 3, 4, 5, 6, 7, 8, 9, 10, 11, 12, 13, 44, 15, 16, 17, 33]"
      ]
     },
     "execution_count": 256,
     "metadata": {},
     "output_type": "execute_result"
    }
   ],
   "source": [
    "A2.pop(19)\n",
    "A2"
   ]
  },
  {
   "cell_type": "code",
   "execution_count": 258,
   "id": "1ee276b2-7ffe-4886-b997-9182eea3a13a",
   "metadata": {
    "scrolled": true
   },
   "outputs": [
    {
     "data": {
      "text/plain": [
       "['b',\n",
       " 'c',\n",
       " 'f',\n",
       " 'g',\n",
       " 'h',\n",
       " 'i',\n",
       " 'j',\n",
       " 'k',\n",
       " 'l',\n",
       " 'm',\n",
       " 'n',\n",
       " 'ñ',\n",
       " 'o',\n",
       " 'p',\n",
       " 'q',\n",
       " 'r',\n",
       " 's',\n",
       " 't',\n",
       " 'u',\n",
       " 3,\n",
       " 1,\n",
       " 2,\n",
       " 3,\n",
       " 4,\n",
       " 5,\n",
       " 6,\n",
       " 7,\n",
       " 8,\n",
       " 9,\n",
       " 10,\n",
       " 11,\n",
       " 12,\n",
       " 13,\n",
       " 44,\n",
       " 15,\n",
       " 16,\n",
       " 17,\n",
       " 33]"
      ]
     },
     "execution_count": 258,
     "metadata": {},
     "output_type": "execute_result"
    }
   ],
   "source": [
    "A4 = A1 + A2\n",
    "A4"
   ]
  },
  {
   "cell_type": "code",
   "execution_count": null,
   "id": "3851349e-af0c-42c5-8f9e-0b0d25d51223",
   "metadata": {},
   "outputs": [],
   "source": []
  }
 ],
 "metadata": {
  "kernelspec": {
   "display_name": "Python 3 (ipykernel)",
   "language": "python",
   "name": "python3"
  },
  "language_info": {
   "codemirror_mode": {
    "name": "ipython",
    "version": 3
   },
   "file_extension": ".py",
   "mimetype": "text/x-python",
   "name": "python",
   "nbconvert_exporter": "python",
   "pygments_lexer": "ipython3",
   "version": "3.12.7"
  }
 },
 "nbformat": 4,
 "nbformat_minor": 5
}
