{
 "cells": [
  {
   "cell_type": "markdown",
   "id": "852ccb70-e9cd-486f-8353-ef139b11594a",
   "metadata": {},
   "source": [
    "# CLASE 1: RECURSIVIDAD"
   ]
  },
  {
   "cell_type": "markdown",
   "id": "d5231728-02b5-4293-a1b4-be2496c7328b",
   "metadata": {},
   "source": [
    "### Caso I (No recursivo):"
   ]
  },
  {
   "cell_type": "code",
   "execution_count": 4,
   "id": "97d65cab-5330-446f-9a04-9254154aef4f",
   "metadata": {},
   "outputs": [],
   "source": [
    "def factorial(n):\n",
    "    if n < 0:\n",
    "        print(\"Debe ser un número natural\")\n",
    "    else:\n",
    "        r = 1 #variable producto\n",
    "        i = 2 #variable de inicio e incremento (condición)\n",
    "        while i <= n:\n",
    "            r *= i\n",
    "            i += 1\n",
    "        return r"
   ]
  },
  {
   "cell_type": "code",
   "execution_count": 6,
   "id": "f0ab7247-7e3c-4e6a-b558-6c6557a4892e",
   "metadata": {},
   "outputs": [
    {
     "name": "stdout",
     "output_type": "stream",
     "text": [
      "Escriber número natural para calcular el factorial:  5\n"
     ]
    },
    {
     "data": {
      "text/plain": [
       "120"
      ]
     },
     "execution_count": 6,
     "metadata": {},
     "output_type": "execute_result"
    }
   ],
   "source": [
    "n = int(input(\"Escriber número natural para calcular el factorial: \"))\n",
    "factorial(n)"
   ]
  },
  {
   "cell_type": "markdown",
   "id": "9226b48e-a465-47ee-9f4e-329450ce5a35",
   "metadata": {},
   "source": [
    "### Caso II (Recursivo)"
   ]
  },
  {
   "cell_type": "code",
   "execution_count": 9,
   "id": "13475be7-ee8f-4969-89f3-552bcf2682a5",
   "metadata": {},
   "outputs": [],
   "source": [
    "def factorial_recursivo(n):\n",
    "    if n<0:\n",
    "        print(\"Debe ser un número natural\")\n",
    "    elif n == 0: #Paso básico\n",
    "        return 1\n",
    "    else:\n",
    "        return n * factorial_recursivo(n-1) #Paaso recursivo"
   ]
  },
  {
   "cell_type": "code",
   "execution_count": 17,
   "id": "df2b7ce6-1d1a-4020-92ac-095a66965276",
   "metadata": {},
   "outputs": [
    {
     "name": "stdout",
     "output_type": "stream",
     "text": [
      "Escriber número natural para calcular el factorial:  9\n"
     ]
    },
    {
     "data": {
      "text/plain": [
       "362880"
      ]
     },
     "execution_count": 17,
     "metadata": {},
     "output_type": "execute_result"
    }
   ],
   "source": [
    "n = int(input(\"Escriber número natural para calcular el factorial: \"))\n",
    "factorial_recursivo(n)"
   ]
  },
  {
   "cell_type": "code",
   "execution_count": null,
   "id": "347d4401-0fc6-4220-991e-7f6504f7a6ed",
   "metadata": {},
   "outputs": [],
   "source": []
  }
 ],
 "metadata": {
  "kernelspec": {
   "display_name": "Python 3 (ipykernel)",
   "language": "python",
   "name": "python3"
  },
  "language_info": {
   "codemirror_mode": {
    "name": "ipython",
    "version": 3
   },
   "file_extension": ".py",
   "mimetype": "text/x-python",
   "name": "python",
   "nbconvert_exporter": "python",
   "pygments_lexer": "ipython3",
   "version": "3.12.7"
  }
 },
 "nbformat": 4,
 "nbformat_minor": 5
}
