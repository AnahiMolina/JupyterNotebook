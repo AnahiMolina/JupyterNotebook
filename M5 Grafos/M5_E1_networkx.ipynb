{
 "cells": [
  {
   "cell_type": "markdown",
   "id": "8081539c-502a-4b13-adb0-3a1e922413cc",
   "metadata": {},
   "source": [
    "# Grafos con NetworkX\n",
    "\n",
    "https://cienciadedatos.net/documentos/pygml01-introduccion-grafos-redes-python\n",
    "\n",
    "NetworkX permite crear redes de manera manual, añadiendo los nodos y ejes uno por uno o desde un archivo o un DataFrame que contenga las conexiones."
   ]
  },
  {
   "cell_type": "markdown",
   "id": "fd5605d4-f99f-46c8-9cfe-dd58ca09e847",
   "metadata": {},
   "source": [
    "## Instalación networkx 3.4.2\n",
    "pip install networkx"
   ]
  },
  {
   "cell_type": "code",
   "execution_count": 3,
   "id": "699736d0-cd7b-499f-bae4-5e4d6bbe0d37",
   "metadata": {},
   "outputs": [
    {
     "name": "stdout",
     "output_type": "stream",
     "text": [
      "Name: networkx\n",
      "Version: 3.3\n",
      "Summary: Python package for creating and manipulating graphs and networks\n",
      "Home-page: https://networkx.org/\n",
      "Author: \n",
      "Author-email: Aric Hagberg <hagberg@lanl.gov>\n",
      "License: \n",
      "Requires: \n",
      "Required-by: intake, scikit-image\n",
      "Note: you may need to restart the kernel to use updated packages.\n"
     ]
    }
   ],
   "source": [
    "pip show networkx"
   ]
  },
  {
   "cell_type": "code",
   "execution_count": 4,
   "id": "1d2ef82c-ca01-455c-8b71-03d2707151ef",
   "metadata": {},
   "outputs": [],
   "source": [
    "# Librerías\n",
    "# ======================================================================================\n",
    "import networkx as nx\n",
    "import pandas as pd\n",
    "import warnings\n",
    "import matplotlib.pyplot as plt\n",
    "\n",
    "warnings.filterwarnings(\"ignore\")"
   ]
  },
  {
   "cell_type": "markdown",
   "id": "2e6715d8-450f-40dc-be2d-a0da9d045a04",
   "metadata": {},
   "source": [
    "## Creación desde un DataFrame\n",
    "Para crear un grafo a partir de un dataframe de pandas, la información tiene que estar estructurada de tal forma que una columna represente el incio de cada eje y otra el destino. Por ejemplo, para representar que existen dos nodos (\"A\" y \"B\") conectados entre si, se necesita una fila que contenga el valor \"A\" en una columna y \"B\" en otra. Esta información es suficiente para que se creen los dos nodos y la conexión entre ambos."
   ]
  },
  {
   "cell_type": "code",
   "execution_count": 8,
   "id": "7cf9a26e-24d6-4be9-b6da-458289ed39ed",
   "metadata": {},
   "outputs": [
    {
     "data": {
      "text/html": [
       "<div>\n",
       "<style scoped>\n",
       "    .dataframe tbody tr th:only-of-type {\n",
       "        vertical-align: middle;\n",
       "    }\n",
       "\n",
       "    .dataframe tbody tr th {\n",
       "        vertical-align: top;\n",
       "    }\n",
       "\n",
       "    .dataframe thead th {\n",
       "        text-align: right;\n",
       "    }\n",
       "</style>\n",
       "<table border=\"1\" class=\"dataframe\">\n",
       "  <thead>\n",
       "    <tr style=\"text-align: right;\">\n",
       "      <th></th>\n",
       "      <th>inicio</th>\n",
       "      <th>fin</th>\n",
       "    </tr>\n",
       "  </thead>\n",
       "  <tbody>\n",
       "    <tr>\n",
       "      <th>0</th>\n",
       "      <td>A</td>\n",
       "      <td>C</td>\n",
       "    </tr>\n",
       "    <tr>\n",
       "      <th>1</th>\n",
       "      <td>B</td>\n",
       "      <td>C</td>\n",
       "    </tr>\n",
       "    <tr>\n",
       "      <th>2</th>\n",
       "      <td>C</td>\n",
       "      <td>D</td>\n",
       "    </tr>\n",
       "  </tbody>\n",
       "</table>\n",
       "</div>"
      ],
      "text/plain": [
       "  inicio fin\n",
       "0      A   C\n",
       "1      B   C\n",
       "2      C   D"
      ]
     },
     "execution_count": 8,
     "metadata": {},
     "output_type": "execute_result"
    }
   ],
   "source": [
    "# Dataframe con las conexiones del grafo\n",
    "# ======================================================================================\n",
    "conexiones = pd.DataFrame(\n",
    "    {\n",
    "        \"inicio\": [\"A\", \"B\", \"C\"],\n",
    "        \"fin\": [\"C\", \"C\", \"D\"],\n",
    "    }\n",
    ")\n",
    "conexiones"
   ]
  },
  {
   "cell_type": "markdown",
   "id": "38faa8b3-3cfd-4c4a-985e-a85da14712bc",
   "metadata": {},
   "source": [
    "En la función from_pandas_edgelist se indica la columna de origen y destino (para grafos no dirigidos, se elige un origen indistintamente)."
   ]
  },
  {
   "cell_type": "code",
   "execution_count": 11,
   "id": "d57b6d15-d425-4a5b-aaf3-8de45bcb29ab",
   "metadata": {},
   "outputs": [
    {
     "data": {
      "image/png": "[encoded data removed]",
      "text/plain": [
       "<Figure size 300x200 with 1 Axes>"
      ]
     },
     "metadata": {},
     "output_type": "display_data"
    }
   ],
   "source": [
    "# Crear un grafo a partir de un Dataframe\n",
    "# ======================================================================================\n",
    "#Librerpia que genera la vizualización.(tamaño de la figura)\n",
    "fig, ax = plt.subplots(figsize=(3,2)) \n",
    "#Crear el grafo a partir de las conexiones en el DF: nx.from_pandas_edgelist(nombre_df, donde_inicia, donde_termina)\n",
    "G = nx.from_pandas_edgelist(conexiones, source=\"inicio\", target=\"fin\") \n",
    "#Dibuja la conexión draw(partir_de_G, estiquetas, inf_figura)\n",
    "nx.draw(G, with_labels=True, ax=ax)"
   ]
  },
  {
   "cell_type": "code",
   "execution_count": 13,
   "id": "3d06a9ad-0c0f-4677-b74b-090f49a44324",
   "metadata": {},
   "outputs": [
    {
     "data": {
      "text/plain": [
       "array([[0, 1, 0, 0],\n",
       "       [1, 0, 1, 1],\n",
       "       [0, 1, 0, 0],\n",
       "       [0, 1, 0, 0]])"
      ]
     },
     "execution_count": 13,
     "metadata": {},
     "output_type": "execute_result"
    }
   ],
   "source": [
    "# matriz de adjacencia\n",
    "adjM = nx.adjacency_matrix(G) #Se pasa el grafo para generar la matriz\n",
    "adjM = adjM.todense()\n",
    "adjM"
   ]
  },
  {
   "cell_type": "markdown",
   "id": "e84c21fb-5928-4b76-8d5f-2cc3bf171dd3",
   "metadata": {},
   "source": [
    "## Creación desde un DataFrame"
   ]
  },
  {
   "cell_type": "code",
   "execution_count": 16,
   "id": "6d00b230-6d4c-46d6-baf0-3728aa4b3ebb",
   "metadata": {
    "scrolled": true
   },
   "outputs": [
    {
     "data": {
      "image/png": "[encoded data removed]",
      "text/plain": [
       "<Figure size 300x200 with 1 Axes>"
      ]
     },
     "metadata": {},
     "output_type": "display_data"
    }
   ],
   "source": [
    "# Crear un grafo dirigido a partir de un Dataframe\n",
    "# ======================================================================================\n",
    "G2 = nx.from_pandas_edgelist(\n",
    "    conexiones,\n",
    "    source = \"inicio\",\n",
    "    target = \"fin\",\n",
    "    create_using = nx.DiGraph\n",
    ")\n",
    "fig, ax = plt.subplots(figsize=(3,2))\n",
    "nx.draw(G2, with_labels=True, ax=ax)"
   ]
  },
  {
   "cell_type": "code",
   "execution_count": 18,
   "id": "5e165cca-fa6e-4b69-9982-d8b5a7400492",
   "metadata": {},
   "outputs": [
    {
     "data": {
      "text/plain": [
       "array([[0, 1, 0, 0],\n",
       "       [0, 0, 0, 1],\n",
       "       [0, 1, 0, 0],\n",
       "       [0, 0, 0, 0]])"
      ]
     },
     "execution_count": 18,
     "metadata": {},
     "output_type": "execute_result"
    }
   ],
   "source": [
    "# Matrix de adyacencia\n",
    "adjM = nx.adjacency_matrix(G2).todense()\n",
    "adjM"
   ]
  },
  {
   "cell_type": "markdown",
   "id": "bcd7ed25-cf6e-46ed-b20f-496aed7ac37a",
   "metadata": {},
   "source": [
    "## Caso 2"
   ]
  },
  {
   "cell_type": "code",
   "execution_count": 21,
   "id": "ea8dbac7-a00a-4247-9ccd-231099bf2f18",
   "metadata": {},
   "outputs": [
    {
     "data": {
      "text/html": [
       "<div>\n",
       "<style scoped>\n",
       "    .dataframe tbody tr th:only-of-type {\n",
       "        vertical-align: middle;\n",
       "    }\n",
       "\n",
       "    .dataframe tbody tr th {\n",
       "        vertical-align: top;\n",
       "    }\n",
       "\n",
       "    .dataframe thead th {\n",
       "        text-align: right;\n",
       "    }\n",
       "</style>\n",
       "<table border=\"1\" class=\"dataframe\">\n",
       "  <thead>\n",
       "    <tr style=\"text-align: right;\">\n",
       "      <th></th>\n",
       "      <th>inicio</th>\n",
       "      <th>fin</th>\n",
       "    </tr>\n",
       "  </thead>\n",
       "  <tbody>\n",
       "    <tr>\n",
       "      <th>0</th>\n",
       "      <td>A</td>\n",
       "      <td>C</td>\n",
       "    </tr>\n",
       "    <tr>\n",
       "      <th>1</th>\n",
       "      <td>B</td>\n",
       "      <td>C</td>\n",
       "    </tr>\n",
       "    <tr>\n",
       "      <th>2</th>\n",
       "      <td>C</td>\n",
       "      <td>D</td>\n",
       "    </tr>\n",
       "    <tr>\n",
       "      <th>3</th>\n",
       "      <td>D</td>\n",
       "      <td>D</td>\n",
       "    </tr>\n",
       "  </tbody>\n",
       "</table>\n",
       "</div>"
      ],
      "text/plain": [
       "  inicio fin\n",
       "0      A   C\n",
       "1      B   C\n",
       "2      C   D\n",
       "3      D   D"
      ]
     },
     "execution_count": 21,
     "metadata": {},
     "output_type": "execute_result"
    }
   ],
   "source": [
    "# Dataframe con las conexiones del grafo\n",
    "# ======================================================================================\n",
    "conexiones2 = pd.DataFrame(\n",
    "    {\n",
    "        \"inicio\": [\"A\", \"B\", \"C\",\"D\"],\n",
    "        \"fin\": [\"C\", \"C\", \"D\",\"D\"],\n",
    "    }\n",
    ")\n",
    "conexiones2"
   ]
  },
  {
   "cell_type": "code",
   "execution_count": 41,
   "id": "20fa2d7e-ef79-4f75-97c9-2ef8110ab762",
   "metadata": {},
   "outputs": [
    {
     "data": {
      "image/png": "[encoded data removed]",
      "text/plain": [
       "<Figure size 300x300 with 1 Axes>"
      ]
     },
     "metadata": {},
     "output_type": "display_data"
    }
   ],
   "source": [
    "# Crear un grafo a partir de un Dataframe\n",
    "# Cambio color de los nodos y ejes\n",
    "# ======================================================================================\n",
    "fig, ax = plt.subplots(figsize=(3,3))\n",
    "G3 = nx.from_pandas_edgelist(conexiones2, source=\"inicio\", target=\"fin\")\n",
    "nx.draw(G3, with_labels=True, ax=ax, node_color=\"teal\", edge_color=\"crimson\",node_size=500)"
   ]
  },
  {
   "cell_type": "code",
   "execution_count": 25,
   "id": "9e0a8e49-69f7-4a5f-b61e-9eda7058aa20",
   "metadata": {},
   "outputs": [
    {
     "data": {
      "text/plain": [
       "array([[0, 1, 0, 0],\n",
       "       [1, 0, 1, 1],\n",
       "       [0, 1, 0, 0],\n",
       "       [0, 1, 0, 1]])"
      ]
     },
     "execution_count": 25,
     "metadata": {},
     "output_type": "execute_result"
    }
   ],
   "source": [
    "# Matrix de adyacencia\n",
    "adjM2 = nx.adjacency_matrix(G3).todense()\n",
    "adjM2"
   ]
  },
  {
   "cell_type": "markdown",
   "id": "c32f1c49-2eb8-4301-83ec-3314ab2c92df",
   "metadata": {},
   "source": [
    "## Información del grafo"
   ]
  },
  {
   "cell_type": "code",
   "execution_count": 48,
   "id": "e12f8009-de32-4e3e-9c47-c351fe9220b9",
   "metadata": {},
   "outputs": [
    {
     "name": "stdout",
     "output_type": "stream",
     "text": [
      "Número de nodos: 4\n",
      "Número de enlaces: 3\n"
     ]
    }
   ],
   "source": [
    "print(\"Número de nodos:\", G.number_of_nodes())\n",
    "print(\"Número de enlaces:\", G.number_of_edges())"
   ]
  },
  {
   "cell_type": "markdown",
   "id": "c3570381-fff2-4304-89ce-494f481f18e6",
   "metadata": {},
   "source": [
    "### Vecinos y grados"
   ]
  },
  {
   "cell_type": "code",
   "execution_count": 51,
   "id": "9e5a1d28-2725-4d6d-a29b-09b076fa3335",
   "metadata": {},
   "outputs": [
    {
     "name": "stdout",
     "output_type": "stream",
     "text": [
      "Vecinos del nodo {nodo_id}: ['C']\n",
      "Grado del nodo {nodo_id}: 1\n"
     ]
    }
   ],
   "source": [
    "nodo_id = \"A\"\n",
    "vecinos = list(G3.neighbors(nodo_id))\n",
    "print(\"Vecinos del nodo {nodo_id}:\", vecinos)\n",
    "\n",
    "grado = G3.degree[nodo_id]\n",
    "print(\"Grado del nodo {nodo_id}:\", grado)"
   ]
  },
  {
   "cell_type": "code",
   "execution_count": 53,
   "id": "05929726-d7b7-4b49-8e9d-f7959c19c1fd",
   "metadata": {},
   "outputs": [
    {
     "name": "stdout",
     "output_type": "stream",
     "text": [
      "Vecinos del nodo {nodo_id}: ['A', 'B', 'D']\n",
      "Grado del nodo {nodo_id}: 3\n"
     ]
    }
   ],
   "source": [
    "nodo_id = \"C\"\n",
    "vecinos = list(G3.neighbors(nodo_id))\n",
    "print(\"Vecinos del nodo {nodo_id}:\", vecinos)\n",
    "\n",
    "grado = G3.degree[nodo_id]\n",
    "print(\"Grado del nodo {nodo_id}:\", grado)"
   ]
  },
  {
   "cell_type": "code",
   "execution_count": 55,
   "id": "9be96743-1e34-4c2e-a037-842666c7037a",
   "metadata": {},
   "outputs": [
    {
     "name": "stdout",
     "output_type": "stream",
     "text": [
      "Vecinos del nodo {nodo_id}: ['C', 'D']\n",
      "Grado del nodo {nodo_id}: 3\n"
     ]
    }
   ],
   "source": [
    "nodo_id = \"D\"\n",
    "vecinos = list(G3.neighbors(nodo_id))\n",
    "print(\"Vecinos del nodo {nodo_id}:\", vecinos)\n",
    "\n",
    "grado = G3.degree[nodo_id]\n",
    "print(\"Grado del nodo {nodo_id}:\", grado)"
   ]
  },
  {
   "cell_type": "markdown",
   "id": "c65493bc-4c26-431b-b8fa-5ce3105c1633",
   "metadata": {},
   "source": [
    "# Eulerian circuit in an undirected graph"
   ]
  },
  {
   "cell_type": "markdown",
   "id": "83a92ffe-c66e-48aa-adfc-238f043d2d76",
   "metadata": {},
   "source": [
    "No es circuito de Euler porque los vértices no son pares"
   ]
  },
  {
   "cell_type": "code",
   "execution_count": 61,
   "id": "43f03ea1-9d9b-494d-87fe-f37f8bddf8f8",
   "metadata": {},
   "outputs": [
    {
     "data": {
      "text/plain": [
       "False"
      ]
     },
     "execution_count": 61,
     "metadata": {},
     "output_type": "execute_result"
    }
   ],
   "source": [
    "nx.is_eulerian(G3)"
   ]
  },
  {
   "cell_type": "markdown",
   "id": "68962e3b-4b18-490c-a47b-e1de0511c7dc",
   "metadata": {},
   "source": [
    "No es circuito de Euler porque los vértices no son pares"
   ]
  },
  {
   "cell_type": "code",
   "execution_count": 65,
   "id": "978558cb-ca5e-4188-8fc7-7fcca3efe1b2",
   "metadata": {},
   "outputs": [
    {
     "data": {
      "text/plain": [
       "False"
      ]
     },
     "execution_count": 65,
     "metadata": {},
     "output_type": "execute_result"
    }
   ],
   "source": [
    "nx.is_eulerian(G) # No es circuito de Euler porque los vértices no son pares"
   ]
  },
  {
   "cell_type": "markdown",
   "id": "f4a2f8d9-e300-42d1-b186-8e335d73bde9",
   "metadata": {},
   "source": [
    "## Caso 3"
   ]
  },
  {
   "cell_type": "code",
   "execution_count": null,
   "id": "f65cbcba-726f-4560-9743-01f30cc7ce21",
   "metadata": {},
   "outputs": [
    {
     "data": {
      "text/html": [
       "<div>\n",
       "<style scoped>\n",
       "    .dataframe tbody tr th:only-of-type {\n",
       "        vertical-align: middle;\n",
       "    }\n",
       "\n",
       "    .dataframe tbody tr th {\n",
       "        vertical-align: top;\n",
       "    }\n",
       "\n",
       "    .dataframe thead th {\n",
       "        text-align: right;\n",
       "    }\n",
       "</style>\n",
       "<table border=\"1\" class=\"dataframe\">\n",
       "  <thead>\n",
       "    <tr style=\"text-align: right;\">\n",
       "      <th></th>\n",
       "      <th>inicio</th>\n",
       "      <th>fin</th>\n",
       "    </tr>\n",
       "  </thead>\n",
       "  <tbody>\n",
       "    <tr>\n",
       "      <th>0</th>\n",
       "      <td>0</td>\n",
       "      <td>3</td>\n",
       "    </tr>\n",
       "    <tr>\n",
       "      <th>1</th>\n",
       "      <td>1</td>\n",
       "      <td>2</td>\n",
       "    </tr>\n",
       "    <tr>\n",
       "      <th>2</th>\n",
       "      <td>2</td>\n",
       "      <td>3</td>\n",
       "    </tr>\n",
       "    <tr>\n",
       "      <th>3</th>\n",
       "      <td>3</td>\n",
       "      <td>0</td>\n",
       "    </tr>\n",
       "    <tr>\n",
       "      <th>4</th>\n",
       "      <td>1</td>\n",
       "      <td>0</td>\n",
       "    </tr>\n",
       "  </tbody>\n",
       "</table>\n",
       "</div>"
      ],
      "text/plain": [
       "  inicio fin\n",
       "0      0   3\n",
       "1      1   2\n",
       "2      2   3\n",
       "3      3   0\n",
       "4      1   0"
      ]
     },
     "execution_count": 67,
     "metadata": {},
     "output_type": "execute_result"
    }
   ],
   "source": [
    "# Dataframe con las conexiones del grafo\n",
    "# ======================================================================================\n",
    "conexiones3 = pd.DataFrame(\n",
    "    {\n",
    "        \"inicio\": [\"0\", \"1\", \"2\",\"3\",\"1\"],\n",
    "        \"fin\": [\"3\", \"2\", \"3\",\"0\",\"0\"],\n",
    "    }\n",
    ")\n",
    "conexiones3"
   ]
  },
  {
   "cell_type": "code",
   "execution_count": 69,
   "id": "5e3e5c2d-42d8-41d4-b351-bb3cdfa2118f",
   "metadata": {},
   "outputs": [
    {
     "data": {
      "image/png": "[encoded data removed]",
      "text/plain": [
       "<Figure size 300x300 with 1 Axes>"
      ]
     },
     "metadata": {},
     "output_type": "display_data"
    }
   ],
   "source": [
    "# Crear un grafo a partir de un Dataframe\n",
    "# Cambio color de los nodos y ejes\n",
    "# ======================================================================================\n",
    "fig, ax = plt.subplots(figsize=(3,3))\n",
    "G4 = nx.from_pandas_edgelist(conexiones3, source=\"inicio\", target=\"fin\")\n",
    "nx.draw(G4, with_labels=True, ax=ax, node_color=\"green\", edge_color=\"blue\",node_size=500)"
   ]
  },
  {
   "cell_type": "code",
   "execution_count": 75,
   "id": "8a173fe0-6d8c-46ce-bee9-869d61a821d3",
   "metadata": {},
   "outputs": [
    {
     "data": {
      "text/plain": [
       "True"
      ]
     },
     "execution_count": 75,
     "metadata": {},
     "output_type": "execute_result"
    }
   ],
   "source": [
    "nx.is_eulerian(G4)"
   ]
  },
  {
   "cell_type": "code",
   "execution_count": 81,
   "id": "8c492cb6-2f79-4f3a-a690-8fddf0bcd7ce",
   "metadata": {},
   "outputs": [
    {
     "data": {
      "text/plain": [
       "[('0', '1'), ('1', '2'), ('2', '3'), ('3', '0')]"
      ]
     },
     "execution_count": 81,
     "metadata": {},
     "output_type": "execute_result"
    }
   ],
   "source": [
    "list(nx.eulerian_circuit(G4))"
   ]
  },
  {
   "cell_type": "code",
   "execution_count": 85,
   "id": "aca522fd-9188-48a4-855b-47de31eabb91",
   "metadata": {},
   "outputs": [
    {
     "data": {
      "text/plain": [
       "['0', '1', '2', '3']"
      ]
     },
     "execution_count": 85,
     "metadata": {},
     "output_type": "execute_result"
    }
   ],
   "source": [
    "#To get the sequence of vertices in an Eulerian circuit:\n",
    "[u for u, v in nx.eulerian_circuit(G4)]"
   ]
  },
  {
   "cell_type": "code",
   "execution_count": null,
   "id": "e6f5d0d1-7f6b-4940-8437-31f96a30773e",
   "metadata": {},
   "outputs": [],
   "source": []
  },
  {
   "cell_type": "code",
   "execution_count": null,
   "id": "767e830d-ed7a-4bc6-af1b-70fbc045bd8a",
   "metadata": {},
   "outputs": [],
   "source": []
  }
 ],
 "metadata": {
  "kernelspec": {
   "display_name": "Python 3 (ipykernel)",
   "language": "python",
   "name": "python3"
  },
  "language_info": {
   "codemirror_mode": {
    "name": "ipython",
    "version": 3
   },
   "file_extension": ".py",
   "mimetype": "text/x-python",
   "name": "python",
   "nbconvert_exporter": "python",
   "pygments_lexer": "ipython3",
   "version": "3.12.7"
  }
 },
 "nbformat": 4,
 "nbformat_minor": 5
}
