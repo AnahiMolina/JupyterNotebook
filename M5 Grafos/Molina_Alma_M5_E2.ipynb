{
 "cells": [
  {
   "cell_type": "markdown",
   "id": "27add521-b21d-40d8-a11e-1f8b81f08740",
   "metadata": {},
   "source": [
    "# Grafo 1"
   ]
  },
  {
   "cell_type": "code",
   "execution_count": 2,
   "id": "89f28db5-ba5c-46e0-b008-e80a6b793814",
   "metadata": {},
   "outputs": [],
   "source": [
    "import networkx as nx\n",
    "import pandas as pd\n",
    "import warnings\n",
    "import matplotlib.pyplot as plt\n",
    "\n",
    "warnings.filterwarnings(\"ignore\")"
   ]
  },
  {
   "cell_type": "code",
   "execution_count": 3,
   "id": "20b2bdf8-c36f-4860-a114-8d49723e3869",
   "metadata": {
    "scrolled": true
   },
   "outputs": [
    {
     "data": {
      "text/html": [
       "<div>\n",
       "<style scoped>\n",
       "    .dataframe tbody tr th:only-of-type {\n",
       "        vertical-align: middle;\n",
       "    }\n",
       "\n",
       "    .dataframe tbody tr th {\n",
       "        vertical-align: top;\n",
       "    }\n",
       "\n",
       "    .dataframe thead th {\n",
       "        text-align: right;\n",
       "    }\n",
       "</style>\n",
       "<table border=\"1\" class=\"dataframe\">\n",
       "  <thead>\n",
       "    <tr style=\"text-align: right;\">\n",
       "      <th></th>\n",
       "      <th>inicio</th>\n",
       "      <th>fin</th>\n",
       "    </tr>\n",
       "  </thead>\n",
       "  <tbody>\n",
       "    <tr>\n",
       "      <th>0</th>\n",
       "      <td>1</td>\n",
       "      <td>2</td>\n",
       "    </tr>\n",
       "    <tr>\n",
       "      <th>1</th>\n",
       "      <td>1</td>\n",
       "      <td>6</td>\n",
       "    </tr>\n",
       "    <tr>\n",
       "      <th>2</th>\n",
       "      <td>1</td>\n",
       "      <td>5</td>\n",
       "    </tr>\n",
       "    <tr>\n",
       "      <th>3</th>\n",
       "      <td>1</td>\n",
       "      <td>3</td>\n",
       "    </tr>\n",
       "    <tr>\n",
       "      <th>4</th>\n",
       "      <td>2</td>\n",
       "      <td>6</td>\n",
       "    </tr>\n",
       "    <tr>\n",
       "      <th>5</th>\n",
       "      <td>3</td>\n",
       "      <td>1</td>\n",
       "    </tr>\n",
       "    <tr>\n",
       "      <th>6</th>\n",
       "      <td>3</td>\n",
       "      <td>3</td>\n",
       "    </tr>\n",
       "    <tr>\n",
       "      <th>7</th>\n",
       "      <td>3</td>\n",
       "      <td>8</td>\n",
       "    </tr>\n",
       "    <tr>\n",
       "      <th>8</th>\n",
       "      <td>4</td>\n",
       "      <td>8</td>\n",
       "    </tr>\n",
       "    <tr>\n",
       "      <th>9</th>\n",
       "      <td>4</td>\n",
       "      <td>10</td>\n",
       "    </tr>\n",
       "    <tr>\n",
       "      <th>10</th>\n",
       "      <td>5</td>\n",
       "      <td>6</td>\n",
       "    </tr>\n",
       "    <tr>\n",
       "      <th>11</th>\n",
       "      <td>5</td>\n",
       "      <td>8</td>\n",
       "    </tr>\n",
       "    <tr>\n",
       "      <th>12</th>\n",
       "      <td>6</td>\n",
       "      <td>7</td>\n",
       "    </tr>\n",
       "    <tr>\n",
       "      <th>13</th>\n",
       "      <td>7</td>\n",
       "      <td>9</td>\n",
       "    </tr>\n",
       "    <tr>\n",
       "      <th>14</th>\n",
       "      <td>8</td>\n",
       "      <td>9</td>\n",
       "    </tr>\n",
       "    <tr>\n",
       "      <th>15</th>\n",
       "      <td>9</td>\n",
       "      <td>10</td>\n",
       "    </tr>\n",
       "    <tr>\n",
       "      <th>16</th>\n",
       "      <td>10</td>\n",
       "      <td>10</td>\n",
       "    </tr>\n",
       "    <tr>\n",
       "      <th>17</th>\n",
       "      <td>10</td>\n",
       "      <td>7</td>\n",
       "    </tr>\n",
       "  </tbody>\n",
       "</table>\n",
       "</div>"
      ],
      "text/plain": [
       "   inicio fin\n",
       "0       1   2\n",
       "1       1   6\n",
       "2       1   5\n",
       "3       1   3\n",
       "4       2   6\n",
       "5       3   1\n",
       "6       3   3\n",
       "7       3   8\n",
       "8       4   8\n",
       "9       4  10\n",
       "10      5   6\n",
       "11      5   8\n",
       "12      6   7\n",
       "13      7   9\n",
       "14      8   9\n",
       "15      9  10\n",
       "16     10  10\n",
       "17     10   7"
      ]
     },
     "execution_count": 3,
     "metadata": {},
     "output_type": "execute_result"
    }
   ],
   "source": [
    "conexion1 = pd.DataFrame(\n",
    "    {\n",
    "        \"inicio\": [\"1\", \"1\", \"1\", \"1\", \"2\", \"3\", \"3\", \"3\", \"4\", \"4\", \"5\", \"5\", \"6\", \"7\", \"8\", \"9\", \"10\", \"10\"],\n",
    "        \"fin\": [\"2\", \"6\", \"5\", \"3\", \"6\", \"1\", \"3\", \"8\", \"8\", \"10\", \"6\", \"8\", \"7\", \"9\", \"9\", \"10\", \"10\", \"7\"],\n",
    "    }\n",
    ")\n",
    "conexion1"
   ]
  },
  {
   "cell_type": "code",
   "execution_count": 4,
   "id": "0722f41b-3478-43b2-8e44-dcb1ba342a15",
   "metadata": {},
   "outputs": [
    {
     "data": {
      "image/png": "[encoded data removed]",
      "text/plain": [
       "<Figure size 800x400 with 1 Axes>"
      ]
     },
     "metadata": {},
     "output_type": "display_data"
    }
   ],
   "source": [
    "fig, ax = plt.subplots(figsize=(8,4))\n",
    "G1 = nx.from_pandas_edgelist(conexion1, source=\"inicio\", target=\"fin\")\n",
    "nx.draw(G1, with_labels=True, ax=ax, node_color=\"teal\", edge_color=\"crimson\",node_size=500)"
   ]
  },
  {
   "cell_type": "code",
   "execution_count": 5,
   "id": "432b3462-d41f-4de9-b680-da07418e4a45",
   "metadata": {},
   "outputs": [
    {
     "data": {
      "text/plain": [
       "array([[0, 1, 1, 1, 1, 0, 0, 0, 0, 0],\n",
       "       [1, 0, 1, 0, 0, 0, 0, 0, 0, 0],\n",
       "       [1, 1, 0, 1, 0, 0, 0, 0, 1, 0],\n",
       "       [1, 0, 1, 0, 0, 1, 0, 0, 0, 0],\n",
       "       [1, 0, 0, 0, 1, 1, 0, 0, 0, 0],\n",
       "       [0, 0, 0, 1, 1, 0, 1, 0, 0, 1],\n",
       "       [0, 0, 0, 0, 0, 1, 0, 1, 0, 0],\n",
       "       [0, 0, 0, 0, 0, 0, 1, 1, 1, 1],\n",
       "       [0, 0, 1, 0, 0, 0, 0, 1, 0, 1],\n",
       "       [0, 0, 0, 0, 0, 1, 0, 1, 1, 0]])"
      ]
     },
     "execution_count": 5,
     "metadata": {},
     "output_type": "execute_result"
    }
   ],
   "source": [
    "#1) Obtener la matriz de adyacencia.\n",
    "adjM1 = nx.adjacency_matrix(G1).todense()\n",
    "adjM1"
   ]
  },
  {
   "cell_type": "code",
   "execution_count": 6,
   "id": "dc26a59b-f0bb-445f-8e3e-266c51f7d66d",
   "metadata": {},
   "outputs": [
    {
     "data": {
      "text/plain": [
       "(10, 10)"
      ]
     },
     "execution_count": 6,
     "metadata": {},
     "output_type": "execute_result"
    }
   ],
   "source": [
    "dimensión = adjM1.shape\n",
    "dimensión"
   ]
  },
  {
   "cell_type": "code",
   "execution_count": 7,
   "id": "77f4404f-c644-4e40-9db1-f31d2da8f2d5",
   "metadata": {},
   "outputs": [
    {
     "name": "stdout",
     "output_type": "stream",
     "text": [
      "Número de vértices: 10\n"
     ]
    }
   ],
   "source": [
    "#2) Conjunto de vértices \n",
    "print(\"Número de vértices:\", G1.number_of_nodes())"
   ]
  },
  {
   "cell_type": "code",
   "execution_count": 8,
   "id": "ee499640-00ff-432b-97dc-0aead1cfbac8",
   "metadata": {},
   "outputs": [
    {
     "name": "stdout",
     "output_type": "stream",
     "text": [
      "Número de lados: 17\n"
     ]
    }
   ],
   "source": [
    "#3) Conjunto de lados \n",
    "print(\"Número de lados:\", G1.number_of_edges())"
   ]
  },
  {
   "cell_type": "code",
   "execution_count": null,
   "id": "03bd046d-95f4-4781-a53b-42461bea8c79",
   "metadata": {},
   "outputs": [],
   "source": [
    "#4) Lados Paralelos\n"
   ]
  },
  {
   "cell_type": "code",
   "execution_count": null,
   "id": "73825320-c41a-4913-a217-ceda71660a83",
   "metadata": {},
   "outputs": [],
   "source": [
    "#5) Lazos o Ciclos\n"
   ]
  },
  {
   "cell_type": "markdown",
   "id": "b8e53e72-60d4-4baf-bd94-8d7662ebcccc",
   "metadata": {},
   "source": [
    "6) Vértices aislados: 0\n",
    "7) ¿Es un Grafo simple? No, porque tiene lados paralelos y ciclos en el nodo 3 y 10.\n",
    "8) ¿Es un grafo conexo? Si porque todos los vértices se conectan."
   ]
  },
  {
   "cell_type": "code",
   "execution_count": 48,
   "id": "b30a6b1a-804b-4294-b623-cfc9e8d76e33",
   "metadata": {},
   "outputs": [
    {
     "name": "stdout",
     "output_type": "stream",
     "text": [
      "Grado del nodo 1 : 4\n",
      "Grado del nodo 2 : 2\n",
      "Grado del nodo 3 : 4\n",
      "Grado del nodo 4 : 2\n",
      "Grado del nodo 5 : 3\n",
      "Grado del nodo 6 : 4\n",
      "Grado del nodo 7 : 3\n",
      "Grado del nodo 8 : 4\n",
      "Grado del nodo 9 : 3\n",
      "Grado del nodo 10 : 5\n"
     ]
    }
   ],
   "source": [
    "#9) Grado de cada vértice \n",
    "for i in range(1, 11):\n",
    "    nodo_id = str(i)\n",
    "    grado = G1.degree[nodo_id]\n",
    "    print(\"Grado del nodo\", nodo_id, \":\", grado)"
   ]
  },
  {
   "cell_type": "code",
   "execution_count": 11,
   "id": "aaaf4666-c8bf-4ece-a03d-7235d601129a",
   "metadata": {},
   "outputs": [
    {
     "name": "stdout",
     "output_type": "stream",
     "text": [
      "Suma total de los grados del grafo: 34\n"
     ]
    }
   ],
   "source": [
    "# 10) Grado total de G1 \n",
    "suma_grados = sum(dict(G1.degree()).values())\n",
    "print(\"Suma total de los grados del grafo:\", suma_grados)"
   ]
  },
  {
   "cell_type": "code",
   "execution_count": 46,
   "id": "53249643-ed0f-47a3-8818-eaf28ae1b8c6",
   "metadata": {},
   "outputs": [
    {
     "data": {
      "text/plain": [
       "False"
      ]
     },
     "execution_count": 46,
     "metadata": {},
     "output_type": "execute_result"
    }
   ],
   "source": [
    "#11) ¿Tiene un circuito de Euler?\n",
    "nx.is_eulerian(G1) # Los grados de los vértices no son pares."
   ]
  },
  {
   "cell_type": "markdown",
   "id": "aa981f40-6693-4351-a3c2-531f07fbb03c",
   "metadata": {},
   "source": [
    "# Grafo 2"
   ]
  },
  {
   "cell_type": "code",
   "execution_count": 14,
   "id": "5223b86c-4707-4430-8008-6d1c96cd614b",
   "metadata": {
    "scrolled": true
   },
   "outputs": [
    {
     "data": {
      "text/html": [
       "<div>\n",
       "<style scoped>\n",
       "    .dataframe tbody tr th:only-of-type {\n",
       "        vertical-align: middle;\n",
       "    }\n",
       "\n",
       "    .dataframe tbody tr th {\n",
       "        vertical-align: top;\n",
       "    }\n",
       "\n",
       "    .dataframe thead th {\n",
       "        text-align: right;\n",
       "    }\n",
       "</style>\n",
       "<table border=\"1\" class=\"dataframe\">\n",
       "  <thead>\n",
       "    <tr style=\"text-align: right;\">\n",
       "      <th></th>\n",
       "      <th>inicio</th>\n",
       "      <th>fin</th>\n",
       "    </tr>\n",
       "  </thead>\n",
       "  <tbody>\n",
       "    <tr>\n",
       "      <th>0</th>\n",
       "      <td>Cali</td>\n",
       "      <td>Cali</td>\n",
       "    </tr>\n",
       "    <tr>\n",
       "      <th>1</th>\n",
       "      <td>Cali</td>\n",
       "      <td>Medellin</td>\n",
       "    </tr>\n",
       "    <tr>\n",
       "      <th>2</th>\n",
       "      <td>Cali</td>\n",
       "      <td>Bogota</td>\n",
       "    </tr>\n",
       "    <tr>\n",
       "      <th>3</th>\n",
       "      <td>Medellin</td>\n",
       "      <td>Medellin</td>\n",
       "    </tr>\n",
       "    <tr>\n",
       "      <th>4</th>\n",
       "      <td>Medellin</td>\n",
       "      <td>Bogota</td>\n",
       "    </tr>\n",
       "    <tr>\n",
       "      <th>5</th>\n",
       "      <td>Bogota</td>\n",
       "      <td>Medellin</td>\n",
       "    </tr>\n",
       "    <tr>\n",
       "      <th>6</th>\n",
       "      <td>Bogota</td>\n",
       "      <td>Buga</td>\n",
       "    </tr>\n",
       "    <tr>\n",
       "      <th>7</th>\n",
       "      <td>Bogota</td>\n",
       "      <td>Buga</td>\n",
       "    </tr>\n",
       "    <tr>\n",
       "      <th>8</th>\n",
       "      <td>Buga</td>\n",
       "      <td>Bogota</td>\n",
       "    </tr>\n",
       "    <tr>\n",
       "      <th>9</th>\n",
       "      <td>Buga</td>\n",
       "      <td>Sincelejo</td>\n",
       "    </tr>\n",
       "    <tr>\n",
       "      <th>10</th>\n",
       "      <td>Buga</td>\n",
       "      <td>Cucuta</td>\n",
       "    </tr>\n",
       "    <tr>\n",
       "      <th>11</th>\n",
       "      <td>Buga</td>\n",
       "      <td>Tulua</td>\n",
       "    </tr>\n",
       "    <tr>\n",
       "      <th>12</th>\n",
       "      <td>Sincelejo</td>\n",
       "      <td>Cucuta</td>\n",
       "    </tr>\n",
       "    <tr>\n",
       "      <th>13</th>\n",
       "      <td>Cucuta</td>\n",
       "      <td>Sincelejo</td>\n",
       "    </tr>\n",
       "    <tr>\n",
       "      <th>14</th>\n",
       "      <td>Cucuta</td>\n",
       "      <td>Tulua</td>\n",
       "    </tr>\n",
       "    <tr>\n",
       "      <th>15</th>\n",
       "      <td>Tulua</td>\n",
       "      <td>Tulua</td>\n",
       "    </tr>\n",
       "  </tbody>\n",
       "</table>\n",
       "</div>"
      ],
      "text/plain": [
       "       inicio        fin\n",
       "0        Cali       Cali\n",
       "1        Cali   Medellin\n",
       "2        Cali     Bogota\n",
       "3    Medellin   Medellin\n",
       "4    Medellin     Bogota\n",
       "5      Bogota   Medellin\n",
       "6      Bogota       Buga\n",
       "7      Bogota       Buga\n",
       "8        Buga     Bogota\n",
       "9        Buga  Sincelejo\n",
       "10       Buga     Cucuta\n",
       "11       Buga      Tulua\n",
       "12  Sincelejo     Cucuta\n",
       "13     Cucuta  Sincelejo\n",
       "14     Cucuta      Tulua\n",
       "15      Tulua      Tulua"
      ]
     },
     "execution_count": 14,
     "metadata": {},
     "output_type": "execute_result"
    }
   ],
   "source": [
    "conexion2 = pd.DataFrame(\n",
    "    {\n",
    "        \"inicio\": [\"Cali\", \"Cali\", \"Cali\", \"Medellin\", \"Medellin\", \"Bogota\", \"Bogota\", \"Bogota\", \"Buga\", \"Buga\", \"Buga\", \"Buga\", \"Sincelejo\", \"Cucuta\", \"Cucuta\", \"Tulua\"],\n",
    "        \"fin\": [\"Cali\", \"Medellin\", \"Bogota\", \"Medellin\", \"Bogota\", \"Medellin\", \"Buga\", \"Buga\", \"Bogota\", \"Sincelejo\", \"Cucuta\", \"Tulua\", \"Cucuta\", \"Sincelejo\", \"Tulua\", \"Tulua\"],\n",
    "    }\n",
    ")\n",
    "conexion2"
   ]
  },
  {
   "cell_type": "code",
   "execution_count": 15,
   "id": "b354e919-b75b-4ec8-8bd2-3e757dc8031c",
   "metadata": {},
   "outputs": [
    {
     "data": {
      "image/png": "[encoded data removed]",
      "text/plain": [
       "<Figure size 800x400 with 1 Axes>"
      ]
     },
     "metadata": {},
     "output_type": "display_data"
    }
   ],
   "source": [
    "fig, ax = plt.subplots(figsize=(8,4))\n",
    "G2 = nx.from_pandas_edgelist(conexion2, source=\"inicio\", target=\"fin\")\n",
    "nx.draw(G2, with_labels=True, ax=ax, node_color=\"teal\", edge_color=\"crimson\",node_size=500)"
   ]
  },
  {
   "cell_type": "code",
   "execution_count": 16,
   "id": "96200824-c517-4cfa-924b-8e164c111d69",
   "metadata": {},
   "outputs": [
    {
     "data": {
      "text/plain": [
       "array([[1, 1, 1, 0, 0, 0, 0],\n",
       "       [1, 1, 1, 0, 0, 0, 0],\n",
       "       [1, 1, 0, 1, 0, 0, 0],\n",
       "       [0, 0, 1, 0, 1, 1, 1],\n",
       "       [0, 0, 0, 1, 0, 1, 0],\n",
       "       [0, 0, 0, 1, 1, 0, 1],\n",
       "       [0, 0, 0, 1, 0, 1, 1]])"
      ]
     },
     "execution_count": 16,
     "metadata": {},
     "output_type": "execute_result"
    }
   ],
   "source": [
    "#1) Obtener la matriz de adyacencia.\n",
    "adjM2 = nx.adjacency_matrix(G2).todense()\n",
    "adjM2"
   ]
  },
  {
   "cell_type": "code",
   "execution_count": 17,
   "id": "f833f12e-4184-4fb6-99cd-26a0d76edccc",
   "metadata": {},
   "outputs": [
    {
     "data": {
      "text/plain": [
       "(7, 7)"
      ]
     },
     "execution_count": 17,
     "metadata": {},
     "output_type": "execute_result"
    }
   ],
   "source": [
    "dimensión = adjM2.shape\n",
    "dimensión"
   ]
  },
  {
   "cell_type": "code",
   "execution_count": 18,
   "id": "8825d3a7-14f3-421f-a089-8f7d0ad5a766",
   "metadata": {},
   "outputs": [
    {
     "name": "stdout",
     "output_type": "stream",
     "text": [
      "Número de vértices: 7\n"
     ]
    }
   ],
   "source": [
    "#2) Conjunto de vértices \n",
    "print(\"Número de vértices:\", G2.number_of_nodes())"
   ]
  },
  {
   "cell_type": "code",
   "execution_count": 19,
   "id": "1442b19c-5ec1-41d3-8221-f3c22f2be4b9",
   "metadata": {},
   "outputs": [
    {
     "name": "stdout",
     "output_type": "stream",
     "text": [
      "Número de lados: 12\n"
     ]
    }
   ],
   "source": [
    "#3) Conjunto de lados \n",
    "print(\"Número de lados:\", G2.number_of_edges())"
   ]
  },
  {
   "cell_type": "markdown",
   "id": "e1de535c-74ac-4e46-ae38-56a9ac19b11b",
   "metadata": {},
   "source": [
    "4) Lados Paralelos: 4\n",
    "5) Lazos o Ciclos: 3\n",
    "6) Vértices aislados: 0\n",
    "7) ¿Es un Grafo simple? No, porque tiene ciclos.\n",
    "8) ¿Es un grafo conexo? Si porque todos los vértices se conectan."
   ]
  },
  {
   "cell_type": "code",
   "execution_count": 21,
   "id": "57b37a0c-726d-4acd-8252-c59f0afa90ba",
   "metadata": {},
   "outputs": [
    {
     "name": "stdout",
     "output_type": "stream",
     "text": [
      "Grado del nodo Cali : 4\n",
      "Grado del nodo Medellin : 4\n",
      "Grado del nodo Bogota : 3\n",
      "Grado del nodo Buga : 4\n",
      "Grado del nodo Sincelejo : 2\n",
      "Grado del nodo Tulua : 4\n",
      "Grado del nodo Cucuta : 3\n"
     ]
    }
   ],
   "source": [
    "#9) Grado de cada vértice \n",
    "nombres = (\"Cali\", \"Medellin\", \"Bogota\", \"Buga\", \"Sincelejo\", \"Tulua\", \"Cucuta\")\n",
    "\n",
    "for nodo_id in nombres:\n",
    "    grado = G2.degree[nodo_id]\n",
    "    print(\"Grado del nodo\", nodo_id, \":\", grado)"
   ]
  },
  {
   "cell_type": "code",
   "execution_count": 22,
   "id": "40656b53-6350-4d74-8264-23db5da975a5",
   "metadata": {},
   "outputs": [
    {
     "name": "stdout",
     "output_type": "stream",
     "text": [
      "Suma total de los grados del grafo: 24\n"
     ]
    }
   ],
   "source": [
    "# 10) Grado total de G1 \n",
    "suma_grados = sum(dict(G2.degree()).values())\n",
    "print(\"Suma total de los grados del grafo:\", suma_grados)"
   ]
  },
  {
   "cell_type": "code",
   "execution_count": 23,
   "id": "cc78fd9b-ce4a-4df1-a8c8-b0ee6ac2b86f",
   "metadata": {},
   "outputs": [
    {
     "data": {
      "text/plain": [
       "False"
      ]
     },
     "execution_count": 23,
     "metadata": {},
     "output_type": "execute_result"
    }
   ],
   "source": [
    "#11) ¿Tiene un circuito de Euler?\n",
    "nx.is_eulerian(G2) #No todos los grados de los vértices son pares."
   ]
  },
  {
   "cell_type": "code",
   "execution_count": null,
   "id": "155def3d-3064-4718-9718-25334a475fd6",
   "metadata": {},
   "outputs": [],
   "source": []
  }
 ],
 "metadata": {
  "kernelspec": {
   "display_name": "Python 3 (ipykernel)",
   "language": "python",
   "name": "python3"
  },
  "language_info": {
   "codemirror_mode": {
    "name": "ipython",
    "version": 3
   },
   "file_extension": ".py",
   "mimetype": "text/x-python",
   "name": "python",
   "nbconvert_exporter": "python",
   "pygments_lexer": "ipython3",
   "version": "3.12.7"
  }
 },
 "nbformat": 4,
 "nbformat_minor": 5
}
