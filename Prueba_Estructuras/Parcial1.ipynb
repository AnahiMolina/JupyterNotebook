{
 "cells": [
  {
   "cell_type": "markdown",
   "id": "628b3e06-7ddc-4138-a2c6-989e96d3a78d",
   "metadata": {},
   "source": [
    "# Ejercicio 1"
   ]
  },
  {
   "cell_type": "code",
   "execution_count": 55,
   "id": "e86a5156-b98b-4597-8736-a6a800b44a81",
   "metadata": {},
   "outputs": [],
   "source": [
    "#  Crear una clase  class MyLinkedList mediante Collections.deque que incluya los métodos: append, appendleft, clear, insert, pop, popleft. \n",
    "from collections import deque\n",
    "from queue import Queue\n",
    "import numpy as np\n",
    "\n",
    "class MyLinkedList:\n",
    "    def __init__(self):\n",
    "        self.deque = []\n",
    "        \n",
    "    def append(self, data):\n",
    "        self.deque.append(data)\n",
    "        \n",
    "    def appendleft(self,data):\n",
    "        self.deque.insert(0,data)\n",
    "        \n",
    "    def clear(self):\n",
    "        self.deque.clear()\n",
    "        \n",
    "    def insert(self,pos,data):\n",
    "        self.deque.insert(pos,data)\n",
    "        \n",
    "    def pop(self):\n",
    "        self.deque.pop()\n",
    "        \n",
    "    def popleft(self):\n",
    "        self.deque.pop(0)"
   ]
  },
  {
   "cell_type": "code",
   "execution_count": 53,
   "id": "a830ec15-0f16-41dc-8adb-52aa6650f5ec",
   "metadata": {},
   "outputs": [],
   "source": [
    "#1. A partir de MyLinkedList, usa el método adecuado para crear una lista enlazada 𝐋𝟏 agregando los números enteros consecutivos del 1 al 50.  \n",
    "L1 = MyLinkedList()\n",
    "for i in range (1,51):\n",
    "    L1.append(i)"
   ]
  },
  {
   "cell_type": "code",
   "execution_count": 57,
   "id": "d0c76417-de92-4fb4-badd-4cec525af74c",
   "metadata": {},
   "outputs": [
    {
     "name": "stdout",
     "output_type": "stream",
     "text": [
      "<__main__.MyLinkedList object at 0x000001213DEC1010>\n"
     ]
    }
   ],
   "source": [
    "print (L1)"
   ]
  },
  {
   "cell_type": "code",
   "execution_count": 4,
   "id": "6bd57c4e-3cd5-47c6-816f-7348c480c291",
   "metadata": {},
   "outputs": [],
   "source": [
    "#2. Agregar a la izquierda de 𝐋𝟏 los números consecutivos entre [ -1 y -50] \n",
    "for i in range(-49,0):\n",
    "    L1.appendleft(i)"
   ]
  },
  {
   "cell_type": "code",
   "execution_count": 5,
   "id": "cf27da75-a227-4669-bffe-74b868088758",
   "metadata": {},
   "outputs": [],
   "source": [
    "#3. Insertar el valor cero [0] en la posición adecuada de 𝐋𝟏 para completar la lista de números ordenados de menor a mayor. \n",
    "L1.insert(0,0)"
   ]
  },
  {
   "cell_type": "code",
   "execution_count": 6,
   "id": "cf466758-74cd-44c3-b74c-7d70704a8d15",
   "metadata": {},
   "outputs": [],
   "source": [
    "#4. Regresa y elimina, el último elemento de la derecha de 𝐋𝟏 y el último elemento de la izquierda de 𝐋𝟏. \n",
    "L1.pop()"
   ]
  },
  {
   "cell_type": "code",
   "execution_count": 7,
   "id": "33423f63-9ba6-4c8a-be4f-dc3ac0d29536",
   "metadata": {},
   "outputs": [],
   "source": [
    "L1.popleft()"
   ]
  },
  {
   "cell_type": "code",
   "execution_count": 8,
   "id": "76c73678-d92a-4d1a-9bce-088c23899689",
   "metadata": {},
   "outputs": [],
   "source": [
    "#5. Elimina todos los elementos de 𝐋𝟏.\n",
    "L1.clear()"
   ]
  },
  {
   "cell_type": "markdown",
   "id": "59894456-3323-47db-b5e4-21983fa770ee",
   "metadata": {},
   "source": [
    "# Ejercicio 2"
   ]
  },
  {
   "cell_type": "code",
   "execution_count": 10,
   "id": "fe69f937-5bfa-4c60-88b3-564bf3ec5427",
   "metadata": {},
   "outputs": [],
   "source": [
    "class MyQueue():\n",
    "    def __init__(self,n):\n",
    "        self.elements = Queue(maxsize=n)\n",
    "\n",
    "    def enqueue(self, element):\n",
    "        self.elements.put(element)\n",
    "\n",
    "    def dequeue(self):\n",
    "        return self.elements.get()\n",
    "\n",
    "    def full(self):\n",
    "        return self.elements.full()\n",
    "\n",
    "    def empty(self):\n",
    "        return self.elements.empty()\n",
    "        \n",
    "    def qsize(self):\n",
    "        return self.elements.qsize()"
   ]
  },
  {
   "cell_type": "code",
   "execution_count": 11,
   "id": "8e3ba5cf-1ab3-4121-9fd8-7a68533073ca",
   "metadata": {},
   "outputs": [],
   "source": [
    "# crear una cola Q1 de tamaño 50 añadiendo (enqueue) los números aleatorios de una distribución uniforme [−𝟏𝟎,𝟏𝟎] sin decimales. \n",
    "# Usar una semilla= (últimos tres dígitos de tu matrícula).\n",
    "Q1 = MyQueue(50)\n",
    "q1 = np.around(np.random.default_rng(500).uniform(-10,10,50))"
   ]
  },
  {
   "cell_type": "code",
   "execution_count": 12,
   "id": "c56d6326-c649-4c47-9e36-79fa74de9383",
   "metadata": {},
   "outputs": [],
   "source": [
    "for i in range(50):\n",
    "    Q1.enqueue(q1[i])"
   ]
  },
  {
   "cell_type": "code",
   "execution_count": 13,
   "id": "3971d81d-860f-44e6-b9cd-f7d6a8ebdcb1",
   "metadata": {},
   "outputs": [
    {
     "data": {
      "text/plain": [
       "True"
      ]
     },
     "execution_count": 13,
     "metadata": {},
     "output_type": "execute_result"
    }
   ],
   "source": [
    "# 1. Verificar si la cola 𝑸𝟏 está llena (full). \n",
    "Q1.full()"
   ]
  },
  {
   "cell_type": "code",
   "execution_count": 14,
   "id": "fa2963cd-b0f4-4991-857d-ff90fee5b993",
   "metadata": {
    "scrolled": true
   },
   "outputs": [
    {
     "name": "stdout",
     "output_type": "stream",
     "text": [
      "1.0\n",
      "7.0\n",
      "3.0\n",
      "-2.0\n",
      "-1.0\n",
      "6.0\n",
      "-4.0\n",
      "6.0\n",
      "-1.0\n",
      "-5.0\n",
      "-1.0\n",
      "8.0\n",
      "1.0\n",
      "1.0\n",
      "-4.0\n",
      "7.0\n",
      "-5.0\n",
      "6.0\n",
      "-8.0\n",
      "-1.0\n"
     ]
    }
   ],
   "source": [
    "# 2. Eliminar (dequeue) 20 números de la cola 𝑸𝟏. \n",
    "for i in range(20):\n",
    "    print(Q1.dequeue())"
   ]
  },
  {
   "cell_type": "code",
   "execution_count": 15,
   "id": "0355f3e4-537a-4343-a2f0-99694a98d3c2",
   "metadata": {},
   "outputs": [
    {
     "data": {
      "text/plain": [
       "30"
      ]
     },
     "execution_count": 15,
     "metadata": {},
     "output_type": "execute_result"
    }
   ],
   "source": [
    "# 3. Devolver el número de elementos (qsize) en la cola 𝑸𝟏. \n",
    "Q1.qsize()"
   ]
  },
  {
   "cell_type": "code",
   "execution_count": 16,
   "id": "58c9eed3-739e-4cf8-bf62-a0d73d1d1a99",
   "metadata": {
    "scrolled": true
   },
   "outputs": [
    {
     "name": "stdout",
     "output_type": "stream",
     "text": [
      "-3.0\n",
      "0.0\n",
      "-3.0\n",
      "-1.0\n",
      "-6.0\n",
      "-5.0\n",
      "-0.0\n",
      "-5.0\n",
      "-0.0\n",
      "3.0\n",
      "9.0\n",
      "7.0\n",
      "3.0\n",
      "2.0\n",
      "9.0\n",
      "8.0\n",
      "-9.0\n",
      "-0.0\n",
      "7.0\n",
      "7.0\n",
      "-4.0\n",
      "-8.0\n",
      "-2.0\n",
      "-4.0\n",
      "-0.0\n",
      "-4.0\n",
      "6.0\n",
      "3.0\n",
      "-8.0\n",
      "-3.0\n"
     ]
    }
   ],
   "source": [
    "# 4. Eliminar los elementos restantes de la cola 𝑸𝟏 para dejarla vacía. \n",
    "for i in range(30):\n",
    "    print(Q1.dequeue())"
   ]
  },
  {
   "cell_type": "code",
   "execution_count": 17,
   "id": "d660ddee-600d-48fe-af07-b195ff5340b3",
   "metadata": {},
   "outputs": [
    {
     "data": {
      "text/plain": [
       "True"
      ]
     },
     "execution_count": 17,
     "metadata": {},
     "output_type": "execute_result"
    }
   ],
   "source": [
    "# 5. Verificar que la cola 𝑸𝟏 está vacía. \n",
    "Q1.empty()"
   ]
  },
  {
   "cell_type": "markdown",
   "id": "1c83b1a4-3833-4dce-bebd-cc7dd783d670",
   "metadata": {},
   "source": [
    "# Ejercicio 3"
   ]
  },
  {
   "cell_type": "code",
   "execution_count": 19,
   "id": "db29b7b8-bf1f-4bfa-93da-d5fe6816ad25",
   "metadata": {},
   "outputs": [],
   "source": [
    "class MyStack:\n",
    "    def __init__(self):\n",
    "        self.stack=[]\n",
    "    def push (self, data):\n",
    "        self.stack.append(data)\n",
    "        print(self.stack)\n",
    "    def pop (self):\n",
    "        self.stack.pop()\n",
    "        print(self.stack)\n",
    "    def empty (self):\n",
    "        if len(self.stack)==0: \n",
    "            print(\"Empty Stack\")\n",
    "        else: \n",
    "            print(\"No Empty Stack\")\n",
    "    def size (self):\n",
    "        return len(self.stack)\n",
    "    def top (self):\n",
    "        return(self.stack[-1])"
   ]
  },
  {
   "cell_type": "code",
   "execution_count": 20,
   "id": "a4ec7919-89e9-4e0b-b03a-2f08c0df1ec6",
   "metadata": {},
   "outputs": [],
   "source": [
    "# crear una pila 𝑺𝟏 de tamaño 20, con números aleatorios de una distribución normal (𝝁 = 𝟏𝟎,𝝈𝟐 = 𝟏𝟎𝟎); usar una cifra decimal y \n",
    "# una semilla= (últimos tres dígitos de tu matrícula). \n",
    "\n",
    "S1 = MyStack()\n",
    "s1 = np.around(np.random.default_rng(500).normal(10, 10, 20),1)"
   ]
  },
  {
   "cell_type": "code",
   "execution_count": 21,
   "id": "3caa1e41-f59e-4a2c-8ddb-2f55c6813d56",
   "metadata": {
    "scrolled": true
   },
   "outputs": [
    {
     "name": "stdout",
     "output_type": "stream",
     "text": [
      "[17.0]\n",
      "[17.0, 1.3]\n",
      "[17.0, 1.3, 7.1]\n",
      "[17.0, 1.3, 7.1, 16.3]\n",
      "[17.0, 1.3, 7.1, 16.3, 29.4]\n",
      "[17.0, 1.3, 7.1, 16.3, 29.4, -3.9]\n",
      "[17.0, 1.3, 7.1, 16.3, 29.4, -3.9, -1.5]\n",
      "[17.0, 1.3, 7.1, 16.3, 29.4, -3.9, -1.5, 13.6]\n",
      "[17.0, 1.3, 7.1, 16.3, 29.4, -3.9, -1.5, 13.6, -2.4]\n",
      "[17.0, 1.3, 7.1, 16.3, 29.4, -3.9, -1.5, 13.6, -2.4, -2.5]\n",
      "[17.0, 1.3, 7.1, 16.3, 29.4, -3.9, -1.5, 13.6, -2.4, -2.5, 18.5]\n",
      "[17.0, 1.3, 7.1, 16.3, 29.4, -3.9, -1.5, 13.6, -2.4, -2.5, 18.5, 11.4]\n",
      "[17.0, 1.3, 7.1, 16.3, 29.4, -3.9, -1.5, 13.6, -2.4, -2.5, 18.5, 11.4, 2.1]\n",
      "[17.0, 1.3, 7.1, 16.3, 29.4, -3.9, -1.5, 13.6, -2.4, -2.5, 18.5, 11.4, 2.1, 12.3]\n",
      "[17.0, 1.3, 7.1, 16.3, 29.4, -3.9, -1.5, 13.6, -2.4, -2.5, 18.5, 11.4, 2.1, 12.3, 6.9]\n",
      "[17.0, 1.3, 7.1, 16.3, 29.4, -3.9, -1.5, 13.6, -2.4, -2.5, 18.5, 11.4, 2.1, 12.3, 6.9, 2.9]\n",
      "[17.0, 1.3, 7.1, 16.3, 29.4, -3.9, -1.5, 13.6, -2.4, -2.5, 18.5, 11.4, 2.1, 12.3, 6.9, 2.9, -13.5]\n",
      "[17.0, 1.3, 7.1, 16.3, 29.4, -3.9, -1.5, 13.6, -2.4, -2.5, 18.5, 11.4, 2.1, 12.3, 6.9, 2.9, -13.5, 17.2]\n",
      "[17.0, 1.3, 7.1, 16.3, 29.4, -3.9, -1.5, 13.6, -2.4, -2.5, 18.5, 11.4, 2.1, 12.3, 6.9, 2.9, -13.5, 17.2, 2.6]\n",
      "[17.0, 1.3, 7.1, 16.3, 29.4, -3.9, -1.5, 13.6, -2.4, -2.5, 18.5, 11.4, 2.1, 12.3, 6.9, 2.9, -13.5, 17.2, 2.6, 7.8]\n"
     ]
    }
   ],
   "source": [
    "for i in range(20):\n",
    "    S1.push(s1[i])"
   ]
  },
  {
   "cell_type": "code",
   "execution_count": 22,
   "id": "593d165d-2455-4f9f-be36-0804ca863bdd",
   "metadata": {},
   "outputs": [
    {
     "data": {
      "text/plain": [
       "7.8"
      ]
     },
     "execution_count": 22,
     "metadata": {},
     "output_type": "execute_result"
    }
   ],
   "source": [
    "# 1. Identificar el dato en el tope (cima) de la pila 𝑺𝟏. \n",
    "S1.top()"
   ]
  },
  {
   "cell_type": "code",
   "execution_count": 23,
   "id": "4969d73b-c29a-40f2-8f2b-042508deb344",
   "metadata": {},
   "outputs": [
    {
     "name": "stdout",
     "output_type": "stream",
     "text": [
      "[17.0, 1.3, 7.1, 16.3, 29.4, -3.9, -1.5, 13.6, -2.4, -2.5, 18.5, 11.4, 2.1, 12.3, 6.9, 2.9, -13.5, 17.2, 2.6]\n",
      "[17.0, 1.3, 7.1, 16.3, 29.4, -3.9, -1.5, 13.6, -2.4, -2.5, 18.5, 11.4, 2.1, 12.3, 6.9, 2.9, -13.5, 17.2]\n",
      "[17.0, 1.3, 7.1, 16.3, 29.4, -3.9, -1.5, 13.6, -2.4, -2.5, 18.5, 11.4, 2.1, 12.3, 6.9, 2.9, -13.5]\n",
      "[17.0, 1.3, 7.1, 16.3, 29.4, -3.9, -1.5, 13.6, -2.4, -2.5, 18.5, 11.4, 2.1, 12.3, 6.9, 2.9]\n",
      "[17.0, 1.3, 7.1, 16.3, 29.4, -3.9, -1.5, 13.6, -2.4, -2.5, 18.5, 11.4, 2.1, 12.3, 6.9]\n",
      "[17.0, 1.3, 7.1, 16.3, 29.4, -3.9, -1.5, 13.6, -2.4, -2.5, 18.5, 11.4, 2.1, 12.3]\n",
      "[17.0, 1.3, 7.1, 16.3, 29.4, -3.9, -1.5, 13.6, -2.4, -2.5, 18.5, 11.4, 2.1]\n"
     ]
    }
   ],
   "source": [
    "# 2. Eliminar los últimos 7 números de la pila 𝑺𝟏 \n",
    "for i in range(7):\n",
    "    S1.pop()"
   ]
  },
  {
   "cell_type": "code",
   "execution_count": 24,
   "id": "090c22c2-d685-4f5f-b63a-14d9097f9ba6",
   "metadata": {},
   "outputs": [
    {
     "data": {
      "text/plain": [
       "13"
      ]
     },
     "execution_count": 24,
     "metadata": {},
     "output_type": "execute_result"
    }
   ],
   "source": [
    "# 3. Verificar la longitud de la pila 𝑺𝟏. \n",
    "S1.size()"
   ]
  },
  {
   "cell_type": "code",
   "execution_count": 25,
   "id": "883d36cf-b8e9-4af6-a021-3df7eef51a35",
   "metadata": {},
   "outputs": [
    {
     "name": "stdout",
     "output_type": "stream",
     "text": [
      "[17.0, 1.3, 7.1, 16.3, 29.4, -3.9, -1.5, 13.6, -2.4, -2.5, 18.5, 11.4]\n",
      "[17.0, 1.3, 7.1, 16.3, 29.4, -3.9, -1.5, 13.6, -2.4, -2.5, 18.5]\n",
      "[17.0, 1.3, 7.1, 16.3, 29.4, -3.9, -1.5, 13.6, -2.4, -2.5]\n",
      "[17.0, 1.3, 7.1, 16.3, 29.4, -3.9, -1.5, 13.6, -2.4]\n",
      "[17.0, 1.3, 7.1, 16.3, 29.4, -3.9, -1.5, 13.6]\n",
      "[17.0, 1.3, 7.1, 16.3, 29.4, -3.9, -1.5]\n",
      "[17.0, 1.3, 7.1, 16.3, 29.4, -3.9]\n",
      "[17.0, 1.3, 7.1, 16.3, 29.4]\n",
      "[17.0, 1.3, 7.1, 16.3]\n",
      "[17.0, 1.3, 7.1]\n",
      "[17.0, 1.3]\n",
      "[17.0]\n",
      "[]\n"
     ]
    }
   ],
   "source": [
    "# 4. Eliminar los datos restantes para limpiar la pila 𝑺𝟏. \n",
    "for i in range(13):\n",
    "    S1.pop()"
   ]
  },
  {
   "cell_type": "code",
   "execution_count": 26,
   "id": "8b1f3513-90bd-49f5-9628-b6e6cb16ca2b",
   "metadata": {},
   "outputs": [
    {
     "name": "stdout",
     "output_type": "stream",
     "text": [
      "Empty Stack\n"
     ]
    }
   ],
   "source": [
    "# 5. Verificar si la pila 𝑺𝟏 está vacía.\n",
    "S1.empty()"
   ]
  },
  {
   "cell_type": "code",
   "execution_count": null,
   "id": "7d368bd6-eabb-42e7-be49-1028ed43eb84",
   "metadata": {},
   "outputs": [],
   "source": []
  }
 ],
 "metadata": {
  "kernelspec": {
   "display_name": "Python 3 (ipykernel)",
   "language": "python",
   "name": "python3"
  },
  "language_info": {
   "codemirror_mode": {
    "name": "ipython",
    "version": 3
   },
   "file_extension": ".py",
   "mimetype": "text/x-python",
   "name": "python",
   "nbconvert_exporter": "python",
   "pygments_lexer": "ipython3",
   "version": "3.12.7"
  }
 },
 "nbformat": 4,
 "nbformat_minor": 5
}
